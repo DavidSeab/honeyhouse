{
 "cells": [
  {
   "cell_type": "markdown",
   "metadata": {},
   "source": [
    "# <font face='微软雅黑'>简介</font><a name='1'></a>\n",
    "\n",
    "**NumPy** 是 **Num**erical **Py**thon 的缩写，顾名思义它是 Python 专门处理数组 (array) 的计算的工具包。其官网为 www.numpy.org\n",
    "\n",
    "在使用 numpy 之前，需要引进它，语法如下："
   ]
  },
  {
   "cell_type": "code",
   "execution_count": 1,
   "metadata": {
    "ExecuteTime": {
     "end_time": "2022-03-07T14:27:28.363091Z",
     "start_time": "2022-03-07T14:27:28.346090Z"
    }
   },
   "outputs": [
    {
     "data": {
      "text/plain": [
       "'1.20.3'"
      ]
     },
     "execution_count": 1,
     "metadata": {},
     "output_type": "execute_result"
    }
   ],
   "source": [
    "import numpy\n",
    "numpy.__version__"
   ]
  },
  {
   "cell_type": "markdown",
   "metadata": {},
   "source": [
    "这样就可以用 numpy 里面所有的内置方法 (build-in methods) 了，比如求和 `numpy.sum()` 与均值 `numpy.mean()`。\n",
    "\n",
    "但这样每次写 numpy 字数有点多，通常给 numpy 起个别名 np，语法如下："
   ]
  },
  {
   "cell_type": "code",
   "execution_count": 2,
   "metadata": {
    "ExecuteTime": {
     "end_time": "2022-03-07T14:27:30.299006Z",
     "start_time": "2022-03-07T14:27:30.281084Z"
    }
   },
   "outputs": [],
   "source": [
    "import numpy as np"
   ]
  },
  {
   "cell_type": "markdown",
   "metadata": {},
   "source": [
    "这样所有出现 numpy 的地方都可以用 np 替代，上面的求和、均值可写成 `np.sum()` 和 `np.mean()`。"
   ]
  },
  {
   "cell_type": "markdown",
   "metadata": {},
   "source": [
    "数组是相同类型的元素的集合所组成数据结构。numpy 数组中的元素用的最多是**数值型**元素，平时我们说的一维、二维、三维数组长对应着线、面、体。提到数组，大家能想象它们的样子如下：\n",
    "\n",
    "## 数组想象中的样子\n",
    "\n",
    "\n",
    "<img src=\"array.png\" style=\"width:600px height:300px;\">"
   ]
  },
  {
   "cell_type": "markdown",
   "metadata": {},
   "source": [
    "但是数组只可能以**平面形式**打印出来，比如在这个 Notebook 肯定是以二维平面的形式展示出来，那么高于二维的数组的表现形式有些不同。\n",
    "\n",
    "##  数组打印出的样子\n",
    "\n",
    "<img src=\"numpy array printed.png\" style=\"width:600px height:300px;\">\n",
    "\n",
    "分析上图各个数组的在不同维度上的元素：\n",
    "\n",
    "- 一维数组：\n",
    "    - 轴 0 有 3 个元素\n",
    "    \n",
    "    \n",
    "- 二维数组\n",
    "    - 轴 0 有 2 个元素\n",
    "    - 轴 1 有 3 个元素\n",
    "    \n",
    "    \n",
    "- 三维数组：\n",
    "    - 轴 0 有 2 个元素 (2 块)\n",
    "    - 轴 1 有 2 个元素\n",
    "    - 轴 2 有 3 个元素"
   ]
  },
  {
   "cell_type": "markdown",
   "metadata": {},
   "source": [
    "## 数组内存里的样子\n",
    "\n",
    "但是数组的真面目不是你们想象的样子，也不是打印出来的样子。数组本质上是**计算机里一个连续的一维内存块 (1D memory)，由一套索引方案 (indexing scheme) 和数据类型 (data type) 来定义**。因此\n",
    "\n",
    "    数组 = 内存块 + 索引方案 + 数据类型\n",
    "\n",
    "其中\n",
    "\n",
    "- **内存块**是**原始**数组数据\n",
    "- **索引方案**用来**定位**数组中的元素\n",
    "- **数据类型**用来**描述**数组中的元素\n",
    "\n",
    "<img src=\"pyarrayobject.png\" style=\"width:800px; height:350px;\">\n",
    "\n",
    "***\n",
    "下面三图总结一、二、三维数组想像中的样子、打印出的样子和内存里的样子。\n",
    "\n",
    "<img src=\"1d ndarray.PNG\" style=\"width:720px; height:360px;\">\n",
    "\n",
    "***\n",
    "<img src=\"2d ndarray.PNG\" style=\"width:800px; height:400px;\">\n",
    "\n",
    "***\n",
    "<img src=\"3d ndarray.PNG\" style=\"width:800px; height:400px;\">"
   ]
  },
  {
   "cell_type": "markdown",
   "metadata": {},
   "source": [
    "## 对比 numpy 数组和列表\n",
    "\n",
    "为什么要专门学习数组呢？看下面 **numpy 数组**和**列表**之间的计算效率对比：两个大小都是 1000000，把每个元素翻倍，运行 10 次用 `%time` 记时。"
   ]
  },
  {
   "cell_type": "code",
   "execution_count": 3,
   "metadata": {
    "ExecuteTime": {
     "end_time": "2022-03-07T14:30:45.654452Z",
     "start_time": "2022-03-07T14:30:44.748069Z"
    }
   },
   "outputs": [
    {
     "name": "stdout",
     "output_type": "stream",
     "text": [
      "Wall time: 874 ms\n"
     ]
    }
   ],
   "source": [
    "%%time\n",
    "lst = list(range(1000000))\n",
    "for _ in range(10): \n",
    "    my_list = [x * 2 for x in lst]"
   ]
  },
  {
   "cell_type": "code",
   "execution_count": 4,
   "metadata": {
    "ExecuteTime": {
     "end_time": "2022-03-07T14:30:46.113453Z",
     "start_time": "2022-03-07T14:30:46.071455Z"
    }
   },
   "outputs": [
    {
     "name": "stdout",
     "output_type": "stream",
     "text": [
      "Wall time: 29 ms\n"
     ]
    }
   ],
   "source": [
    "%%time\n",
    "arr = numpy.arange(1000000)\n",
    "for _ in range(10): \n",
    "    my_arr = arr * 2"
   ]
  },
  {
   "cell_type": "markdown",
   "metadata": {},
   "source": [
    "我们发现 **numpy 数组** 效率是**列表**效率的 20-30 倍左右。如果元素全是数值型变量 (numerical variable)，那么 numpy 数组是个很好的数据结构。"
   ]
  },
  {
   "cell_type": "markdown",
   "metadata": {},
   "source": [
    "# <font  face='微软雅黑'>数组的创建</font><a name='2'></a>\n",
    "\n",
    "带着上面这个对轴的认识，接下来创建 numpy 数组，有三种方式：\n",
    "\n",
    "- 按步就班的 `np.array()` 用在列表和元组上 \n",
    "- 定隔定点的 `np.arange()` 和 `np.linspace()`\n",
    "- 一步登天的 `np.ones()`, `np.zeros()`, `np.eye()` 和 `np.random.random()`\n",
    "\n",
    "## <font color='#2b4750' face='微软雅黑'>一维数组</font><a name='2.1'></a>\n",
    "\n",
    "用「列表」和「元组」当“原材料”，用**按步就班**的 `np.array()` 将它们转换成 numpy 数组。"
   ]
  },
  {
   "cell_type": "code",
   "execution_count": 5,
   "metadata": {
    "ExecuteTime": {
     "end_time": "2022-03-07T14:31:26.919458Z",
     "start_time": "2022-03-07T14:31:26.901457Z"
    }
   },
   "outputs": [
    {
     "name": "stdout",
     "output_type": "stream",
     "text": [
      "arrL = [3 5 2 8 4]\n",
      "arrT = [4 8 2 5 3]\n"
     ]
    }
   ],
   "source": [
    "l = [3, 5, 2, 8, 4]\n",
    "t = (4, 8, 2, 5, 3)\n",
    "\n",
    "arrL = np.array(l)\n",
    "arrT = np.array(t)\n",
    "\n",
    "print( \"arrL =\", arrL )\n",
    "print( \"arrT =\", arrT )"
   ]
  },
  {
   "cell_type": "markdown",
   "metadata": {},
   "source": [
    "Python 里万物皆对象 (everything is object)，只要是对象都会有字段 (fields) 和方法 (methods)，Numpy 数组也不例外。"
   ]
  },
  {
   "cell_type": "code",
   "execution_count": 6,
   "metadata": {
    "ExecuteTime": {
     "end_time": "2022-03-07T14:31:29.009081Z",
     "start_time": "2022-03-07T14:31:28.987083Z"
    }
   },
   "outputs": [
    {
     "name": "stdout",
     "output_type": "stream",
     "text": [
      "The type is <class 'numpy.ndarray'>\n",
      "The dimension is 1\n",
      "The length of array is 5\n",
      "The number of elements is 5\n",
      "The shape of array is (5,)\n",
      "The type of elements is float64\n",
      "The item size of float64 is 8\n",
      "The stride of array is (8,)\n"
     ]
    }
   ],
   "source": [
    "L = [3.5, 5, 2, 8, 4.2]\n",
    "arr = np.array(L)\n",
    "\n",
    "print( 'The type is', type(arr) )                #数组类型，当然是 numpy.ndarray\n",
    "print( 'The dimension is', arr.ndim )            #维度个数是 1\n",
    "print( 'The length of array is', len(arr) )      #数组长度为 5 (这个说法只对一维数组有意义)\n",
    "print( 'The number of elements is', arr.size )   #数组元素个数为 5\n",
    "print( 'The shape of array is', arr.shape )      #数组形状，即每个维度的元素个数，只有一维，元素个数为 5，用元组来表示 (5,)\n",
    "print( 'The type of elements is', arr.dtype )    #数组元素类型，是双精度浮点 (注意和 type 区分)\n",
    "print( 'The item size of', arr.dtype, 'is', arr.itemsize ) # 每项占用的字节数，float64有64 位(bits)，占内存8个字节(byte)\n",
    "print( 'The stride of array is', arr.strides )   #跨度，即在某一维度下为了获取到下一个元素需要「跨过」的字节数，8个字节数"
   ]
  },
  {
   "cell_type": "markdown",
   "metadata": {},
   "source": [
    "更常见的两种创建 numpy 数组方法：\n",
    "\n",
    "1.\t定隔用 `arange()` 函数：即固定数组中元素之间的**间隔**\n",
    "2.\t定点用 `linspace()` 函数：即固定数组中元素**个数**\n",
    "\n",
    "先看用 `arange()` 函数生成 numpy 数组的例子："
   ]
  },
  {
   "cell_type": "code",
   "execution_count": 7,
   "metadata": {
    "ExecuteTime": {
     "end_time": "2022-03-07T14:31:35.156909Z",
     "start_time": "2022-03-07T14:31:35.146914Z"
    }
   },
   "outputs": [
    {
     "name": "stdout",
     "output_type": "stream",
     "text": [
      "[0 1 2 3 4 5 6 7]\n",
      "[2 3 4 5 6 7]\n",
      "[2 4 6]\n"
     ]
    }
   ],
   "source": [
    "print( np.arange(8) )\n",
    "print( np.arange(2,8) )\n",
    "print( np.arange(2,8,2))"
   ]
  },
  {
   "cell_type": "markdown",
   "metadata": {},
   "source": [
    "`arange()` 函数有三个参数，分别为起点、终点,、步长\n",
    "\n",
    "\tarange(start, stop, step)\n",
    "\n",
    "其中\n",
    "- 参数 `stop` 必须要设置。\n",
    "- 参数 `start` 在没设置时默认为 0。\n",
    "- 参数 `step` 在没设置时默认为 1。\n",
    "\n",
    "**注：用 `print()` 函数打印 numpy 数组就没有 `array()` 的字样了，只显示内容，而且元素之间的逗号也没有了。**"
   ]
  },
  {
   "cell_type": "code",
   "execution_count": 8,
   "metadata": {
    "ExecuteTime": {
     "end_time": "2022-03-07T14:31:37.168627Z",
     "start_time": "2022-03-07T14:31:37.146706Z"
    }
   },
   "outputs": [
    {
     "name": "stdout",
     "output_type": "stream",
     "text": [
      "[2 4 6]\n"
     ]
    },
    {
     "data": {
      "text/plain": [
       "array([2, 4, 6])"
      ]
     },
     "execution_count": 8,
     "metadata": {},
     "output_type": "execute_result"
    }
   ],
   "source": [
    "print( np.arange(2,8,2) )\n",
    "np.arange(2,8,2)"
   ]
  },
  {
   "cell_type": "markdown",
   "metadata": {},
   "source": [
    "再看用 `linspace()` 函数生成 numpy 数组的例子："
   ]
  },
  {
   "cell_type": "code",
   "execution_count": 9,
   "metadata": {
    "ExecuteTime": {
     "end_time": "2022-03-07T14:31:43.178129Z",
     "start_time": "2022-03-07T14:31:43.162171Z"
    }
   },
   "outputs": [
    {
     "name": "stdout",
     "output_type": "stream",
     "text": [
      "[2. 4. 6.]\n",
      "[3.  3.5 4.  4.5 5.  5.5 6.  6.5 7.  7.5 8. ]\n"
     ]
    }
   ],
   "source": [
    "print( np.linspace(2,6,3) )\n",
    "print( np.linspace(3,8,11) )"
   ]
  },
  {
   "cell_type": "markdown",
   "metadata": {},
   "source": [
    "`linspace()` 函数有三个参数，分别为起点、终点、点数\n",
    "\n",
    "\tlinspace(start, stop, num)\n",
    "\n",
    "其中\n",
    "\n",
    "- 参数 `start`和 `stop` 必须要设置。\n",
    "- 参数 `num` 没有设置就默认为 50。"
   ]
  },
  {
   "cell_type": "markdown",
   "metadata": {},
   "source": [
    "## 二维数组\n",
    "\n",
    "用按步就班法的 `np.array()` 加上二维列表生成二维数组 `arr2d`"
   ]
  },
  {
   "cell_type": "code",
   "execution_count": 10,
   "metadata": {
    "ExecuteTime": {
     "end_time": "2022-03-07T14:31:57.725439Z",
     "start_time": "2022-03-07T14:31:57.707394Z"
    }
   },
   "outputs": [
    {
     "name": "stdout",
     "output_type": "stream",
     "text": [
      "[[1 2 3]\n",
      " [4 5 6]]\n"
     ]
    }
   ],
   "source": [
    "L2 = [[1, 2, 3], [4, 5, 6]]\n",
    "arr2d = np.array(L2)\n",
    "print(arr2d)"
   ]
  },
  {
   "cell_type": "markdown",
   "metadata": {},
   "source": [
    "NumPy 还提供一次性的创建数组的函数，如\n",
    "\n",
    "- 用 `zeros()` 创建元素全是 0 的数组\n",
    "- 用 `ones()` 创建元素全是 1 的数组\n",
    "- 用 `random()` 创建随机元素的数组\n",
    "- 用 `eye()` 创建对角线都是 1 其他元素都是 0 的二维数组\n",
    " \n",
    "对于前三个函数，它们的参数是一个**标量**或**元组**，对于函数 `eye()`，它的参数就是一个标量 (同时代表行列数) 或两个标量 (分别代表行列数)。"
   ]
  },
  {
   "cell_type": "code",
   "execution_count": 11,
   "metadata": {
    "ExecuteTime": {
     "end_time": "2022-03-07T14:32:00.069905Z",
     "start_time": "2022-03-07T14:32:00.057906Z"
    }
   },
   "outputs": [
    {
     "data": {
      "text/plain": [
       "array([0., 0., 0., 0., 0., 0., 0., 0., 0., 0.])"
      ]
     },
     "execution_count": 11,
     "metadata": {},
     "output_type": "execute_result"
    }
   ],
   "source": [
    "np.zeros(10)"
   ]
  },
  {
   "cell_type": "code",
   "execution_count": 12,
   "metadata": {
    "ExecuteTime": {
     "end_time": "2022-03-07T14:32:01.531497Z",
     "start_time": "2022-03-07T14:32:01.518496Z"
    }
   },
   "outputs": [
    {
     "data": {
      "text/plain": [
       "array([[1., 1., 1.],\n",
       "       [1., 1., 1.]])"
      ]
     },
     "execution_count": 12,
     "metadata": {},
     "output_type": "execute_result"
    }
   ],
   "source": [
    "np.ones((2,3))"
   ]
  },
  {
   "cell_type": "code",
   "execution_count": 13,
   "metadata": {
    "ExecuteTime": {
     "end_time": "2022-03-07T14:32:03.181237Z",
     "start_time": "2022-03-07T14:32:03.150174Z"
    }
   },
   "outputs": [
    {
     "data": {
      "text/plain": [
       "array([[0.29720281, 0.84485041],\n",
       "       [0.90712453, 0.53081609]])"
      ]
     },
     "execution_count": 13,
     "metadata": {},
     "output_type": "execute_result"
    }
   ],
   "source": [
    "np.random.random((2,2))"
   ]
  },
  {
   "cell_type": "code",
   "execution_count": 14,
   "metadata": {
    "ExecuteTime": {
     "end_time": "2022-03-07T14:32:09.850260Z",
     "start_time": "2022-03-07T14:32:09.828260Z"
    }
   },
   "outputs": [
    {
     "data": {
      "text/plain": [
       "array([[1., 0., 0.],\n",
       "       [0., 1., 0.],\n",
       "       [0., 0., 1.]])"
      ]
     },
     "execution_count": 14,
     "metadata": {},
     "output_type": "execute_result"
    }
   ],
   "source": [
    "np.eye(3)"
   ]
  },
  {
   "cell_type": "code",
   "execution_count": 15,
   "metadata": {
    "ExecuteTime": {
     "end_time": "2022-03-07T14:32:10.689167Z",
     "start_time": "2022-03-07T14:32:10.677063Z"
    }
   },
   "outputs": [
    {
     "data": {
      "text/plain": [
       "array([[1., 0., 0., 0.],\n",
       "       [0., 1., 0., 0.],\n",
       "       [0., 0., 1., 0.]])"
      ]
     },
     "execution_count": 15,
     "metadata": {},
     "output_type": "execute_result"
    }
   ],
   "source": [
    "np.eye(3, 4)"
   ]
  },
  {
   "cell_type": "markdown",
   "metadata": {},
   "source": [
    "## 多维数组"
   ]
  },
  {
   "cell_type": "code",
   "execution_count": 16,
   "metadata": {},
   "outputs": [
    {
     "data": {
      "text/plain": [
       "array([[[[0.0673088 , 0.82107297, 0.33581019],\n",
       "         [0.66249686, 0.75981474, 0.6731257 ]],\n",
       "\n",
       "        [[0.71662313, 0.9495652 , 0.54358518],\n",
       "         [0.37513104, 0.86276272, 0.6358024 ]]],\n",
       "\n",
       "\n",
       "       [[[0.49942195, 0.1661961 , 0.21927883],\n",
       "         [0.62353985, 0.35996365, 0.76278327]],\n",
       "\n",
       "        [[0.17945747, 0.84373601, 0.48273859],\n",
       "         [0.45664334, 0.97140571, 0.35172057]]]])"
      ]
     },
     "execution_count": 16,
     "metadata": {},
     "output_type": "execute_result"
    }
   ],
   "source": [
    "arr4d = np.random.random( (2,2,2,3) )\n",
    "arr4d"
   ]
  },
  {
   "cell_type": "markdown",
   "metadata": {},
   "source": [
    "四维数组“**看上去的样子**”如下图所示，由于有 24 个元素，它“**内存中的样子**”很难呈现在一页纸上，但是可以想成是 24 个元素横着排列，然后有四个代表轴的指针，指向的点包含的元素乘以 8 字节 (因为是 float64)，就等于每个轴的跨度值。\n",
    "\n",
    "<img src=\"4d array.png\" style=\"width:600px height:300px;\">\n",
    "\n",
    "回顾跨度定义，即在某一维度下获取到下一个元素需要「跨过」的字节数。\n",
    "\n",
    "\n",
    "- 第一维度：沿着**轴 0** 获取下一个元素需要跨过 12 个元素，即 96 (12×8) 个字节\n",
    "- 第二维度：沿着**轴 1** 获取下一个元素需要跨过 6 个元素，即 48 (6×8) 个字节\n",
    "- 第三维度：沿着**轴 2** 获取下一个元素需要跨过 3 个元素，即 24 (3×8) 个字节\n",
    "- 第四维度：沿着**轴 3** 获取下一个元素需要跨过 1 个元素，即 8 (1×8) 个字节\n",
    "\n",
    "因此该四维数组的跨度为 (96, 48, 24, 8)。"
   ]
  },
  {
   "cell_type": "markdown",
   "metadata": {},
   "source": [
    "# 数组的存载\n",
    "\n",
    "存载包括**保存** (save) 和**加载** (load) numpy 数组：\n",
    "\n",
    "- 为下一次加载而储存\n",
    "- 从上一次存储来加载\n",
    "\n",
    "下面只用 csv 格式举例。 \n",
    "\n",
    "假设已经在 csv 文件里写进去了 [[1,2,3], [4,5,6]]，每行的元素是由「分号 ;」来分隔的。用 \n",
    "\n",
    "    np.genfromtxt( csv_file ) \n",
    "\n",
    "即可加载该文件。加载流程总结在下图。\n",
    "\n",
    "<img src=\"csv save and load.png\" style=\"width:600px; height:330px;\">"
   ]
  },
  {
   "cell_type": "code",
   "execution_count": 19,
   "metadata": {
    "ExecuteTime": {
     "end_time": "2022-03-07T14:34:22.179901Z",
     "start_time": "2022-03-07T14:34:22.159881Z"
    }
   },
   "outputs": [
    {
     "name": "stdout",
     "output_type": "stream",
     "text": [
      "[nan nan]\n"
     ]
    }
   ],
   "source": [
    "arr_ = np.genfromtxt('arr_csv.csv')\n",
    "print( arr_ )"
   ]
  },
  {
   "cell_type": "markdown",
   "metadata": {},
   "source": [
    "如果没有设置分隔符 `delimiter=';'`，那么 `genfromtxt()` 函数读取的两个元素是「1;2;3」和「4;5;6」。它们不是数字，因此只能用 `nan` (Not a Number) 来表示。带上分隔符 `delimiter=';'`，再用 \n",
    "\n",
    "    np.genfromtxt( csv_file，delimiter ) \n",
    "\n",
    "即可正确加载该文件。"
   ]
  },
  {
   "cell_type": "code",
   "execution_count": 20,
   "metadata": {
    "ExecuteTime": {
     "end_time": "2022-03-07T14:34:24.048955Z",
     "start_time": "2022-03-07T14:34:24.040956Z"
    }
   },
   "outputs": [
    {
     "name": "stdout",
     "output_type": "stream",
     "text": [
      "[[1. 2. 3.]\n",
      " [4. 5. 6.]]\n"
     ]
    }
   ],
   "source": [
    "arr_ = np.genfromtxt('arr_csv.csv', delimiter=';')\n",
    "print( arr_ )"
   ]
  },
  {
   "cell_type": "markdown",
   "metadata": {},
   "source": [
    "# 数组的获取\n",
    "\n",
    "## 普通获取\n",
    "\n",
    "从数组中获取元素是通过**索引** (indexing) 和**切片** (slicing) 来完成的，\n",
    "\n",
    "- 切片是按一片的方式获取子数组\n",
    "- 索引是按一个的方式获取元素\n",
    "\n",
    "### 一维数组\n",
    "创建一个数组 `arr = [0,1,2,3,4]`。 "
   ]
  },
  {
   "cell_type": "code",
   "execution_count": 21,
   "metadata": {
    "ExecuteTime": {
     "end_time": "2022-03-07T14:34:31.362141Z",
     "start_time": "2022-03-07T14:34:31.353141Z"
    }
   },
   "outputs": [
    {
     "name": "stdout",
     "output_type": "stream",
     "text": [
      "[0 1 2 3 4]\n"
     ]
    }
   ],
   "source": [
    "arr = np.arange(5)\n",
    "print( arr )"
   ]
  },
  {
   "cell_type": "markdown",
   "metadata": {},
   "source": [
    "#### 索引\n",
    "用 `arr[3]` 索引第 4 个元素 (Python 是从 0 开始记录位置的，因此索引 3 指的是第 4 位置的元素)。"
   ]
  },
  {
   "cell_type": "code",
   "execution_count": 22,
   "metadata": {
    "ExecuteTime": {
     "end_time": "2022-03-07T14:34:34.009409Z",
     "start_time": "2022-03-07T14:34:34.000483Z"
    }
   },
   "outputs": [
    {
     "data": {
      "text/plain": [
       "3"
      ]
     },
     "execution_count": 22,
     "metadata": {},
     "output_type": "execute_result"
    }
   ],
   "source": [
    "arr[3]"
   ]
  },
  {
   "cell_type": "markdown",
   "metadata": {},
   "source": [
    "除了索引单个元素，我们也可以一次性索引多个元素。"
   ]
  },
  {
   "cell_type": "code",
   "execution_count": 23,
   "metadata": {
    "ExecuteTime": {
     "end_time": "2022-03-07T14:34:36.031258Z",
     "start_time": "2022-03-07T14:34:36.012258Z"
    }
   },
   "outputs": [
    {
     "data": {
      "text/plain": [
       "array([1, 2, 3])"
      ]
     },
     "execution_count": 23,
     "metadata": {},
     "output_type": "execute_result"
    }
   ],
   "source": [
    "arr[[1,2,3]]"
   ]
  },
  {
   "cell_type": "markdown",
   "metadata": {},
   "source": [
    "#### 切片\n",
    "用 `arr[1:4]` 切片第 2 到 4 元素 (Python 切片含头不含尾，因此 1:4 包含第 2 个元素，但是不包含第 5 个元素)。"
   ]
  },
  {
   "cell_type": "code",
   "execution_count": 24,
   "metadata": {
    "ExecuteTime": {
     "end_time": "2022-03-07T14:34:40.788869Z",
     "start_time": "2022-03-07T14:34:40.776943Z"
    }
   },
   "outputs": [
    {
     "data": {
      "text/plain": [
       "array([1, 2, 3])"
      ]
     },
     "execution_count": 24,
     "metadata": {},
     "output_type": "execute_result"
    }
   ],
   "source": [
    "arr[1:4]"
   ]
  },
  {
   "cell_type": "markdown",
   "metadata": {},
   "source": [
    "类比数组切片和列表切片，虽然语法一样，但是有个核心区别：\n",
    "\n",
    "- 数组切片得到的是原数组的一个**视图** (view)，修改切片中的内容**会改变**原数组\n",
    "- 列表切片得到的是原列表的一个**复制** (copy)，修改列表中的内容**不改变**原列表\n",
    "\n",
    "视图和复制的示意图如下。\n",
    "\n",
    "<img src=\"list and numpy slicing.png\" style=\"width:500px; height:280px;\">\n",
    "\n",
    "用下面一维数组的例子来说明数组切片和列表切片的不同。"
   ]
  },
  {
   "cell_type": "code",
   "execution_count": 25,
   "metadata": {
    "ExecuteTime": {
     "end_time": "2022-03-07T14:35:05.015934Z",
     "start_time": "2022-03-07T14:35:05.003017Z"
    }
   },
   "outputs": [],
   "source": [
    "l = [0,1,2,3,4]\n",
    "l_slice = l[:3]"
   ]
  },
  {
   "cell_type": "code",
   "execution_count": 26,
   "metadata": {
    "ExecuteTime": {
     "end_time": "2022-03-07T14:35:06.390668Z",
     "start_time": "2022-03-07T14:35:06.381668Z"
    }
   },
   "outputs": [
    {
     "name": "stdout",
     "output_type": "stream",
     "text": [
      "[100, 1, 2]\n",
      "[0, 1, 2, 3, 4]\n"
     ]
    }
   ],
   "source": [
    "l_slice[0] = 100\n",
    "print(l_slice)\n",
    "print(l)"
   ]
  },
  {
   "cell_type": "code",
   "execution_count": 27,
   "metadata": {
    "ExecuteTime": {
     "end_time": "2022-03-07T14:35:09.969355Z",
     "start_time": "2022-03-07T14:35:09.960355Z"
    }
   },
   "outputs": [
    {
     "name": "stdout",
     "output_type": "stream",
     "text": [
      "[100   1   2]\n",
      "[100   1   2   3   4]\n"
     ]
    }
   ],
   "source": [
    "arr_slice = arr[:3]\n",
    "arr_slice[0] = 100\n",
    "print(arr_slice)\n",
    "print(arr)"
   ]
  },
  {
   "cell_type": "markdown",
   "metadata": {},
   "source": [
    "更改列表切片 `l_slice` 中的第一个元素并没有该更改原列表 `l` 的值，但是更改数组切片 `arr_slice` 中的第一个元素更改了原数组 `arr` 的值。NumPy 这样设计是为了能处理大型数组，试想每次切片大量数据都要复制会很没有效率。\n",
    "\n",
    "但如果有复制数组的需求，可以使用 `copy()` 函数再将其赋值给一个新数组。"
   ]
  },
  {
   "cell_type": "code",
   "execution_count": 28,
   "metadata": {
    "ExecuteTime": {
     "end_time": "2022-03-07T14:35:11.551153Z",
     "start_time": "2022-03-07T14:35:11.537233Z"
    }
   },
   "outputs": [
    {
     "data": {
      "text/plain": [
       "array([1, 2, 3])"
      ]
     },
     "execution_count": 28,
     "metadata": {},
     "output_type": "execute_result"
    }
   ],
   "source": [
    "arr_copy = arr[1:4].copy()\n",
    "arr_copy"
   ]
  },
  {
   "cell_type": "code",
   "execution_count": 29,
   "metadata": {
    "ExecuteTime": {
     "end_time": "2022-03-07T14:35:12.479130Z",
     "start_time": "2022-03-07T14:35:12.472204Z"
    }
   },
   "outputs": [
    {
     "name": "stdout",
     "output_type": "stream",
     "text": [
      "[100   1   2   3   4]\n",
      "[   1 9999    3]\n"
     ]
    }
   ],
   "source": [
    "arr_copy[1] = 9999\n",
    "\n",
    "print(arr)\n",
    "print(arr_copy)"
   ]
  },
  {
   "cell_type": "markdown",
   "metadata": {},
   "source": [
    "### 二维数组\n",
    "二维数组可看成每个元素都是一个数组的一维数组。"
   ]
  },
  {
   "cell_type": "code",
   "execution_count": 30,
   "metadata": {
    "ExecuteTime": {
     "end_time": "2022-03-07T14:35:29.507474Z",
     "start_time": "2022-03-07T14:35:29.498532Z"
    }
   },
   "outputs": [
    {
     "data": {
      "text/plain": [
       "array([[1, 2, 3],\n",
       "       [4, 5, 6],\n",
       "       [7, 8, 9]])"
      ]
     },
     "execution_count": 30,
     "metadata": {},
     "output_type": "execute_result"
    }
   ],
   "source": [
    "arr2d = np.array([[1, 2, 3], [4, 5, 6], [7, 8, 9]])\n",
    "arr2d"
   ]
  },
  {
   "cell_type": "markdown",
   "metadata": {},
   "source": [
    "#### 索引\n",
    "\n",
    "索引有两种情况：\n",
    "\n",
    "1. **行状获取**：用 `arr2d[2]` 来索引第三行。\n",
    "2. **元素获取**\n",
    "    - 用 `arr2d[0][2]` 来索引第一行第三列。\n",
    "    - 用 `arr2d[0, 2]` 也可以索引第一行第三列。"
   ]
  },
  {
   "cell_type": "code",
   "execution_count": 31,
   "metadata": {
    "ExecuteTime": {
     "end_time": "2022-03-07T14:35:31.650586Z",
     "start_time": "2022-03-07T14:35:31.632672Z"
    }
   },
   "outputs": [
    {
     "data": {
      "text/plain": [
       "array([7, 8, 9])"
      ]
     },
     "execution_count": 31,
     "metadata": {},
     "output_type": "execute_result"
    }
   ],
   "source": [
    "arr2d[2]"
   ]
  },
  {
   "cell_type": "code",
   "execution_count": 32,
   "metadata": {
    "ExecuteTime": {
     "end_time": "2022-03-07T14:35:32.516012Z",
     "start_time": "2022-03-07T14:35:32.510012Z"
    }
   },
   "outputs": [
    {
     "data": {
      "text/plain": [
       "3"
      ]
     },
     "execution_count": 32,
     "metadata": {},
     "output_type": "execute_result"
    }
   ],
   "source": [
    "arr2d[0][2]"
   ]
  },
  {
   "cell_type": "code",
   "execution_count": 33,
   "metadata": {
    "ExecuteTime": {
     "end_time": "2022-03-07T14:35:33.696359Z",
     "start_time": "2022-03-07T14:35:33.677360Z"
    }
   },
   "outputs": [
    {
     "data": {
      "text/plain": [
       "3"
      ]
     },
     "execution_count": 33,
     "metadata": {},
     "output_type": "execute_result"
    }
   ],
   "source": [
    "arr2d[0,2]"
   ]
  },
  {
   "cell_type": "markdown",
   "metadata": {},
   "source": [
    "从上面结果可知，`arr2d[0][2]` 和 `arr2d[0, 2]` 是等价的，但是\n",
    "\n",
    "- 前者要用多个中括号，每个括号里放入相应维度的索引值。\n",
    "- 后者只用一个中括号，放入把所有维度的索引值\n",
    "\n",
    "试想索引一个五维数组，后者的代码就少很多了。"
   ]
  },
  {
   "cell_type": "markdown",
   "metadata": {},
   "source": [
    "#### 切片\n",
    "\n",
    "切片有三种情况\n",
    "\n",
    "1. **行状获取**：用 `arr2d[:2]` 切片前两行。\n",
    "2. **列状获取**：用 `arr2d[:, [0,2]]` 切片第一列和第三列。\n",
    "3. **块状获取**：\n",
    "    - 用 `arr2d[1, :2]` 切片第二行的前两个元素。\n",
    "    - 用 `arr2d[:2, 2]` 切片第二和三列的后两个元素。\n",
    "\n",
    "这里冒号 `:` 的用法和列表中的用法一致。"
   ]
  },
  {
   "cell_type": "code",
   "execution_count": 34,
   "metadata": {
    "ExecuteTime": {
     "end_time": "2022-03-07T14:35:43.467157Z",
     "start_time": "2022-03-07T14:35:43.458158Z"
    }
   },
   "outputs": [
    {
     "data": {
      "text/plain": [
       "array([[1, 2, 3],\n",
       "       [4, 5, 6],\n",
       "       [7, 8, 9]])"
      ]
     },
     "execution_count": 34,
     "metadata": {},
     "output_type": "execute_result"
    }
   ],
   "source": [
    "arr2d"
   ]
  },
  {
   "cell_type": "markdown",
   "metadata": {},
   "source": [
    "切片 `arr2d` 第两行，有三种写法，分别是：\n",
    "\n",
    "    arr2d[1] 对行做索引，压缩原二维数组的维度降到一维。\n",
    "    arr2d[1,:] 对行做索引，用 : 切片所有列，压缩原二维数组的维度降到一维。\n",
    "    arr2d[1:2,:] 对行做切片，保持原二维数组的维度不变。"
   ]
  },
  {
   "cell_type": "code",
   "execution_count": 35,
   "metadata": {
    "ExecuteTime": {
     "end_time": "2022-03-07T14:36:15.271828Z",
     "start_time": "2022-03-07T14:36:15.248908Z"
    }
   },
   "outputs": [
    {
     "name": "stdout",
     "output_type": "stream",
     "text": [
      "[4 5 6] (3,)\n",
      "[4 5 6] (3,)\n",
      "[[4 5 6]] (1, 3)\n"
     ]
    }
   ],
   "source": [
    "print( arr2d[1], arr2d[1].shape )\n",
    "print( arr2d[1,:], arr2d[1,:].shape )\n",
    "print( arr2d[1:2,:], arr2d[1:2,:].shape )"
   ]
  },
  {
   "cell_type": "markdown",
   "metadata": {},
   "source": [
    "切片 `arr2d` 第一列和第三列"
   ]
  },
  {
   "cell_type": "code",
   "execution_count": 36,
   "metadata": {
    "ExecuteTime": {
     "end_time": "2022-03-07T14:36:17.651179Z",
     "start_time": "2022-03-07T14:36:17.642182Z"
    }
   },
   "outputs": [
    {
     "data": {
      "text/plain": [
       "array([[1, 3],\n",
       "       [4, 6],\n",
       "       [7, 9]])"
      ]
     },
     "execution_count": 36,
     "metadata": {},
     "output_type": "execute_result"
    }
   ],
   "source": [
    "arr2d[:,[0,2]] "
   ]
  },
  {
   "cell_type": "markdown",
   "metadata": {},
   "source": [
    "切片 `arr2d` 第二和三列的后两个元素"
   ]
  },
  {
   "cell_type": "code",
   "execution_count": 37,
   "metadata": {
    "ExecuteTime": {
     "end_time": "2022-03-07T14:36:22.304175Z",
     "start_time": "2022-03-07T14:36:22.290177Z"
    },
    "scrolled": true
   },
   "outputs": [
    {
     "data": {
      "text/plain": [
       "array([[5, 6],\n",
       "       [8, 9]])"
      ]
     },
     "execution_count": 37,
     "metadata": {},
     "output_type": "execute_result"
    }
   ],
   "source": [
    "arr2d[-2:, 1:]"
   ]
  },
  {
   "cell_type": "markdown",
   "metadata": {},
   "source": [
    "切片 `arr2d` 第二行前两列的元素\n",
    "\n",
    "    arr2d[1,:2] 对行做索引，压缩原二维数组的维度降到一维。\n",
    "    arr2d[1:2,:2] 对行做切片，保持原二维数组的维度不变。"
   ]
  },
  {
   "cell_type": "code",
   "execution_count": 38,
   "metadata": {
    "ExecuteTime": {
     "end_time": "2022-03-07T14:36:25.473185Z",
     "start_time": "2022-03-07T14:36:25.465185Z"
    }
   },
   "outputs": [
    {
     "name": "stdout",
     "output_type": "stream",
     "text": [
      "[4 5] (2,)\n",
      "[[4 5]] (1, 2)\n"
     ]
    }
   ],
   "source": [
    "print( arr2d[1, :2], arr2d[1, :2].shape )\n",
    "print( arr2d[1:2, :2], arr2d[1:2, :2].shape )"
   ]
  },
  {
   "cell_type": "markdown",
   "metadata": {},
   "source": [
    "二维数组不同的获取情况和写法总结在下图：\n",
    "\n",
    "<img src=\"2d array extraction.png\" style=\"width:800px; height:300px;\">"
   ]
  },
  {
   "cell_type": "markdown",
   "metadata": {},
   "source": [
    "## 布尔获取\n",
    "\n",
    "布尔获取 (boolean indexing)，就是用一个由布尔类型值组成的数组来获取元素的方法。\n",
    "\n",
    "假设有阿里巴巴，脸书和京东的\n",
    "\n",
    "- 股票代号数组：阿里巴巴是 BABA，脸书是 FB 和京东是 JD\n",
    "- 股票价格数组：每行记录一天开盘，最高和收盘价格\n",
    "\n",
    "首先生成股票代号数组 code 和股票价格数组 price"
   ]
  },
  {
   "cell_type": "code",
   "execution_count": 39,
   "metadata": {
    "ExecuteTime": {
     "end_time": "2022-03-07T14:38:23.842219Z",
     "start_time": "2022-03-07T14:38:23.836216Z"
    }
   },
   "outputs": [
    {
     "name": "stdout",
     "output_type": "stream",
     "text": [
      "[[170 171 169]\n",
      " [150 152 153]\n",
      " [ 24  25  26]\n",
      " [165 166 167]\n",
      " [ 22  21  20]\n",
      " [155 156 157]]\n"
     ]
    }
   ],
   "source": [
    "code = np.array(['BABA', 'FB', 'JD', 'BABA', 'JD', 'FB'])\n",
    "price = np.array([[170,171,169],[150,152,153],[24,25,26],[165,166,167],[22,21,20],[155,156,157]])\n",
    "print(price)"
   ]
  },
  {
   "cell_type": "markdown",
   "metadata": {},
   "source": [
    "要找出 BABA 对应的股价，首先找到 `code` 数组里元素是 'BABA' 对应的布尔索引。下式的等号 `==` 是检查 `code` 里每一个元素，如果是 `BABA` 返回 **`True`**，反之返回 **`False`**。"
   ]
  },
  {
   "cell_type": "code",
   "execution_count": 40,
   "metadata": {
    "ExecuteTime": {
     "end_time": "2022-03-07T14:39:26.200234Z",
     "start_time": "2022-03-07T14:39:26.186239Z"
    }
   },
   "outputs": [
    {
     "data": {
      "text/plain": [
       "array([ True, False, False,  True, False, False])"
      ]
     },
     "execution_count": 40,
     "metadata": {},
     "output_type": "execute_result"
    }
   ],
   "source": [
    "code == 'BABA'"
   ]
  },
  {
   "cell_type": "markdown",
   "metadata": {},
   "source": [
    "该布尔数组可以看成是一种索引用来获取 BABA 的股价。"
   ]
  },
  {
   "cell_type": "code",
   "execution_count": 41,
   "metadata": {
    "ExecuteTime": {
     "end_time": "2022-03-07T14:39:28.005737Z",
     "start_time": "2022-03-07T14:39:27.993738Z"
    }
   },
   "outputs": [
    {
     "data": {
      "text/plain": [
       "array([[170, 171, 169],\n",
       "       [165, 166, 167]])"
      ]
     },
     "execution_count": 41,
     "metadata": {},
     "output_type": "execute_result"
    }
   ],
   "source": [
    "price[ code == 'BABA' ]"
   ]
  },
  {
   "cell_type": "markdown",
   "metadata": {},
   "source": [
    "用该索引还可以获取 BABA 的最高和收盘价格 (对应第 2 和 3 列)"
   ]
  },
  {
   "cell_type": "code",
   "execution_count": 42,
   "metadata": {
    "ExecuteTime": {
     "end_time": "2022-03-07T14:39:29.879239Z",
     "start_time": "2022-03-07T14:39:29.857313Z"
    }
   },
   "outputs": [
    {
     "data": {
      "text/plain": [
       "array([[171, 169],\n",
       "       [166, 167]])"
      ]
     },
     "execution_count": 42,
     "metadata": {},
     "output_type": "execute_result"
    }
   ],
   "source": [
    "price[ code == 'BABA', 1: ]"
   ]
  },
  {
   "cell_type": "markdown",
   "metadata": {},
   "source": [
    "再试试获取 JD 和 FB 的股价，这次先把布尔数组赋值给 `condition`，再用它在 `price` 数组中做索引。"
   ]
  },
  {
   "cell_type": "code",
   "execution_count": 43,
   "metadata": {
    "ExecuteTime": {
     "end_time": "2022-03-07T14:39:40.863254Z",
     "start_time": "2022-03-07T14:39:40.842253Z"
    }
   },
   "outputs": [
    {
     "data": {
      "text/plain": [
       "array([[150, 152, 153],\n",
       "       [ 24,  25,  26],\n",
       "       [ 22,  21,  20],\n",
       "       [155, 156, 157]])"
      ]
     },
     "execution_count": 43,
     "metadata": {},
     "output_type": "execute_result"
    }
   ],
   "source": [
    "condition = ((code == 'FB')|(code == 'JD'))\n",
    "price[ condition ]"
   ]
  },
  {
   "cell_type": "markdown",
   "metadata": {},
   "source": [
    "布尔索引可以用来赋值，比如把股价小于 25 的清零。"
   ]
  },
  {
   "cell_type": "code",
   "execution_count": 44,
   "metadata": {
    "ExecuteTime": {
     "end_time": "2022-03-07T14:39:42.852116Z",
     "start_time": "2022-03-07T14:39:42.841198Z"
    }
   },
   "outputs": [
    {
     "data": {
      "text/plain": [
       "array([[170, 171, 169],\n",
       "       [150, 152, 153],\n",
       "       [  0,  25,  26],\n",
       "       [165, 166, 167],\n",
       "       [  0,   0,   0],\n",
       "       [155, 156, 157]])"
      ]
     },
     "execution_count": 44,
     "metadata": {},
     "output_type": "execute_result"
    }
   ],
   "source": [
    "price[ price < 25 ] = 0\n",
    "price"
   ]
  },
  {
   "cell_type": "markdown",
   "metadata": {},
   "source": [
    "## 花式获取\n",
    "\n",
    "花式索引 (fancy indexing) 是用获取数组中**特定**元素的有效方法。考虑下面这个 8 × 4 数组："
   ]
  },
  {
   "cell_type": "code",
   "execution_count": 45,
   "metadata": {
    "ExecuteTime": {
     "end_time": "2022-03-07T14:40:30.356282Z",
     "start_time": "2022-03-07T14:40:30.351282Z"
    }
   },
   "outputs": [
    {
     "name": "stdout",
     "output_type": "stream",
     "text": [
      "[[ 0  1  2  3]\n",
      " [ 4  5  6  7]\n",
      " [ 8  9 10 11]\n",
      " [12 13 14 15]\n",
      " [16 17 18 19]\n",
      " [20 21 22 23]\n",
      " [24 25 26 27]\n",
      " [28 29 30 31]]\n"
     ]
    }
   ],
   "source": [
    "arr = np.arange(32).reshape(8,4)\n",
    "print( arr )"
   ]
  },
  {
   "cell_type": "markdown",
   "metadata": {},
   "source": [
    "如果想按特定顺序来获取第 5, 4 和 7 行时，用 `arr[[4,3,6]]` 或者 `arr[[4,3,6],:]`  "
   ]
  },
  {
   "cell_type": "code",
   "execution_count": 46,
   "metadata": {
    "ExecuteTime": {
     "end_time": "2022-03-07T14:40:31.780805Z",
     "start_time": "2022-03-07T14:40:31.768807Z"
    }
   },
   "outputs": [
    {
     "data": {
      "text/plain": [
       "array([[16, 17, 18, 19],\n",
       "       [12, 13, 14, 15],\n",
       "       [24, 25, 26, 27]])"
      ]
     },
     "execution_count": 46,
     "metadata": {},
     "output_type": "execute_result"
    }
   ],
   "source": [
    "arr[ [4,3,6] ]"
   ]
  },
  {
   "cell_type": "code",
   "execution_count": 47,
   "metadata": {
    "ExecuteTime": {
     "end_time": "2022-03-07T14:40:32.966280Z",
     "start_time": "2022-03-07T14:40:32.955260Z"
    }
   },
   "outputs": [
    {
     "data": {
      "text/plain": [
       "array([[16, 17, 18, 19],\n",
       "       [12, 13, 14, 15],\n",
       "       [24, 25, 26, 27]])"
      ]
     },
     "execution_count": 47,
     "metadata": {},
     "output_type": "execute_result"
    }
   ],
   "source": [
    "arr[ [4,3,6], : ] "
   ]
  },
  {
   "cell_type": "markdown",
   "metadata": {},
   "source": [
    "此外还能更灵活的设定「行」和「列」中不同的索引，如下"
   ]
  },
  {
   "cell_type": "code",
   "execution_count": 48,
   "metadata": {
    "ExecuteTime": {
     "end_time": "2022-03-07T14:43:23.221317Z",
     "start_time": "2022-03-07T14:43:23.210317Z"
    }
   },
   "outputs": [
    {
     "data": {
      "text/plain": [
       "array([ 4, 23, 29, 10])"
      ]
     },
     "execution_count": 48,
     "metadata": {},
     "output_type": "execute_result"
    }
   ],
   "source": [
    "arr[ [1,5,7,2], [0,3,1,2] ]"
   ]
  },
  {
   "cell_type": "markdown",
   "metadata": {},
   "source": [
    "上行获取的分别是第二行第一列 [1,0]、第六行第四列 [5,3]、第八行第二列 [7,1]、第三行第三列 [2,2] 的元素，它们确实是 4, 23, 29 和 10。如果不用花式索引，只能用下面繁琐的代码来实现。"
   ]
  },
  {
   "cell_type": "code",
   "execution_count": 49,
   "metadata": {
    "ExecuteTime": {
     "end_time": "2022-03-07T14:43:25.566188Z",
     "start_time": "2022-03-07T14:43:25.553266Z"
    }
   },
   "outputs": [
    {
     "data": {
      "text/plain": [
       "array([ 4, 23, 29, 10])"
      ]
     },
     "execution_count": 49,
     "metadata": {},
     "output_type": "execute_result"
    }
   ],
   "source": [
    "np.array( [ arr[1,0], arr[5,3], arr[7,1], arr[2,2] ] )"
   ]
  },
  {
   "cell_type": "markdown",
   "metadata": {},
   "source": [
    "用花式索引还可以交换 `arr` 的列，下列把第二、六、八和三行的把列索引 `[0,1,2,3]` 换成 `[0,3,1,2]`。"
   ]
  },
  {
   "cell_type": "code",
   "execution_count": 50,
   "metadata": {
    "ExecuteTime": {
     "end_time": "2022-03-07T14:44:36.320334Z",
     "start_time": "2022-03-07T14:44:36.306335Z"
    }
   },
   "outputs": [
    {
     "data": {
      "text/plain": [
       "array([[ 4,  7,  5,  6],\n",
       "       [20, 23, 21, 22],\n",
       "       [28, 31, 29, 30],\n",
       "       [ 8, 11,  9, 10]])"
      ]
     },
     "execution_count": 50,
     "metadata": {},
     "output_type": "execute_result"
    }
   ],
   "source": [
    "arr[ [1,5,7,2] ][:,[0,3,1,2]]"
   ]
  },
  {
   "cell_type": "markdown",
   "metadata": {},
   "source": [
    "此外用 `take()` 和 `put()` 函数可以做花式索引。\n",
    "\n",
    "    np.take(arr,ind) 近似等价于 arr[ind]\n",
    "    np.take(arr,ind,axis=1) 近似等价于 arr[:,ind,...]\n",
    "    np.put(arr,ind,v) 近似等价于 arr[ind] = v"
   ]
  },
  {
   "cell_type": "code",
   "execution_count": 51,
   "metadata": {
    "ExecuteTime": {
     "end_time": "2022-03-07T14:45:28.721351Z",
     "start_time": "2022-03-07T14:45:28.713351Z"
    }
   },
   "outputs": [
    {
     "data": {
      "text/plain": [
       "array([1, 5, 7, 2])"
      ]
     },
     "execution_count": 51,
     "metadata": {},
     "output_type": "execute_result"
    }
   ],
   "source": [
    "np.take( arr, [1,5,7,2] )"
   ]
  },
  {
   "cell_type": "code",
   "execution_count": 52,
   "metadata": {
    "ExecuteTime": {
     "end_time": "2022-03-07T14:45:29.432203Z",
     "start_time": "2022-03-07T14:45:29.426274Z"
    }
   },
   "outputs": [
    {
     "data": {
      "text/plain": [
       "array([[ 8,  9, 10, 11],\n",
       "       [16, 17, 18, 19]])"
      ]
     },
     "execution_count": 52,
     "metadata": {},
     "output_type": "execute_result"
    }
   ],
   "source": [
    "np.take( arr, [2,4], axis=0 )"
   ]
  },
  {
   "cell_type": "code",
   "execution_count": 53,
   "metadata": {
    "ExecuteTime": {
     "end_time": "2022-03-07T14:45:30.096506Z",
     "start_time": "2022-03-07T14:45:30.081506Z"
    }
   },
   "outputs": [
    {
     "data": {
      "text/plain": [
       "array([[ 1,  3],\n",
       "       [ 5,  7],\n",
       "       [ 9, 11],\n",
       "       [13, 15],\n",
       "       [17, 19],\n",
       "       [21, 23],\n",
       "       [25, 27],\n",
       "       [29, 31]])"
      ]
     },
     "execution_count": 53,
     "metadata": {},
     "output_type": "execute_result"
    }
   ],
   "source": [
    "np.take( arr, [1,3], axis=1 )"
   ]
  },
  {
   "cell_type": "code",
   "execution_count": 54,
   "metadata": {
    "ExecuteTime": {
     "end_time": "2022-03-07T14:45:30.841133Z",
     "start_time": "2022-03-07T14:45:30.835131Z"
    }
   },
   "outputs": [
    {
     "data": {
      "text/plain": [
       "array([[ 0, 11, 22,  3],\n",
       "       [ 4, 55,  6, 77],\n",
       "       [ 8,  9, 10, 11],\n",
       "       [12, 13, 14, 15],\n",
       "       [16, 17, 18, 19],\n",
       "       [20, 21, 22, 23],\n",
       "       [24, 25, 26, 27],\n",
       "       [28, 29, 30, 31]])"
      ]
     },
     "execution_count": 54,
     "metadata": {},
     "output_type": "execute_result"
    }
   ],
   "source": [
    "np.put( arr, [1,5,7,2], [11,55,77,22] )\n",
    "arr"
   ]
  },
  {
   "cell_type": "code",
   "execution_count": 55,
   "metadata": {
    "ExecuteTime": {
     "end_time": "2022-03-07T14:45:34.161354Z",
     "start_time": "2022-03-07T14:45:34.148355Z"
    }
   },
   "outputs": [
    {
     "data": {
      "text/plain": [
       "array([[-1, 11, 22,  3],\n",
       "       [ 4, 55,  6, 77],\n",
       "       [ 8,  9, 10, 11],\n",
       "       [12, 13, 14, 15],\n",
       "       [16, 17, 18, 19],\n",
       "       [20, 21, 22, 23],\n",
       "       [24, 25, 26, 27],\n",
       "       [28, 29, 30, -1]])"
      ]
     },
     "execution_count": 55,
     "metadata": {},
     "output_type": "execute_result"
    }
   ],
   "source": [
    "np.put( arr, [0,40], -1, mode='clip')\n",
    "arr"
   ]
  },
  {
   "cell_type": "markdown",
   "metadata": {},
   "source": [
    "#  数组的变形\n",
    "\n",
    "本节介绍四类数组变形，分别是\n",
    "\n",
    "1. **重塑** (reshape) 和**打平** (flatten)\n",
    "2. **合并** (stack) 和**分裂** (split)\n",
    "3. **重复** (repeat) 和**拼接** (tile)\n",
    "4. **排序** (sort)、**增减** (insert, delete)、**视图** (view) 和 **复制** (copy)\n",
    "\n",
    "## 重塑和打平\n",
    "\n",
    "重塑 (reshape) 和打平 (flatten) 这两个操作仅仅只改变数组的视图形式，\n",
    "\n",
    "- 重塑是**从低维到高维**，用 `reshape()` 函数。\n",
    "- 打平是**从高维到低维**，用 `flatten()` 或 `ravel()` 函数。\n",
    "\n",
    "### 重塑 - 从低维到高维\n",
    "\n",
    "用 `reshape()` 函数将一维数组 `arr` 重塑成二维数组 `arr2d` (4 行 3 列)，传入元组参数 (4,3)。"
   ]
  },
  {
   "cell_type": "code",
   "execution_count": 56,
   "metadata": {
    "ExecuteTime": {
     "end_time": "2022-03-07T14:45:51.707019Z",
     "start_time": "2022-03-07T14:45:51.698019Z"
    }
   },
   "outputs": [
    {
     "name": "stdout",
     "output_type": "stream",
     "text": [
      "[ 1  2  3  4  5  6  7  8  9 10 11 12]\n",
      "[[ 1  2  3]\n",
      " [ 4  5  6]\n",
      " [ 7  8  9]\n",
      " [10 11 12]]\n"
     ]
    }
   ],
   "source": [
    "arr = np.arange(1,13)\n",
    "print( arr )\n",
    "print( arr.reshape((4,3)) )"
   ]
  },
  {
   "cell_type": "markdown",
   "metadata": {},
   "source": [
    "当你重塑高维矩阵时，不想花时间算某一维度的元素个数时，可以用「-1」取代，程序会自动计算出来。比如把 12 个元素重塑成 (2, 6)，你可以写成 (2,-1) 或者 (-1, 6)。"
   ]
  },
  {
   "cell_type": "code",
   "execution_count": 57,
   "metadata": {
    "ExecuteTime": {
     "end_time": "2022-03-07T14:46:17.370080Z",
     "start_time": "2022-03-07T14:46:17.361165Z"
    },
    "scrolled": true
   },
   "outputs": [
    {
     "name": "stdout",
     "output_type": "stream",
     "text": [
      "[[ 1  2  3  4  5  6]\n",
      " [ 7  8  9 10 11 12]]\n",
      "[[ 1  2  3  4  5  6]\n",
      " [ 7  8  9 10 11 12]]\n"
     ]
    }
   ],
   "source": [
    "print( arr.reshape((2,-1)) )\n",
    "print( arr.reshape((-1,6)) )"
   ]
  },
  {
   "cell_type": "markdown",
   "metadata": {},
   "source": [
    "### 打平 - 从高维到低维\n",
    "\n",
    "用 `flatten()` 函数将二维数组 `arr2d` 打平成一维数组 `arr`。"
   ]
  },
  {
   "cell_type": "code",
   "execution_count": 58,
   "metadata": {
    "ExecuteTime": {
     "end_time": "2022-03-07T14:46:27.667377Z",
     "start_time": "2022-03-07T14:46:27.657384Z"
    }
   },
   "outputs": [
    {
     "name": "stdout",
     "output_type": "stream",
     "text": [
      "[[ 1  2  3]\n",
      " [ 4  5  6]\n",
      " [ 7  8  9]\n",
      " [10 11 12]]\n"
     ]
    }
   ],
   "source": [
    "arr = np.arange(1,13).reshape((4,3))\n",
    "print( arr )"
   ]
  },
  {
   "cell_type": "code",
   "execution_count": 59,
   "metadata": {
    "ExecuteTime": {
     "end_time": "2022-03-07T14:47:04.127019Z",
     "start_time": "2022-03-07T14:47:04.110018Z"
    }
   },
   "outputs": [
    {
     "name": "stdout",
     "output_type": "stream",
     "text": [
      "[ 1  2  3  4  5  6  7  8  9 10 11 12]\n"
     ]
    }
   ],
   "source": [
    "ravel_arr = arr.ravel()\n",
    "print( ravel_arr )"
   ]
  },
  {
   "cell_type": "code",
   "execution_count": 60,
   "metadata": {
    "ExecuteTime": {
     "end_time": "2022-03-07T14:47:05.005564Z",
     "start_time": "2022-03-07T14:47:04.997566Z"
    }
   },
   "outputs": [
    {
     "name": "stdout",
     "output_type": "stream",
     "text": [
      "[ 1  2  3  4  5  6  7  8  9 10 11 12]\n"
     ]
    }
   ],
   "source": [
    "flatten_arr = arr.flatten()\n",
    "print( flatten_arr )"
   ]
  },
  {
   "cell_type": "markdown",
   "metadata": {},
   "source": [
    "***\n",
    "**问题：为什么打平后的数组不是**\n",
    "\n",
    "    [ 1  4  7 10  2  5  8 11  3  6  9 12]\n",
    "***\n",
    "要回答上面两个问题，需要了解 numpy 数组在内存块的存储方式。\n",
    "\n",
    "### 行主序和列主序\n",
    "\n",
    "在二维数组中，行主序 (row-major order) 指每行的元素在内存块中彼此相邻，而列主序 (column-major order) 指每列的元素在内存块中彼此相邻。在众多计算机语言中，\n",
    "\n",
    "- 默认行主序的有 C 语言 (下图 `order='C'` 等价于行主序)\n",
    "- 默认列主序的有 Fortran 语言 (下图 `order='F'` 等价于列主序)\n",
    "\n",
    "<img src=\"row column major order.png\" style=\"width:450px; height:270px;\">\n",
    "\n",
    "在高维数组中，严谨来说\n",
    "\n",
    "- **行主序**: 先遍历维度**高**的元素，比如先遍历轴 1 (按行遍历) 上的元素\n",
    "- **列主序**: 先遍历维度**低**的元素，比如先遍历轴 0 (按列遍历) 上的元素\n",
    "\n",
    "在 numpy 数组中，默认的是行主序，即 `order ='C'`。根据上图可以回答上面那两个问题了。\n",
    "\n",
    "此外，如果想在「重塑」和「打平」时用列主序，只用把 `order` 设为 `'F'`。以重塑举例："
   ]
  },
  {
   "cell_type": "code",
   "execution_count": 61,
   "metadata": {
    "ExecuteTime": {
     "end_time": "2022-03-07T14:51:14.036510Z",
     "start_time": "2022-03-07T14:51:14.015536Z"
    }
   },
   "outputs": [
    {
     "data": {
      "text/plain": [
       "array([ 1,  2,  3,  4,  5,  6,  7,  8,  9, 10, 11, 12])"
      ]
     },
     "execution_count": 61,
     "metadata": {},
     "output_type": "execute_result"
    }
   ],
   "source": [
    "arr = np.arange(1,13)\n",
    "arr"
   ]
  },
  {
   "cell_type": "code",
   "execution_count": 62,
   "metadata": {
    "ExecuteTime": {
     "end_time": "2022-03-07T14:51:17.713008Z",
     "start_time": "2022-03-07T14:51:17.694034Z"
    }
   },
   "outputs": [
    {
     "name": "stdout",
     "output_type": "stream",
     "text": [
      "[[ 1  5  9]\n",
      " [ 2  6 10]\n",
      " [ 3  7 11]\n",
      " [ 4  8 12]]\n"
     ]
    }
   ],
   "source": [
    "print( arr.reshape((4,3), order='F') )"
   ]
  },
  {
   "cell_type": "code",
   "execution_count": 63,
   "metadata": {
    "ExecuteTime": {
     "end_time": "2022-03-07T14:52:57.853164Z",
     "start_time": "2022-03-07T14:52:57.840207Z"
    }
   },
   "outputs": [
    {
     "data": {
      "text/plain": [
       "array([[ 1,  2,  3],\n",
       "       [ 4,  5,  6],\n",
       "       [ 7,  8,  9],\n",
       "       [10, 11, 12]])"
      ]
     },
     "execution_count": 63,
     "metadata": {},
     "output_type": "execute_result"
    }
   ],
   "source": [
    "arr = np.arange(1,13).reshape((4,3))\n",
    "arr"
   ]
  },
  {
   "cell_type": "code",
   "execution_count": 64,
   "metadata": {
    "ExecuteTime": {
     "end_time": "2022-03-07T14:53:20.366679Z",
     "start_time": "2022-03-07T14:53:20.348498Z"
    }
   },
   "outputs": [
    {
     "name": "stdout",
     "output_type": "stream",
     "text": [
      "[ 1  4  7 10  2  5  8 11  3  6  9 12]\n",
      "[ 1  4  7 10  2  5  8 11  3  6  9 12]\n"
     ]
    }
   ],
   "source": [
    "print( arr.ravel(order='F') )\n",
    "print( arr.flatten(order='F') )"
   ]
  },
  {
   "cell_type": "markdown",
   "metadata": {},
   "source": [
    "为什么「打平」需要两个函数 `ravel()` 或 `flatten()`？它们的不同点在哪里？\n",
    "\n",
    "- `ravel()` 在「行主序」打平时没有复制原数组，只在「列主序」打平时复制了原数组\n",
    "- `flatten()` 在所有情况下打平时都复制了原数组\n",
    "\n",
    "下面来验证。首先看 `flatten()` 函数，将打平后的数组 `flatten` 第一个元素更新为 10000，并没有对原数组 `arr` 产生任何影响 (证明 `flatten()` 函数的确是复制了原数组)"
   ]
  },
  {
   "cell_type": "code",
   "execution_count": 65,
   "metadata": {
    "ExecuteTime": {
     "end_time": "2022-03-07T14:57:18.097616Z",
     "start_time": "2022-03-07T14:57:18.086587Z"
    }
   },
   "outputs": [
    {
     "name": "stdout",
     "output_type": "stream",
     "text": [
      "[[0 1 2]\n",
      " [3 4 5]]\n"
     ]
    }
   ],
   "source": [
    "arr = np.arange(6).reshape(2,3)\n",
    "print( arr )"
   ]
  },
  {
   "cell_type": "code",
   "execution_count": 66,
   "metadata": {
    "ExecuteTime": {
     "end_time": "2022-03-07T14:54:05.705423Z",
     "start_time": "2022-03-07T14:54:05.684522Z"
    }
   },
   "outputs": [
    {
     "name": "stdout",
     "output_type": "stream",
     "text": [
      "[10000     1     2     3     4     5]\n",
      "[[0 1 2]\n",
      " [3 4 5]]\n"
     ]
    }
   ],
   "source": [
    "flatten = arr.flatten()\n",
    "flatten[0] = 10000\n",
    "print( flatten )\n",
    "print( arr )"
   ]
  },
  {
   "cell_type": "markdown",
   "metadata": {},
   "source": [
    "再看 `ravel()` 函数在「列主序」打平，将打平后的数组 `ravel_F` 第一个元素更新为 10000，并没有对原数组 `arr` 产生任何影响 (证明 `ravel(order='F')` 的确是复制了原数组)"
   ]
  },
  {
   "cell_type": "code",
   "execution_count": 67,
   "metadata": {
    "ExecuteTime": {
     "end_time": "2022-03-07T14:57:25.515667Z",
     "start_time": "2022-03-07T14:57:25.494666Z"
    }
   },
   "outputs": [
    {
     "name": "stdout",
     "output_type": "stream",
     "text": [
      "[10000     3     1     4     2     5]\n",
      "[[0 1 2]\n",
      " [3 4 5]]\n"
     ]
    }
   ],
   "source": [
    "ravel_F = arr.ravel( order='F' )\n",
    "ravel_F[0] = 10000\n",
    "print( ravel_F )\n",
    "print( arr )"
   ]
  },
  {
   "cell_type": "markdown",
   "metadata": {},
   "source": [
    "最后看 `ravel()` 函数在「行主序」打平，将打平后的数组 `ravel_C` 第一个元素更新为 10000，原数组 `arr[0][0]` 也变成了 10000 (证明 `ravel()` 函数没有复制原数组，而是它的视图)\n",
    "\n",
    "**注意：`ravel()` 函数的 `order` 参数默认设置是行主序，因此打平后的数组是原数组的视图，两者指向的是一个对象。**"
   ]
  },
  {
   "cell_type": "code",
   "execution_count": 68,
   "metadata": {
    "ExecuteTime": {
     "end_time": "2022-03-07T14:57:34.298557Z",
     "start_time": "2022-03-07T14:57:34.281660Z"
    }
   },
   "outputs": [
    {
     "name": "stdout",
     "output_type": "stream",
     "text": [
      "[10000     1     2     3     4     5]\n",
      "[[10000     1     2]\n",
      " [    3     4     5]]\n"
     ]
    }
   ],
   "source": [
    "ravel_C = arr.ravel()\n",
    "ravel_C[0] = 10000\n",
    "print( ravel_C )\n",
    "print( arr )"
   ]
  },
  {
   "cell_type": "markdown",
   "metadata": {},
   "source": [
    "## 合并和分裂\n",
    "\n",
    "合并和分裂这两个操作仅仅只改变数组的分合，\n",
    "\n",
    "- 合并是多合一\n",
    "- 分裂是一分多\n",
    "\n",
    "### 合并\n",
    "\n",
    "用于合并的方式有三种：\n",
    "\n",
    "1. 有通用的 `concatenate()` 函数\n",
    "2. 有专用的 `vstack()`, `hstack()`, `dstack()` 函数\n",
    "3. 有极简的 `r_[]`, `c_[]` 方法（略） \n",
    "\n",
    "用下面两个数组来举例："
   ]
  },
  {
   "cell_type": "code",
   "execution_count": 69,
   "metadata": {
    "ExecuteTime": {
     "end_time": "2022-03-07T14:58:05.850677Z",
     "start_time": "2022-03-07T14:58:05.840667Z"
    }
   },
   "outputs": [],
   "source": [
    "arr1 = np.array([[1, 2, 3], [4, 5, 6]])\n",
    "arr2 = np.array([[7, 8, 9], [10, 11, 12]])"
   ]
  },
  {
   "cell_type": "markdown",
   "metadata": {},
   "source": [
    "#### `concatenate`\n",
    "\n",
    "在 `concatenate()` 函数里通过设定轴，来对若干个数组按轴来合并。对二维数组，\n",
    "\n",
    "- `axis = 0`：按行合并，或沿竖直方向合并\n",
    "- `axis = 1`：按列合并，或沿水平方向合并"
   ]
  },
  {
   "cell_type": "code",
   "execution_count": 70,
   "metadata": {
    "ExecuteTime": {
     "end_time": "2022-03-07T14:58:08.975597Z",
     "start_time": "2022-03-07T14:58:08.960678Z"
    }
   },
   "outputs": [
    {
     "data": {
      "text/plain": [
       "array([[ 1,  2,  3],\n",
       "       [ 4,  5,  6],\n",
       "       [ 7,  8,  9],\n",
       "       [10, 11, 12]])"
      ]
     },
     "execution_count": 70,
     "metadata": {},
     "output_type": "execute_result"
    }
   ],
   "source": [
    "np.concatenate([arr1, arr2], axis=0)"
   ]
  },
  {
   "cell_type": "code",
   "execution_count": 71,
   "metadata": {
    "ExecuteTime": {
     "end_time": "2022-03-07T14:58:27.159676Z",
     "start_time": "2022-03-07T14:58:27.149608Z"
    }
   },
   "outputs": [
    {
     "data": {
      "text/plain": [
       "array([[ 1,  2,  3,  7,  8,  9],\n",
       "       [ 4,  5,  6, 10, 11, 12]])"
      ]
     },
     "execution_count": 71,
     "metadata": {},
     "output_type": "execute_result"
    }
   ],
   "source": [
    "np.concatenate([arr1, arr2], axis=1)"
   ]
  },
  {
   "cell_type": "markdown",
   "metadata": {},
   "source": [
    "#### `vstack, hstack, dstack`\n",
    "\n",
    "通用的 `concatenate()` 是好，但是效率不高，NumPy 里还有专门合并的函数 `stack()`，细分有三种，\n",
    "\n",
    "- `vstack()`：v 代表 vertical，沿着竖直方向合并，即沿着「轴 0」合并，和 `concatenate(axis=0)` 等价。\n",
    "- `hstack()`：h 代表 horizontal，沿着水平方向合并，即沿着「轴 1」合并，和 `concatenate(axis=1)` 等价。\n",
    "- `dstack()`：d 代表 depth-wise，沿着深度方向合并，即沿着「轴 2」合并，和 `concatenate(axis=2)` 等价。 "
   ]
  },
  {
   "cell_type": "code",
   "execution_count": 72,
   "metadata": {
    "ExecuteTime": {
     "end_time": "2022-03-07T14:58:32.605651Z",
     "start_time": "2022-03-07T14:58:32.584678Z"
    }
   },
   "outputs": [
    {
     "data": {
      "text/plain": [
       "array([[ 1,  2,  3],\n",
       "       [ 4,  5,  6],\n",
       "       [ 7,  8,  9],\n",
       "       [10, 11, 12]])"
      ]
     },
     "execution_count": 72,
     "metadata": {},
     "output_type": "execute_result"
    }
   ],
   "source": [
    "np.vstack((arr1, arr2))"
   ]
  },
  {
   "cell_type": "code",
   "execution_count": 73,
   "metadata": {
    "ExecuteTime": {
     "end_time": "2022-03-07T14:58:33.590464Z",
     "start_time": "2022-03-07T14:58:33.581477Z"
    }
   },
   "outputs": [
    {
     "data": {
      "text/plain": [
       "array([[ 1,  2,  3,  7,  8,  9],\n",
       "       [ 4,  5,  6, 10, 11, 12]])"
      ]
     },
     "execution_count": 73,
     "metadata": {},
     "output_type": "execute_result"
    }
   ],
   "source": [
    "np.hstack((arr1, arr2))"
   ]
  },
  {
   "cell_type": "code",
   "execution_count": 74,
   "metadata": {
    "ExecuteTime": {
     "end_time": "2022-03-07T14:58:34.558503Z",
     "start_time": "2022-03-07T14:58:34.537459Z"
    }
   },
   "outputs": [
    {
     "data": {
      "text/plain": [
       "array([[[ 1,  7],\n",
       "        [ 2,  8],\n",
       "        [ 3,  9]],\n",
       "\n",
       "       [[ 4, 10],\n",
       "        [ 5, 11],\n",
       "        [ 6, 12]]])"
      ]
     },
     "execution_count": 74,
     "metadata": {},
     "output_type": "execute_result"
    }
   ],
   "source": [
    "np.dstack((arr1, arr2))"
   ]
  },
  {
   "cell_type": "markdown",
   "metadata": {},
   "source": [
    "和 `vstack()`, `hstack()` 不同，`dstack()` 在原数组的维度上又增加了一维。\n",
    "\n",
    "比较上面用 `dstack()` 合并后的数组打印结果和下图我们习惯理解的在深度上合并的结果，发现两者不一致。"
   ]
  },
  {
   "cell_type": "code",
   "execution_count": 75,
   "metadata": {
    "ExecuteTime": {
     "end_time": "2022-03-07T14:58:46.221252Z",
     "start_time": "2022-03-07T14:58:46.211262Z"
    }
   },
   "outputs": [
    {
     "data": {
      "text/plain": [
       "(2, 3, 2)"
      ]
     },
     "execution_count": 75,
     "metadata": {},
     "output_type": "execute_result"
    }
   ],
   "source": [
    "np.dstack((arr1, arr2)).shape"
   ]
  },
  {
   "cell_type": "code",
   "execution_count": 76,
   "metadata": {
    "ExecuteTime": {
     "end_time": "2022-03-07T14:58:47.024910Z",
     "start_time": "2022-03-07T14:58:47.003914Z"
    }
   },
   "outputs": [
    {
     "data": {
      "text/plain": [
       "array([[[ 1,  2,  3],\n",
       "        [ 4,  5,  6]],\n",
       "\n",
       "       [[ 7,  8,  9],\n",
       "        [10, 11, 12]]])"
      ]
     },
     "execution_count": 76,
     "metadata": {},
     "output_type": "execute_result"
    }
   ],
   "source": [
    "arr_d = np.dstack((arr1, arr2))\n",
    "arr_d.transpose(2,0,1)      #后续transpose还有详解"
   ]
  },
  {
   "cell_type": "markdown",
   "metadata": {},
   "source": [
    "一图胜千言来总结三种类型 `stack()` 函数。\n",
    "\n",
    "<img src=\"stack.png\" style=\"width:650px; height:350px;\">"
   ]
  },
  {
   "cell_type": "markdown",
   "metadata": {},
   "source": [
    "### 分裂\n",
    "\n",
    "用于分裂的方式有两种：\n",
    "\n",
    "1. 有通用的 `split()`\n",
    "2. 有专用的 `hsplit()`, `vsplit()`\n",
    "\n",
    "用下面数组来举例："
   ]
  },
  {
   "cell_type": "code",
   "execution_count": 77,
   "metadata": {
    "ExecuteTime": {
     "end_time": "2022-03-07T15:00:34.404785Z",
     "start_time": "2022-03-07T15:00:34.390642Z"
    }
   },
   "outputs": [
    {
     "data": {
      "text/plain": [
       "array([[ 1,  2,  3,  4,  5],\n",
       "       [ 6,  7,  8,  9, 10],\n",
       "       [11, 12, 13, 14, 15],\n",
       "       [16, 17, 18, 19, 20],\n",
       "       [21, 22, 23, 24, 25]])"
      ]
     },
     "execution_count": 77,
     "metadata": {},
     "output_type": "execute_result"
    }
   ],
   "source": [
    "arr = np.arange(1,26).reshape((5,5))\n",
    "arr"
   ]
  },
  {
   "cell_type": "markdown",
   "metadata": {},
   "source": [
    "#### `split`\n",
    "和 `concatenate()` 函数一样，我们可以在 `split()` 函数里通过设定轴，来对数组按轴来分裂。对二维数组，\n",
    "\n",
    "- `axis = 0`：按行分裂，或沿竖直方向分裂\n",
    "- `axis = 1`：按列分裂，或沿水平方向分裂"
   ]
  },
  {
   "cell_type": "code",
   "execution_count": 78,
   "metadata": {
    "ExecuteTime": {
     "end_time": "2022-03-07T15:01:05.508696Z",
     "start_time": "2022-03-07T15:01:05.488646Z"
    }
   },
   "outputs": [
    {
     "name": "stdout",
     "output_type": "stream",
     "text": [
      "第一部分为 [[1 2 3 4 5]]\n",
      "第二部分为 [[ 6  7  8  9 10]\n",
      " [11 12 13 14 15]]\n",
      "第三部分为 [[16 17 18 19 20]\n",
      " [21 22 23 24 25]]\n"
     ]
    }
   ],
   "source": [
    "first, second, third = np.split(arr,[1,3])\n",
    "print( '第一部分为', first )\n",
    "print( '第二部分为', second )\n",
    "print( '第三部分为', third )"
   ]
  },
  {
   "cell_type": "markdown",
   "metadata": {},
   "source": [
    "`split()` 函数默认沿着轴 0 分裂，其第二个参数 [1, 3] 相当于是个切片操作，将数组分成三部分：\n",
    "\n",
    "- 第一部分 - `:1`   (第 1 行)\n",
    "- 第二部分 - `1: 3` (第 2 到 3 行)\n",
    "- 第二部分 - `3:`   (第 4 到 5 行)\n",
    "\n",
    "#### `vsplit, hsplit`\n",
    "通用的 `split()` 是好，但是效率不高，NumPy 里还有专门分裂的函数细分有两种，\n",
    "\n",
    "- `vsplit()`：v 代表 vertical，沿着竖直方向分裂，即沿着「轴 0」分裂，和 `split(axis=0)` 等价。\n",
    "- `hsplit()`：h 代表 horizontal，沿着水平方向分裂，即沿着「轴 1」分裂，和 `split(axis=1)` 等价。\n",
    "\n",
    "用下面数组 `arr` 来举例："
   ]
  },
  {
   "cell_type": "code",
   "execution_count": 79,
   "metadata": {
    "ExecuteTime": {
     "end_time": "2022-03-07T15:01:15.043710Z",
     "start_time": "2022-03-07T15:01:15.025663Z"
    }
   },
   "outputs": [
    {
     "name": "stdout",
     "output_type": "stream",
     "text": [
      "第一部分为： \n",
      " [[ 1  2  3  4  5]\n",
      " [ 6  7  8  9 10]]\n",
      "第二部分为： \n",
      " [[11 12 13 14 15]\n",
      " [16 17 18 19 20]\n",
      " [21 22 23 24 25]]\n"
     ]
    }
   ],
   "source": [
    "first, second = np.vsplit(arr,[2])\n",
    "print( '第一部分为：','\\n', first )\n",
    "print( '第二部分为：','\\n', second )"
   ]
  },
  {
   "cell_type": "code",
   "execution_count": 80,
   "metadata": {
    "ExecuteTime": {
     "end_time": "2022-03-07T15:01:16.465704Z",
     "start_time": "2022-03-07T15:01:16.456704Z"
    }
   },
   "outputs": [
    {
     "name": "stdout",
     "output_type": "stream",
     "text": [
      "第一部分为： \n",
      " [[ 1]\n",
      " [ 6]\n",
      " [11]\n",
      " [16]\n",
      " [21]]\n",
      "第二部分为： \n",
      " [[ 2  3]\n",
      " [ 7  8]\n",
      " [12 13]\n",
      " [17 18]\n",
      " [22 23]]\n",
      "第三部分为： \n",
      " [[ 4  5]\n",
      " [ 9 10]\n",
      " [14 15]\n",
      " [19 20]\n",
      " [24 25]]\n"
     ]
    }
   ],
   "source": [
    "first, second, third = np.hsplit(arr,[1,3])\n",
    "print( '第一部分为：','\\n', first )\n",
    "print( '第二部分为：','\\n', second )\n",
    "print( '第三部分为：','\\n', third )"
   ]
  },
  {
   "cell_type": "markdown",
   "metadata": {},
   "source": [
    "一图胜千言来总结两种类型 `split()` 函数。\n",
    "\n",
    "<img src=\"split.png\" style=\"width:500px; height:250px;\">\n",
    "\n",
    "## 重复和拼接\n",
    "\n",
    "重复和拼接这两个操作本质都是复制，\n",
    "\n",
    "- 重复是在**元素层面**复制，用 `repeat()` 函数。\n",
    "- 拼接是在**数组层面**复制，用 `tile()` 函数。\n",
    "\n",
    "### `Repeat`\n",
    "`repeat()` 函数复制的是数组的每一个元素，参数有几种设定方法：\n",
    "\n",
    "- 一维数组：用**整数型**和**列表型**参数来控制元素被复制的个数。\n",
    "- 多维数组：用**整数型**和**列表型**参数来控制元素被复制的个数，用轴来控制复制的方向。\n",
    "\n",
    "先拿一维数组 `arr` 举例："
   ]
  },
  {
   "cell_type": "code",
   "execution_count": 81,
   "metadata": {
    "ExecuteTime": {
     "end_time": "2022-03-07T15:01:53.755723Z",
     "start_time": "2022-03-07T15:01:53.738678Z"
    }
   },
   "outputs": [
    {
     "name": "stdout",
     "output_type": "stream",
     "text": [
      "[0 1 2]\n"
     ]
    }
   ],
   "source": [
    "arr = np.arange(3)\n",
    "print( arr )"
   ]
  },
  {
   "cell_type": "markdown",
   "metadata": {},
   "source": [
    "**标量参数** - 将数组 `arr` 里每个元素复制 3 遍。"
   ]
  },
  {
   "cell_type": "code",
   "execution_count": 82,
   "metadata": {
    "ExecuteTime": {
     "end_time": "2022-03-07T15:02:03.469843Z",
     "start_time": "2022-03-07T15:02:03.456849Z"
    }
   },
   "outputs": [
    {
     "name": "stdout",
     "output_type": "stream",
     "text": [
      "[0 0 0 1 1 1 2 2 2]\n"
     ]
    }
   ],
   "source": [
    "print( arr.repeat(3) )"
   ]
  },
  {
   "cell_type": "markdown",
   "metadata": {},
   "source": [
    "**列表参数** - 将数组 `arr` 里第一个元素复制 2 遍，第二个元素复制 3 遍，第三个元素复制 4 遍。"
   ]
  },
  {
   "cell_type": "code",
   "execution_count": 83,
   "metadata": {
    "ExecuteTime": {
     "end_time": "2022-03-07T15:02:08.327793Z",
     "start_time": "2022-03-07T15:02:08.312874Z"
    }
   },
   "outputs": [
    {
     "name": "stdout",
     "output_type": "stream",
     "text": [
      "[0 0 1 1 1 2 2 2 2]\n"
     ]
    }
   ],
   "source": [
    "print( arr.repeat([2,3,4]) )"
   ]
  },
  {
   "cell_type": "markdown",
   "metadata": {},
   "source": [
    "先拿二维数组 `arr2d` 举例，这时需要额外参数在指定轴上做重复。"
   ]
  },
  {
   "cell_type": "code",
   "execution_count": 84,
   "metadata": {
    "ExecuteTime": {
     "end_time": "2022-03-07T15:02:17.931531Z",
     "start_time": "2022-03-07T15:02:17.922606Z"
    }
   },
   "outputs": [
    {
     "name": "stdout",
     "output_type": "stream",
     "text": [
      "[[0 1 2]\n",
      " [3 4 5]]\n"
     ]
    }
   ],
   "source": [
    "arr2d = np.arange(6).reshape((2,3))\n",
    "print( arr2d )"
   ]
  },
  {
   "cell_type": "markdown",
   "metadata": {},
   "source": [
    "**标量参数和轴参数** - 将数组 `arr2d` 中每个元素沿着轴 0 复制 2 遍。"
   ]
  },
  {
   "cell_type": "code",
   "execution_count": 85,
   "metadata": {
    "ExecuteTime": {
     "end_time": "2022-03-07T15:02:21.291677Z",
     "start_time": "2022-03-07T15:02:21.272681Z"
    }
   },
   "outputs": [
    {
     "name": "stdout",
     "output_type": "stream",
     "text": [
      "[[0 1 2]\n",
      " [0 1 2]\n",
      " [3 4 5]\n",
      " [3 4 5]]\n"
     ]
    }
   ],
   "source": [
    "print( arr2d.repeat(2, axis=0) )"
   ]
  },
  {
   "cell_type": "markdown",
   "metadata": {},
   "source": [
    "**列表参数和轴参数** - 将数组 `arr2d` 中每个元素沿着轴 1 分别复制 2, 3, 4 遍。"
   ]
  },
  {
   "cell_type": "code",
   "execution_count": 86,
   "metadata": {
    "ExecuteTime": {
     "end_time": "2022-03-07T15:02:24.338739Z",
     "start_time": "2022-03-07T15:02:24.329749Z"
    }
   },
   "outputs": [
    {
     "name": "stdout",
     "output_type": "stream",
     "text": [
      "[[0 0 1 1 1 2 2 2 2]\n",
      " [3 3 4 4 4 5 5 5 5]]\n"
     ]
    }
   ],
   "source": [
    "print( arr2d.repeat([2,3,4], axis=1) )"
   ]
  },
  {
   "cell_type": "markdown",
   "metadata": {},
   "source": [
    "### `Tile`\n",
    "`tile()` 函数复制的是数组本身，参数有几种设定方法：\n",
    "\n",
    "- 整数型：把数组当成一个元素，按列复制\n",
    "- 元组型：把数组当成一个元素，按形状复制\n",
    "\n",
    "用下面数组 `arr2d` 来举例："
   ]
  },
  {
   "cell_type": "code",
   "execution_count": 87,
   "metadata": {
    "ExecuteTime": {
     "end_time": "2022-03-07T15:02:34.663677Z",
     "start_time": "2022-03-07T15:02:34.649683Z"
    }
   },
   "outputs": [
    {
     "name": "stdout",
     "output_type": "stream",
     "text": [
      "[[0 1 2]\n",
      " [3 4 5]]\n"
     ]
    }
   ],
   "source": [
    "arr2d = np.arange(6).reshape((2,3))\n",
    "print( arr2d )"
   ]
  },
  {
   "cell_type": "markdown",
   "metadata": {},
   "source": [
    "**标量参数** - 数组 `arr2d` 按列复制 2 遍。"
   ]
  },
  {
   "cell_type": "code",
   "execution_count": 88,
   "metadata": {
    "ExecuteTime": {
     "end_time": "2022-03-07T15:02:42.747257Z",
     "start_time": "2022-03-07T15:02:42.737094Z"
    }
   },
   "outputs": [
    {
     "name": "stdout",
     "output_type": "stream",
     "text": [
      "[[0 1 2 0 1 2]\n",
      " [3 4 5 3 4 5]]\n"
     ]
    }
   ],
   "source": [
    "print( np.tile(arr2d,2) )"
   ]
  },
  {
   "cell_type": "markdown",
   "metadata": {},
   "source": [
    "**元组参数** - 数组 `arr2d` 按形状复制 6 (2×3) 遍，并以 (2,3) “矩阵”的形式展现。可以想象成是矩阵中有矩阵。"
   ]
  },
  {
   "cell_type": "code",
   "execution_count": 89,
   "metadata": {
    "ExecuteTime": {
     "end_time": "2022-03-07T15:02:44.790379Z",
     "start_time": "2022-03-07T15:02:44.775331Z"
    }
   },
   "outputs": [
    {
     "name": "stdout",
     "output_type": "stream",
     "text": [
      "[[0 1 2 0 1 2 0 1 2]\n",
      " [3 4 5 3 4 5 3 4 5]\n",
      " [0 1 2 0 1 2 0 1 2]\n",
      " [3 4 5 3 4 5 3 4 5]]\n"
     ]
    }
   ],
   "source": [
    "print( np.tile(arr2d, (2,3)) )"
   ]
  },
  {
   "cell_type": "markdown",
   "metadata": {},
   "source": [
    "## 排序\n",
    "\n",
    "排序包括**直接排序** (direct sort) 和**间接排序** (indirect sort)。\n",
    "\n",
    "### 直接排序\n",
    "\n",
    "和列表的 `sort()` 函数一样，数组的 `sort()` 函数也是原地 (in-place) 排序，即在原数组操作而不需要新创建一个数组。"
   ]
  },
  {
   "cell_type": "code",
   "execution_count": 90,
   "metadata": {
    "ExecuteTime": {
     "end_time": "2022-03-07T15:03:06.773691Z",
     "start_time": "2022-03-07T15:03:06.745720Z"
    }
   },
   "outputs": [
    {
     "name": "stdout",
     "output_type": "stream",
     "text": [
      "排序前 arr = [5 3 2 6 1 4]\n",
      "排序后 arr = [1 2 3 4 5 6]\n"
     ]
    }
   ],
   "source": [
    "arr = np.array([5,3,2,6,1,4])\n",
    "print( '排序前 arr =', arr )\n",
    "arr.sort()\n",
    "print( '排序后 arr =', arr )"
   ]
  },
  {
   "cell_type": "markdown",
   "metadata": {},
   "source": [
    "`sort()` 函数是按升序 (ascending order) 排列的，该函数里没有参数可以控制**顺序**，如果想要降序排列数组，只需在升序排序后"
   ]
  },
  {
   "cell_type": "code",
   "execution_count": 91,
   "metadata": {
    "ExecuteTime": {
     "end_time": "2022-03-07T15:03:12.872383Z",
     "start_time": "2022-03-07T15:03:12.866390Z"
    }
   },
   "outputs": [
    {
     "name": "stdout",
     "output_type": "stream",
     "text": [
      "[6 5 4 3 2 1]\n"
     ]
    }
   ],
   "source": [
    "print( arr[::-1] )"
   ]
  },
  {
   "cell_type": "markdown",
   "metadata": {},
   "source": [
    "用来排序数组用两种方式：\n",
    "\n",
    "1. `arr.sort()`\n",
    "2. `np.sort( arr )`\n",
    "\n",
    "第一种方式是原地排序，因此会改变 `arr`；第二种方式在排序时复制了 `arr` 再排序，因此不会改变 `arr`。\n",
    "\n",
    "看下面代码，用一个形状是 (3, 4) 的「二维随机整数」数组来举例，用整数是为了便于读者好观察排序前后的变化。为了能重现之前的结果，我们设定随机种子为 1031 (可以设为任何整数)。"
   ]
  },
  {
   "cell_type": "code",
   "execution_count": 92,
   "metadata": {
    "ExecuteTime": {
     "end_time": "2022-03-07T15:03:33.705787Z",
     "start_time": "2022-03-07T15:03:33.689711Z"
    }
   },
   "outputs": [],
   "source": [
    "np.random.seed(1031)"
   ]
  },
  {
   "cell_type": "code",
   "execution_count": 93,
   "metadata": {
    "ExecuteTime": {
     "end_time": "2022-03-07T15:03:34.730092Z",
     "start_time": "2022-03-07T15:03:34.701740Z"
    }
   },
   "outputs": [
    {
     "name": "stdout",
     "output_type": "stream",
     "text": [
      "[[24 32 23 30]\n",
      " [26 27 28  0]\n",
      " [ 9 14 24 13]]\n"
     ]
    }
   ],
   "source": [
    "arr = np.random.randint( 40, size=(3,4) )\n",
    "print( arr )"
   ]
  },
  {
   "cell_type": "markdown",
   "metadata": {},
   "source": [
    "用 `arr.sort()` 对第一列排序，操作完后发现 `arr` 的元素已经改变。"
   ]
  },
  {
   "cell_type": "code",
   "execution_count": 94,
   "metadata": {
    "ExecuteTime": {
     "end_time": "2022-03-07T15:03:36.994652Z",
     "start_time": "2022-03-07T15:03:36.974606Z"
    }
   },
   "outputs": [
    {
     "name": "stdout",
     "output_type": "stream",
     "text": [
      "[[ 9 32 23 30]\n",
      " [24 27 28  0]\n",
      " [26 14 24 13]]\n"
     ]
    }
   ],
   "source": [
    "arr[:, 0].sort()\n",
    "print( arr )"
   ]
  },
  {
   "cell_type": "markdown",
   "metadata": {},
   "source": [
    "用 `np.sort(arr)` 对第二列排序，操作完后发现 `arr` 的元素不变。"
   ]
  },
  {
   "cell_type": "code",
   "execution_count": 95,
   "metadata": {
    "ExecuteTime": {
     "end_time": "2022-03-07T15:03:52.274704Z",
     "start_time": "2022-03-07T15:03:52.258705Z"
    }
   },
   "outputs": [
    {
     "data": {
      "text/plain": [
       "array([14, 27, 32])"
      ]
     },
     "execution_count": 95,
     "metadata": {},
     "output_type": "execute_result"
    }
   ],
   "source": [
    "np.sort(arr[:,1])"
   ]
  },
  {
   "cell_type": "code",
   "execution_count": 96,
   "metadata": {
    "ExecuteTime": {
     "end_time": "2022-03-07T15:03:55.208331Z",
     "start_time": "2022-03-07T15:03:55.196419Z"
    }
   },
   "outputs": [
    {
     "name": "stdout",
     "output_type": "stream",
     "text": [
      "[[ 9 32 23 30]\n",
      " [24 27 28  0]\n",
      " [26 14 24 13]]\n"
     ]
    }
   ],
   "source": [
    "print( arr )"
   ]
  },
  {
   "cell_type": "markdown",
   "metadata": {},
   "source": [
    "此外 `sort()` 函数也可以在不同的轴上排序。对于二维数组，在「轴 0」上排序是「跨行」排序，在「轴 1」上排序是「跨列」排序。"
   ]
  },
  {
   "cell_type": "code",
   "execution_count": 97,
   "metadata": {
    "ExecuteTime": {
     "end_time": "2022-03-07T15:04:03.517987Z",
     "start_time": "2022-03-07T15:04:03.511988Z"
    }
   },
   "outputs": [
    {
     "name": "stdout",
     "output_type": "stream",
     "text": [
      "[[ 9 23 30 32]\n",
      " [ 0 24 27 28]\n",
      " [13 14 24 26]]\n"
     ]
    }
   ],
   "source": [
    "arr.sort(axis=1)\n",
    "print( arr )"
   ]
  },
  {
   "cell_type": "code",
   "execution_count": 98,
   "metadata": {
    "ExecuteTime": {
     "end_time": "2022-03-07T15:04:04.393621Z",
     "start_time": "2022-03-07T15:04:04.387496Z"
    }
   },
   "outputs": [
    {
     "name": "stdout",
     "output_type": "stream",
     "text": [
      "[[ 0 14 24 26]\n",
      " [ 9 23 27 28]\n",
      " [13 24 30 32]]\n"
     ]
    }
   ],
   "source": [
    "arr.sort(axis=0)\n",
    "print( arr )"
   ]
  },
  {
   "cell_type": "markdown",
   "metadata": {},
   "source": [
    "### 间接排序（ `argsort`）\n",
    "\n",
    "有时候不仅仅只想排序数组，还想在排序过程中**提取排好的新数组中每个元素在原数组对应的索引** (index)，这时 `argsort()` 函数就派上用场了。"
   ]
  },
  {
   "cell_type": "code",
   "execution_count": 99,
   "metadata": {
    "ExecuteTime": {
     "end_time": "2022-03-07T15:04:09.799762Z",
     "start_time": "2022-03-07T15:04:09.792712Z"
    }
   },
   "outputs": [
    {
     "name": "stdout",
     "output_type": "stream",
     "text": [
      "[1 3 4 2 0]\n"
     ]
    }
   ],
   "source": [
    "score = np.array([100, 60, 99, 80, 91])\n",
    "idx = score.argsort()\n",
    "print( idx )"
   ]
  },
  {
   "cell_type": "markdown",
   "metadata": {},
   "source": [
    "这个 `idx = [1 3 4 2 0]` 存储着排序之后元素在原数组中的位置索引。\n",
    "\n",
    "按升序排完之后分数应该是 `result` [<font color='blue'>60 80 91 99 100</font>]，下面来分析和 `idx` 中 [<font color='red'>1 3 4 2 0</font>] 之间的关系。\n",
    "\n",
    "- 60，即 `score`[<font color='red'>1</font>] 的元素排完后在 `result` 的第<font color='blue'> 0 </font>位， 因此 `idx`[<font color='blue'>0</font>] = <font color='red'>1</font>\n",
    "\n",
    "- 80，即 `score`[<font color='red'>3</font>] 的元素排完后在 `result` 的第<font color='blue'> 1 </font>位， 因此 `idx`[<font color='blue'>1</font>] =<font color='red'>3</font>\n",
    "\n",
    "- 91，即 `score`[<font color='red'>4</font>] 的元素排完后在 `result` 的第<font color='blue'> 2 </font>位， 因此 `idx`[<font color='blue'>2</font>] =<font color='red'>4</font>\n",
    "\n",
    "- 99，即 `score`[<font color='red'>2</font>] 的元素排完后在 `result` 的第<font color='blue'> 3 </font>位， 因此 `idx`[<font color='blue'>3</font>] =<font color='red'>2</font>\n",
    "\n",
    "- 100，即 `score`[<font color='red'>0</font>] 的元素排完后在 `result` 的第<font color='blue'> 4 </font>位， 因此 `idx`[<font color='blue'>4</font>] =<font color='red'>0</font>\n",
    "\n",
    "用这个 `idx` 对 `score` 做一个「花式索引」得到"
   ]
  },
  {
   "cell_type": "code",
   "execution_count": 100,
   "metadata": {
    "ExecuteTime": {
     "end_time": "2022-03-07T15:04:12.925708Z",
     "start_time": "2022-03-07T15:04:12.904789Z"
    }
   },
   "outputs": [
    {
     "name": "stdout",
     "output_type": "stream",
     "text": [
      "[ 60  80  91  99 100]\n"
     ]
    }
   ],
   "source": [
    "print( score[idx] )"
   ]
  },
  {
   "cell_type": "markdown",
   "metadata": {},
   "source": [
    "再看一个稍微复杂一点的例子，根据第一行排序的结果调整其他行的顺序。"
   ]
  },
  {
   "cell_type": "code",
   "execution_count": 101,
   "metadata": {
    "ExecuteTime": {
     "end_time": "2022-03-07T15:04:49.172723Z",
     "start_time": "2022-03-07T15:04:49.162638Z"
    }
   },
   "outputs": [
    {
     "data": {
      "text/plain": [
       "array([[33, 76, 22, 63],\n",
       "       [53, 88, 22, 86],\n",
       "       [62, 52, 31, 49]])"
      ]
     },
     "execution_count": 101,
     "metadata": {},
     "output_type": "execute_result"
    }
   ],
   "source": [
    "arr = np.random.randint( 100, size=(3,4) )\n",
    "arr"
   ]
  },
  {
   "cell_type": "code",
   "execution_count": 102,
   "metadata": {
    "ExecuteTime": {
     "end_time": "2022-03-07T15:04:50.014780Z",
     "start_time": "2022-03-07T15:04:50.001849Z"
    }
   },
   "outputs": [
    {
     "data": {
      "text/plain": [
       "array([[22, 33, 63, 76],\n",
       "       [22, 53, 86, 88],\n",
       "       [31, 62, 49, 52]])"
      ]
     },
     "execution_count": 102,
     "metadata": {},
     "output_type": "execute_result"
    }
   ],
   "source": [
    "arr[:, arr[0].argsort()]"
   ]
  },
  {
   "cell_type": "markdown",
   "metadata": {},
   "source": [
    "解决该问题分两步：\n",
    "\n",
    "1. 用 `argsort()` 函数得到位置索引 `idx`。\n",
    "2. 将 `idx` 用到所有行上。"
   ]
  },
  {
   "cell_type": "code",
   "execution_count": 103,
   "metadata": {
    "ExecuteTime": {
     "end_time": "2022-03-07T15:04:53.418294Z",
     "start_time": "2022-03-07T15:04:53.408368Z"
    }
   },
   "outputs": [
    {
     "data": {
      "text/plain": [
       "array([2, 0, 3, 1], dtype=int64)"
      ]
     },
     "execution_count": 103,
     "metadata": {},
     "output_type": "execute_result"
    }
   ],
   "source": [
    "idx = arr[0].argsort()\n",
    "idx"
   ]
  },
  {
   "cell_type": "code",
   "execution_count": 104,
   "metadata": {
    "ExecuteTime": {
     "end_time": "2022-03-07T15:04:54.251728Z",
     "start_time": "2022-03-07T15:04:54.236734Z"
    }
   },
   "outputs": [
    {
     "data": {
      "text/plain": [
       "array([[22, 33, 63, 76],\n",
       "       [22, 53, 86, 88],\n",
       "       [31, 62, 49, 52]])"
      ]
     },
     "execution_count": 104,
     "metadata": {},
     "output_type": "execute_result"
    }
   ],
   "source": [
    "arr[:, idx]"
   ]
  },
  {
   "cell_type": "markdown",
   "metadata": {},
   "source": [
    "## 添加（`insert`）和删除（`delete`）\n",
    "\n",
    "在数组中添加和删除操作和列表一样\n",
    "\n",
    "- 用 `insert()` 函数在某个特定位置**之前**插入元素\n",
    "- 用 `delete()` 函数删除某些特定元素"
   ]
  },
  {
   "cell_type": "code",
   "execution_count": 105,
   "metadata": {
    "ExecuteTime": {
     "end_time": "2022-03-07T15:07:47.791838Z",
     "start_time": "2022-03-07T15:07:47.770783Z"
    },
    "scrolled": true
   },
   "outputs": [
    {
     "name": "stdout",
     "output_type": "stream",
     "text": [
      "[0 1 2 3 4 5]\n",
      "[  0 100   1   2   3   4   5]\n",
      "[0 2 4 5]\n"
     ]
    }
   ],
   "source": [
    "arr = np.arange(6)\n",
    "print( arr )\n",
    "print( np.insert(arr, 1, 100) )\n",
    "print( np.delete(arr, [1,3]) )"
   ]
  },
  {
   "cell_type": "markdown",
   "metadata": {},
   "source": [
    "## 视图（`view`）和复制（`copy`）\n",
    "\n",
    "对于数组 `arr`\n",
    "\n",
    "- 用 `view()` 函数来对 `arr` 做视图，`arr_view` 指向 `arr` 但没有复制它，改变 `arr_view` 里面的元素**会改变** `arr`，类似于指针。\n",
    "- 用 `copy()` 函数来对 `arr` 做复制，改变 `arr_copy` 里面的元素**不改变** `arr`。"
   ]
  },
  {
   "cell_type": "code",
   "execution_count": 106,
   "metadata": {
    "ExecuteTime": {
     "end_time": "2022-03-07T15:08:00.449090Z",
     "start_time": "2022-03-07T15:08:00.430154Z"
    }
   },
   "outputs": [
    {
     "name": "stdout",
     "output_type": "stream",
     "text": [
      "更改 arr_view 之前, arr =  [0 1 2 3]\n",
      "更改 arr_view 之后, arr =  [0 1 2 9]\n"
     ]
    }
   ],
   "source": [
    "arr = np.arange(4)\n",
    "arr_view = arr.view()\n",
    "print( '更改 arr_view 之前, arr = ', arr )\n",
    "arr_view[-1] = 9\n",
    "print( '更改 arr_view 之后, arr = ', arr )"
   ]
  },
  {
   "cell_type": "code",
   "execution_count": 107,
   "metadata": {
    "ExecuteTime": {
     "end_time": "2022-03-07T15:08:01.265821Z",
     "start_time": "2022-03-07T15:08:01.245832Z"
    }
   },
   "outputs": [
    {
     "name": "stdout",
     "output_type": "stream",
     "text": [
      "更改 arr_copy 之前, arr =  [0 1 2 3]\n",
      "更改 arr_copy 之后, arr =  [0 1 2 3]\n"
     ]
    }
   ],
   "source": [
    "arr = np.arange(4)\n",
    "arr_copy = arr.copy()\n",
    "print( '更改 arr_copy 之前, arr = ', arr )\n",
    "arr_copy[-1] = 9\n",
    "print( '更改 arr_copy 之后, arr = ', arr )"
   ]
  },
  {
   "cell_type": "markdown",
   "metadata": {},
   "source": [
    "# 数组的计算\n",
    "\n",
    "本节介绍四大类的数组计算，它们分别是\n",
    "\n",
    "1.\t元素层面 (element-wise) 计算\n",
    "2.\t线性代数 (linear algebra) 计算\n",
    "3.\t元素整合 (element aggregation) 计算\n",
    "4.\t广播机制 (broadcasting) 计算\n",
    "\n",
    "## 元素层面\n",
    "\n",
    "在元素层面计算就是在数组上执行一个操作，这个操作并行应用到数组的每一个元素上。这种不需要写 `for` 循环的操作称为**向量化** (vectorization)。\n",
    "\n",
    "Numpy 数组元素层面计算的操作包括：\n",
    "\n",
    "1. 二元运算 (binary operation)：加、减、乘、除\n",
    "2. 函数运算 (math function)：倒数、平方、开方、指数、对数\n",
    "3. 比较运算 (comparison)\n",
    "\n",
    "先定义两个数组 `arr1` 和 `arr2`。"
   ]
  },
  {
   "cell_type": "code",
   "execution_count": 108,
   "metadata": {
    "ExecuteTime": {
     "end_time": "2022-03-07T15:08:14.958295Z",
     "start_time": "2022-03-07T15:08:14.946296Z"
    }
   },
   "outputs": [
    {
     "name": "stdout",
     "output_type": "stream",
     "text": [
      "[[1. 2. 3.]\n",
      " [4. 5. 6.]]\n",
      "[[2. 2. 2.]\n",
      " [2. 2. 2.]]\n"
     ]
    }
   ],
   "source": [
    "arr1 = np.array([[1., 2., 3.], [4., 5., 6.]])\n",
    "arr2 = np.ones((2,3)) * 2\n",
    "print( arr1 )\n",
    "print( arr2 )"
   ]
  },
  {
   "cell_type": "markdown",
   "metadata": {},
   "source": [
    "###  二元运算"
   ]
  },
  {
   "cell_type": "code",
   "execution_count": 109,
   "metadata": {
    "ExecuteTime": {
     "end_time": "2022-03-07T15:08:16.238766Z",
     "start_time": "2022-03-07T15:08:16.224749Z"
    }
   },
   "outputs": [
    {
     "data": {
      "text/plain": [
       "array([[4., 5., 6.],\n",
       "       [7., 8., 9.]])"
      ]
     },
     "execution_count": 109,
     "metadata": {},
     "output_type": "execute_result"
    }
   ],
   "source": [
    "# addition\n",
    "arr1 + arr2 + 1"
   ]
  },
  {
   "cell_type": "code",
   "execution_count": 110,
   "metadata": {
    "ExecuteTime": {
     "end_time": "2022-03-07T15:08:16.936762Z",
     "start_time": "2022-03-07T15:08:16.928832Z"
    }
   },
   "outputs": [
    {
     "data": {
      "text/plain": [
       "array([[-1.,  0.,  1.],\n",
       "       [ 2.,  3.,  4.]])"
      ]
     },
     "execution_count": 110,
     "metadata": {},
     "output_type": "execute_result"
    }
   ],
   "source": [
    "# substraction\n",
    "arr1 - arr2"
   ]
  },
  {
   "cell_type": "code",
   "execution_count": 111,
   "metadata": {
    "ExecuteTime": {
     "end_time": "2022-03-07T15:08:17.584811Z",
     "start_time": "2022-03-07T15:08:17.568769Z"
    }
   },
   "outputs": [
    {
     "data": {
      "text/plain": [
       "array([[ 2.,  4.,  6.],\n",
       "       [ 8., 10., 12.]])"
      ]
     },
     "execution_count": 111,
     "metadata": {},
     "output_type": "execute_result"
    }
   ],
   "source": [
    "# multiplication\n",
    "arr1 * arr2"
   ]
  },
  {
   "cell_type": "code",
   "execution_count": 112,
   "metadata": {
    "ExecuteTime": {
     "end_time": "2022-03-07T15:08:18.912144Z",
     "start_time": "2022-03-07T15:08:18.900784Z"
    }
   },
   "outputs": [
    {
     "data": {
      "text/plain": [
       "array([[0.5, 1. , 1.5],\n",
       "       [2. , 2.5, 3. ]])"
      ]
     },
     "execution_count": 112,
     "metadata": {},
     "output_type": "execute_result"
    }
   ],
   "source": [
    "# division\n",
    "arr1 / arr2"
   ]
  },
  {
   "cell_type": "markdown",
   "metadata": {},
   "source": [
    "在加法运算中，注意在 `arr1 + arr2` 后又加上一个标量 1。标量是如何加在数组上的呢？ NumPy 会将「标量 1」转换成和「`arr1` 一样大小的数组而里面的元素都是 1」，再在元素层面上做加法。上述这个复制标量的操作叫做「广播机制」，是 NumPy 里最重要的一个特点，在本节后面会详细讲到。"
   ]
  },
  {
   "cell_type": "markdown",
   "metadata": {},
   "source": [
    "### 函数运算"
   ]
  },
  {
   "cell_type": "code",
   "execution_count": 113,
   "metadata": {
    "ExecuteTime": {
     "end_time": "2022-03-07T15:08:22.517793Z",
     "start_time": "2022-03-07T15:08:22.496874Z"
    }
   },
   "outputs": [
    {
     "data": {
      "text/plain": [
       "array([[1.        , 0.5       , 0.33333333],\n",
       "       [0.25      , 0.2       , 0.16666667]])"
      ]
     },
     "execution_count": 113,
     "metadata": {},
     "output_type": "execute_result"
    }
   ],
   "source": [
    "# reciprocal\n",
    "1 / arr1"
   ]
  },
  {
   "cell_type": "code",
   "execution_count": 114,
   "metadata": {
    "ExecuteTime": {
     "end_time": "2022-03-07T15:08:24.555199Z",
     "start_time": "2022-03-07T15:08:24.534200Z"
    }
   },
   "outputs": [
    {
     "data": {
      "text/plain": [
       "array([[ 1.,  4.,  9.],\n",
       "       [16., 25., 36.]])"
      ]
     },
     "execution_count": 114,
     "metadata": {},
     "output_type": "execute_result"
    }
   ],
   "source": [
    "# square\n",
    "arr1 ** 2"
   ]
  },
  {
   "cell_type": "code",
   "execution_count": 115,
   "metadata": {
    "ExecuteTime": {
     "end_time": "2022-03-07T15:08:25.298794Z",
     "start_time": "2022-03-07T15:08:25.290794Z"
    }
   },
   "outputs": [
    {
     "data": {
      "text/plain": [
       "array([[1.        , 1.41421356, 1.73205081],\n",
       "       [2.        , 2.23606798, 2.44948974]])"
      ]
     },
     "execution_count": 115,
     "metadata": {},
     "output_type": "execute_result"
    }
   ],
   "source": [
    "# square root\n",
    "np.sqrt( arr1 )"
   ]
  },
  {
   "cell_type": "code",
   "execution_count": 116,
   "metadata": {
    "ExecuteTime": {
     "end_time": "2022-03-07T15:08:26.272793Z",
     "start_time": "2022-03-07T15:08:26.260793Z"
    }
   },
   "outputs": [
    {
     "data": {
      "text/plain": [
       "array([[ 1.22464680e-16, -2.44929360e-16,  3.67394040e-16],\n",
       "       [-4.89858720e-16,  6.12323400e-16, -7.34788079e-16]])"
      ]
     },
     "execution_count": 116,
     "metadata": {},
     "output_type": "execute_result"
    }
   ],
   "source": [
    "# sin\n",
    "np.sin( arr1*np.pi )"
   ]
  },
  {
   "cell_type": "code",
   "execution_count": 117,
   "metadata": {
    "ExecuteTime": {
     "end_time": "2022-03-07T15:08:27.573412Z",
     "start_time": "2022-03-07T15:08:27.555508Z"
    }
   },
   "outputs": [
    {
     "data": {
      "text/plain": [
       "array([[  2.71828183,   7.3890561 ,  20.08553692],\n",
       "       [ 54.59815003, 148.4131591 , 403.42879349]])"
      ]
     },
     "execution_count": 117,
     "metadata": {},
     "output_type": "execute_result"
    }
   ],
   "source": [
    "# exponential\n",
    "np.exp( arr1 )"
   ]
  },
  {
   "cell_type": "code",
   "execution_count": 118,
   "metadata": {
    "ExecuteTime": {
     "end_time": "2022-03-07T15:08:28.565749Z",
     "start_time": "2022-03-07T15:08:28.554751Z"
    }
   },
   "outputs": [
    {
     "data": {
      "text/plain": [
       "array([[0.        , 0.69314718, 1.09861229],\n",
       "       [1.38629436, 1.60943791, 1.79175947]])"
      ]
     },
     "execution_count": 118,
     "metadata": {},
     "output_type": "execute_result"
    }
   ],
   "source": [
    "# logarithm\n",
    "np.log( arr1 )"
   ]
  },
  {
   "cell_type": "markdown",
   "metadata": {},
   "source": [
    "### 比较运算"
   ]
  },
  {
   "cell_type": "code",
   "execution_count": 119,
   "metadata": {
    "ExecuteTime": {
     "end_time": "2022-03-07T15:08:31.156839Z",
     "start_time": "2022-03-07T15:08:31.135794Z"
    }
   },
   "outputs": [
    {
     "data": {
      "text/plain": [
       "array([[False, False,  True],\n",
       "       [ True,  True,  True]])"
      ]
     },
     "execution_count": 119,
     "metadata": {},
     "output_type": "execute_result"
    }
   ],
   "source": [
    "# element-wise comparison\n",
    "arr1 > arr2"
   ]
  },
  {
   "cell_type": "code",
   "execution_count": 120,
   "metadata": {
    "ExecuteTime": {
     "end_time": "2022-03-07T15:08:32.020861Z",
     "start_time": "2022-03-07T15:08:32.013861Z"
    }
   },
   "outputs": [
    {
     "data": {
      "text/plain": [
       "array([[False, False,  True],\n",
       "       [ True,  True,  True]])"
      ]
     },
     "execution_count": 120,
     "metadata": {},
     "output_type": "execute_result"
    }
   ],
   "source": [
    "np.greater(arr1, arr2)"
   ]
  },
  {
   "cell_type": "code",
   "execution_count": 121,
   "metadata": {
    "ExecuteTime": {
     "end_time": "2022-03-07T15:08:36.937407Z",
     "start_time": "2022-03-07T15:08:36.916338Z"
    }
   },
   "outputs": [
    {
     "data": {
      "text/plain": [
       "array([[ True,  True, False],\n",
       "       [False, False, False]])"
      ]
     },
     "execution_count": 121,
     "metadata": {},
     "output_type": "execute_result"
    }
   ],
   "source": [
    "# element-wise comparison + broadcasting\n",
    "arr1 < 3"
   ]
  },
  {
   "cell_type": "code",
   "execution_count": 122,
   "metadata": {
    "ExecuteTime": {
     "end_time": "2022-03-07T15:08:37.727391Z",
     "start_time": "2022-03-07T15:08:37.716390Z"
    }
   },
   "outputs": [
    {
     "data": {
      "text/plain": [
       "array([[ True,  True, False],\n",
       "       [False, False, False]])"
      ]
     },
     "execution_count": 122,
     "metadata": {},
     "output_type": "execute_result"
    }
   ],
   "source": [
    "np.less(arr1, 3)"
   ]
  },
  {
   "cell_type": "code",
   "execution_count": 123,
   "metadata": {
    "ExecuteTime": {
     "end_time": "2022-03-07T15:08:38.964060Z",
     "start_time": "2022-03-07T15:08:38.956059Z"
    }
   },
   "outputs": [
    {
     "data": {
      "text/plain": [
       "False"
      ]
     },
     "execution_count": 123,
     "metadata": {},
     "output_type": "execute_result"
    }
   ],
   "source": [
    "# array-wise comparison\n",
    "np.array_equal( arr1, arr2 )"
   ]
  },
  {
   "cell_type": "code",
   "execution_count": 124,
   "metadata": {
    "ExecuteTime": {
     "end_time": "2022-03-07T15:08:39.723732Z",
     "start_time": "2022-03-07T15:08:39.714733Z"
    }
   },
   "outputs": [
    {
     "data": {
      "text/plain": [
       "False"
      ]
     },
     "execution_count": 124,
     "metadata": {},
     "output_type": "execute_result"
    }
   ],
   "source": [
    "#Returns True if two arrays are element-wise equal within a tolerance.\n",
    "np.allclose( arr1, arr2 )"
   ]
  },
  {
   "cell_type": "markdown",
   "metadata": {},
   "source": [
    "从上面结果总结，\n",
    "\n",
    "- 「数组和数组间的二元运算」都是在元素层面上进行的\n",
    "- 「作用在数组上的函数运算」都是作用在数组的元素层面上的\n",
    "- 「数组和数组间的比较运算」都是在元素层面上进行的"
   ]
  },
  {
   "cell_type": "markdown",
   "metadata": {},
   "source": [
    "## 线性代数\n",
    "\n",
    "线性代数中有大量的矩阵或向量之间的运算。\n",
    "\n",
    "但在 NumPy 中默认不采用矩阵运算，而是数组运算。矩阵只是二维，而数组可以是任何维度，因此数组运算比矩阵运算更加通用些。\n",
    "\n",
    "如果非要用二维数组 `arr2d` 进项矩阵运算，可以通过调用以下函数来实现：\n",
    "\n",
    "    A = np.mat(arr2d)\n",
    "    A = np.asmatrix(arr2d)\n",
    "\n",
    "下面分别对「数组」和「矩阵」从**创建**、**转置**、**求逆**和**相乘**四个方面看看它们的同异。\n",
    "\n",
    "###  创建\n",
    "用 `np.array()` 和 `np.asmatrix()` 来创建数组 `arr2d` 和矩阵 `A`，注意它们的输出有 array 和 matrix 关键词。"
   ]
  },
  {
   "cell_type": "code",
   "execution_count": 125,
   "metadata": {
    "ExecuteTime": {
     "end_time": "2022-03-07T15:09:00.327902Z",
     "start_time": "2022-03-07T15:09:00.312853Z"
    }
   },
   "outputs": [
    {
     "data": {
      "text/plain": [
       "(array([[1, 2],\n",
       "        [3, 4]]),\n",
       " numpy.ndarray)"
      ]
     },
     "execution_count": 125,
     "metadata": {},
     "output_type": "execute_result"
    }
   ],
   "source": [
    "arr2d = np.array([[1,2],[3,4]])\n",
    "arr2d, type(arr2d)"
   ]
  },
  {
   "cell_type": "code",
   "execution_count": 126,
   "metadata": {
    "ExecuteTime": {
     "end_time": "2022-03-07T15:09:01.082977Z",
     "start_time": "2022-03-07T15:09:01.075861Z"
    }
   },
   "outputs": [
    {
     "data": {
      "text/plain": [
       "(matrix([[1, 2],\n",
       "         [3, 4]]),\n",
       " numpy.matrix)"
      ]
     },
     "execution_count": 126,
     "metadata": {},
     "output_type": "execute_result"
    }
   ],
   "source": [
    "A = np.asmatrix(arr2d)\n",
    "A, type(A)"
   ]
  },
  {
   "cell_type": "markdown",
   "metadata": {},
   "source": [
    "### 转置\n",
    "\n",
    "数组用 `arr2d.T` 操作或 `arr.tranpose()` 函数，而矩阵用 `A.T` 操作。"
   ]
  },
  {
   "cell_type": "code",
   "execution_count": 127,
   "metadata": {
    "ExecuteTime": {
     "end_time": "2022-03-07T15:09:02.419785Z",
     "start_time": "2022-03-07T15:09:02.408643Z"
    }
   },
   "outputs": [
    {
     "data": {
      "text/plain": [
       "array([[1, 3],\n",
       "       [2, 4]])"
      ]
     },
     "execution_count": 127,
     "metadata": {},
     "output_type": "execute_result"
    }
   ],
   "source": [
    "arr2d.T"
   ]
  },
  {
   "cell_type": "code",
   "execution_count": 128,
   "metadata": {
    "ExecuteTime": {
     "end_time": "2022-03-07T15:09:03.147738Z",
     "start_time": "2022-03-07T15:09:03.139673Z"
    }
   },
   "outputs": [
    {
     "data": {
      "text/plain": [
       "array([[1, 3],\n",
       "       [2, 4]])"
      ]
     },
     "execution_count": 128,
     "metadata": {},
     "output_type": "execute_result"
    }
   ],
   "source": [
    "arr2d.transpose()"
   ]
  },
  {
   "cell_type": "code",
   "execution_count": 129,
   "metadata": {
    "ExecuteTime": {
     "end_time": "2022-03-07T15:09:03.842829Z",
     "start_time": "2022-03-07T15:09:03.824784Z"
    }
   },
   "outputs": [
    {
     "data": {
      "text/plain": [
       "matrix([[1, 3],\n",
       "        [2, 4]])"
      ]
     },
     "execution_count": 129,
     "metadata": {},
     "output_type": "execute_result"
    }
   ],
   "source": [
    " A.T"
   ]
  },
  {
   "cell_type": "markdown",
   "metadata": {},
   "source": [
    "主要原因就是 .T 只适合二维数据，如果是三维数组呢？"
   ]
  },
  {
   "cell_type": "code",
   "execution_count": 130,
   "metadata": {
    "ExecuteTime": {
     "end_time": "2022-03-07T15:09:05.323336Z",
     "start_time": "2022-03-07T15:09:05.304285Z"
    }
   },
   "outputs": [
    {
     "name": "stdout",
     "output_type": "stream",
     "text": [
      "[[[ 0  1  2  3]\n",
      "  [ 4  5  6  7]]\n",
      "\n",
      " [[ 8  9 10 11]\n",
      "  [12 13 14 15]]\n",
      "\n",
      " [[16 17 18 19]\n",
      "  [20 21 22 23]]]\n",
      "(3, 2, 4)\n"
     ]
    }
   ],
   "source": [
    "arr3d = np.arange(24).reshape((3,2,4))\n",
    "print(arr3d)\n",
    "print(arr3d.shape)"
   ]
  },
  {
   "cell_type": "markdown",
   "metadata": {},
   "source": [
    "将第 1, 2, 3 维度转置到第 3, 1, 2 维度，即将 **`(轴 0, 轴 1, 轴 2)`** 转置到 **`(轴 2, 轴 0, 轴 1)`**。"
   ]
  },
  {
   "cell_type": "code",
   "execution_count": 131,
   "metadata": {
    "ExecuteTime": {
     "end_time": "2022-03-07T15:09:07.143806Z",
     "start_time": "2022-03-07T15:09:07.128809Z"
    }
   },
   "outputs": [
    {
     "name": "stdout",
     "output_type": "stream",
     "text": [
      "[[[ 0  4]\n",
      "  [ 8 12]\n",
      "  [16 20]]\n",
      "\n",
      " [[ 1  5]\n",
      "  [ 9 13]\n",
      "  [17 21]]\n",
      "\n",
      " [[ 2  6]\n",
      "  [10 14]\n",
      "  [18 22]]\n",
      "\n",
      " [[ 3  7]\n",
      "  [11 15]\n",
      "  [19 23]]]\n",
      "(4, 3, 2)\n"
     ]
    }
   ],
   "source": [
    "arr3dT = arr3d.transpose(2,0,1)\n",
    "print(arr3dT)\n",
    "print(arr3dT.shape)"
   ]
  },
  {
   "cell_type": "markdown",
   "metadata": {},
   "source": [
    "**数组转置的本质：交换每个轴 (axis) 的形状 (shape) 和跨度 (stride)。**\n",
    "\n",
    "<img src=\"transpose 2 0 1.PNG\" style=\"width:800px; height:450px;\">\n",
    "\n",
    "上图可分解成四个小图来解释转置过程：\n",
    "\n",
    "1. 原数组 `arr3d` 的形状是 `(3,2,4)`，对应着 **`(轴 0, 轴 1, 轴 2)`**。\n",
    "2. 数组 `arr3d` 在内存里的样子，注意每个轴指向的位置。\n",
    "3. 从 **`(轴 0, 轴 1, 轴 2)`** 转置到 **`(轴 2, 轴 0, 轴 1)`**，转置后的数组 `arr3dT` 的形状变成 `(4,3,2)`。\n",
    "4. 将数组 `arr3dT` 在内存里的样子视图成打印出的样子。 \n",
    "\n",
    "按照上面的方法，练习一下将第 1, 2, 3 维度转置到第 2, 3, 1 维度，即将 **`(轴 0, 轴 1, 轴 2)`** 转置到 **`(轴 1, 轴 2, 轴 0)`**。"
   ]
  },
  {
   "cell_type": "code",
   "execution_count": 132,
   "metadata": {
    "ExecuteTime": {
     "end_time": "2022-03-07T15:10:43.026281Z",
     "start_time": "2022-03-07T15:10:43.012283Z"
    }
   },
   "outputs": [
    {
     "name": "stdout",
     "output_type": "stream",
     "text": [
      "[[[ 0  1  2  3]\n",
      "  [ 4  5  6  7]]\n",
      "\n",
      " [[ 8  9 10 11]\n",
      "  [12 13 14 15]]\n",
      "\n",
      " [[16 17 18 19]\n",
      "  [20 21 22 23]]]\n"
     ]
    }
   ],
   "source": [
    "arr3d = np.arange(24).reshape((3,2,4))\n",
    "print(arr3d)"
   ]
  },
  {
   "cell_type": "code",
   "execution_count": 133,
   "metadata": {
    "ExecuteTime": {
     "end_time": "2022-03-07T15:10:43.688322Z",
     "start_time": "2022-03-07T15:10:43.673199Z"
    }
   },
   "outputs": [
    {
     "name": "stdout",
     "output_type": "stream",
     "text": [
      "[[[ 0  8 16]\n",
      "  [ 1  9 17]\n",
      "  [ 2 10 18]\n",
      "  [ 3 11 19]]\n",
      "\n",
      " [[ 4 12 20]\n",
      "  [ 5 13 21]\n",
      "  [ 6 14 22]\n",
      "  [ 7 15 23]]]\n",
      "(2, 4, 3)\n"
     ]
    }
   ],
   "source": [
    "arr3dT = arr3d.transpose(1,2,0)\n",
    "print(arr3dT)\n",
    "print(arr3dT.shape)"
   ]
  },
  {
   "cell_type": "markdown",
   "metadata": {},
   "source": [
    "###  求逆\n",
    "\n",
    "数组用 `np.linalg.inv()` 函数，而矩阵用 `A.I` 和 `A**-1` 操作。"
   ]
  },
  {
   "cell_type": "code",
   "execution_count": 134,
   "metadata": {
    "ExecuteTime": {
     "end_time": "2022-03-07T15:10:47.073446Z",
     "start_time": "2022-03-07T15:10:47.032836Z"
    }
   },
   "outputs": [
    {
     "data": {
      "text/plain": [
       "array([[-2. ,  1. ],\n",
       "       [ 1.5, -0.5]])"
      ]
     },
     "execution_count": 134,
     "metadata": {},
     "output_type": "execute_result"
    }
   ],
   "source": [
    "np.linalg.inv(arr2d)"
   ]
  },
  {
   "cell_type": "code",
   "execution_count": 135,
   "metadata": {
    "ExecuteTime": {
     "end_time": "2022-03-07T15:11:10.766896Z",
     "start_time": "2022-03-07T15:11:10.748847Z"
    }
   },
   "outputs": [
    {
     "data": {
      "text/plain": [
       "matrix([[-2. ,  1. ],\n",
       "        [ 1.5, -0.5]])"
      ]
     },
     "execution_count": 135,
     "metadata": {},
     "output_type": "execute_result"
    }
   ],
   "source": [
    " A.I"
   ]
  },
  {
   "cell_type": "code",
   "execution_count": 136,
   "metadata": {
    "ExecuteTime": {
     "end_time": "2022-03-07T15:11:11.539849Z",
     "start_time": "2022-03-07T15:11:11.525852Z"
    }
   },
   "outputs": [
    {
     "data": {
      "text/plain": [
       "matrix([[-2. ,  1. ],\n",
       "        [ 1.5, -0.5]])"
      ]
     },
     "execution_count": 136,
     "metadata": {},
     "output_type": "execute_result"
    }
   ],
   "source": [
    "A**-1"
   ]
  },
  {
   "cell_type": "markdown",
   "metadata": {},
   "source": [
    "### 相乘\n",
    "\n",
    "相乘在数学上是个严谨的概念，但是在数组和矩阵中是个模棱两可的概念，比如\n",
    "\n",
    "- 数组相乘是按照**元素层面**进行\n",
    "- 矩阵相乘是按照**数学定义**进行 \n",
    "\n",
    "看个例子，二维数组相乘一维数组，矩阵相乘向量，看看有什么有趣的结果。\n",
    "\n",
    "首先定义一维数组 `arr` 和列向量 `b`，分别用于和二维数组 `arr2d` 和矩阵 `A` 相乘。"
   ]
  },
  {
   "cell_type": "code",
   "execution_count": 137,
   "metadata": {
    "ExecuteTime": {
     "end_time": "2022-03-07T15:11:18.645896Z",
     "start_time": "2022-03-07T15:11:18.625847Z"
    }
   },
   "outputs": [
    {
     "name": "stdout",
     "output_type": "stream",
     "text": [
      "(2,) (2, 1)\n"
     ]
    }
   ],
   "source": [
    "arr = np.array([1,2])\n",
    "b = np.asmatrix(arr).T\n",
    "print( arr.shape, b.shape )"
   ]
  },
  {
   "cell_type": "markdown",
   "metadata": {},
   "source": [
    "由上面结果看出， `arr` 的形状是 (2,)，只含一个元素的元组只说明 `arr` 是一维，数组是不分**行数组**或**列数组**的。而 `b` 的形状是 (2,1)，显然是列向量。\n",
    "\n",
    "**数组之间相乘**和**矩阵之间相乘**都是用 * 符号，但如上所述，相乘的含义不同。"
   ]
  },
  {
   "cell_type": "code",
   "execution_count": 138,
   "metadata": {
    "ExecuteTime": {
     "end_time": "2022-03-07T15:11:21.124823Z",
     "start_time": "2022-03-07T15:11:21.114826Z"
    }
   },
   "outputs": [
    {
     "data": {
      "text/plain": [
       "array([[1, 2],\n",
       "       [3, 4]])"
      ]
     },
     "execution_count": 138,
     "metadata": {},
     "output_type": "execute_result"
    }
   ],
   "source": [
    "arr2d = np.array([[1,2],[3,4]])\n",
    "arr2d"
   ]
  },
  {
   "cell_type": "code",
   "execution_count": 139,
   "metadata": {
    "ExecuteTime": {
     "end_time": "2022-03-07T15:11:29.961313Z",
     "start_time": "2022-03-07T15:11:29.940314Z"
    }
   },
   "outputs": [
    {
     "data": {
      "text/plain": [
       "matrix([[1, 2],\n",
       "        [3, 4]])"
      ]
     },
     "execution_count": 139,
     "metadata": {},
     "output_type": "execute_result"
    }
   ],
   "source": [
    "A = np.asmatrix(arr2d)\n",
    "A"
   ]
  },
  {
   "cell_type": "code",
   "execution_count": 140,
   "metadata": {
    "ExecuteTime": {
     "end_time": "2022-03-07T15:11:30.932086Z",
     "start_time": "2022-03-07T15:11:30.910094Z"
    }
   },
   "outputs": [
    {
     "data": {
      "text/plain": [
       "array([[1, 4],\n",
       "       [3, 8]])"
      ]
     },
     "execution_count": 140,
     "metadata": {},
     "output_type": "execute_result"
    }
   ],
   "source": [
    "arr2d*arr"
   ]
  },
  {
   "cell_type": "code",
   "execution_count": 141,
   "metadata": {
    "ExecuteTime": {
     "end_time": "2022-03-07T15:11:33.819025Z",
     "start_time": "2022-03-07T15:11:33.804851Z"
    }
   },
   "outputs": [
    {
     "data": {
      "text/plain": [
       "matrix([[ 5],\n",
       "        [11]])"
      ]
     },
     "execution_count": 141,
     "metadata": {},
     "output_type": "execute_result"
    }
   ],
   "source": [
    " A*b"
   ]
  },
  {
   "cell_type": "markdown",
   "metadata": {},
   "source": [
    "由上面结果可知，\n",
    "\n",
    "- 二维数组相乘一维数组得到的还是个二维数组，解释它需要用到「广播机制」，大致上将一维数组 `[1, 2]` “广播” 成 `[[1, 2], [1, 2]]`，然后在元素层面上和 `arr2d` 相乘。\n",
    "- 矩阵乘以向量的结果和线代代数中学到的结果吻合。\n",
    "\n",
    "再看一个例子，**二维数组**乘以**二维数组**，**矩阵**乘以**矩阵**"
   ]
  },
  {
   "cell_type": "code",
   "execution_count": 142,
   "metadata": {
    "ExecuteTime": {
     "end_time": "2022-03-07T15:11:41.237366Z",
     "start_time": "2022-03-07T15:11:41.216316Z"
    }
   },
   "outputs": [
    {
     "data": {
      "text/plain": [
       "array([[ 1,  4],\n",
       "       [ 9, 16]])"
      ]
     },
     "execution_count": 142,
     "metadata": {},
     "output_type": "execute_result"
    }
   ],
   "source": [
    "arr2d*arr2d"
   ]
  },
  {
   "cell_type": "code",
   "execution_count": 143,
   "metadata": {
    "ExecuteTime": {
     "end_time": "2022-03-07T15:11:43.365199Z",
     "start_time": "2022-03-07T15:11:43.358197Z"
    }
   },
   "outputs": [
    {
     "data": {
      "text/plain": [
       "matrix([[ 7, 10],\n",
       "        [15, 22]])"
      ]
     },
     "execution_count": 143,
     "metadata": {},
     "output_type": "execute_result"
    }
   ],
   "source": [
    "A*A"
   ]
  },
  {
   "cell_type": "markdown",
   "metadata": {},
   "source": [
    "由上面结果可知，\n",
    "\n",
    "- 两个二维数组相乘虽得到二维数组，但不是根据数学矩阵相乘的规则得来的，而由元素层面相乘得到的。\n",
    "- 矩阵乘以矩阵的结果和线代代数中学到的结果吻合。\n",
    "\n",
    "如要使数组上相乘符合数学上的定义，用三种写法：\n",
    "\n",
    "1. 用 `@` 算术运算符\n",
    "2. 用 `matmul()` 函数\n",
    "3. 用 `dot()` 函数"
   ]
  },
  {
   "cell_type": "code",
   "execution_count": 144,
   "metadata": {
    "ExecuteTime": {
     "end_time": "2022-03-07T15:11:48.501856Z",
     "start_time": "2022-03-07T15:11:48.480937Z"
    }
   },
   "outputs": [
    {
     "data": {
      "text/plain": [
       "array([ 5, 11])"
      ]
     },
     "execution_count": 144,
     "metadata": {},
     "output_type": "execute_result"
    }
   ],
   "source": [
    "arr2d @ arr"
   ]
  },
  {
   "cell_type": "code",
   "execution_count": 145,
   "metadata": {
    "ExecuteTime": {
     "end_time": "2022-03-07T15:11:49.754247Z",
     "start_time": "2022-03-07T15:11:49.733249Z"
    }
   },
   "outputs": [
    {
     "data": {
      "text/plain": [
       "array([[ 7, 10],\n",
       "       [15, 22]])"
      ]
     },
     "execution_count": 145,
     "metadata": {},
     "output_type": "execute_result"
    }
   ],
   "source": [
    "arr2d @ arr2d"
   ]
  },
  {
   "cell_type": "code",
   "execution_count": 146,
   "metadata": {
    "ExecuteTime": {
     "end_time": "2022-03-07T15:11:50.402723Z",
     "start_time": "2022-03-07T15:11:50.393723Z"
    }
   },
   "outputs": [
    {
     "data": {
      "text/plain": [
       "array([ 5, 11])"
      ]
     },
     "execution_count": 146,
     "metadata": {},
     "output_type": "execute_result"
    }
   ],
   "source": [
    "np.matmul(arr2d, arr)"
   ]
  },
  {
   "cell_type": "code",
   "execution_count": 147,
   "metadata": {
    "ExecuteTime": {
     "end_time": "2022-03-07T15:11:51.611667Z",
     "start_time": "2022-03-07T15:11:51.597714Z"
    }
   },
   "outputs": [
    {
     "data": {
      "text/plain": [
       "array([[ 7, 10],\n",
       "       [15, 22]])"
      ]
     },
     "execution_count": 147,
     "metadata": {},
     "output_type": "execute_result"
    }
   ],
   "source": [
    "np.matmul(arr2d, arr2d)"
   ]
  },
  {
   "cell_type": "code",
   "execution_count": 148,
   "metadata": {
    "ExecuteTime": {
     "end_time": "2022-03-07T15:11:52.367877Z",
     "start_time": "2022-03-07T15:11:52.360837Z"
    }
   },
   "outputs": [
    {
     "data": {
      "text/plain": [
       "array([ 5, 11])"
      ]
     },
     "execution_count": 148,
     "metadata": {},
     "output_type": "execute_result"
    }
   ],
   "source": [
    "np.dot(arr2d, arr)"
   ]
  },
  {
   "cell_type": "code",
   "execution_count": 149,
   "metadata": {
    "ExecuteTime": {
     "end_time": "2022-03-07T15:11:53.686685Z",
     "start_time": "2022-03-07T15:11:53.667686Z"
    }
   },
   "outputs": [
    {
     "data": {
      "text/plain": [
       "array([[ 7, 10],\n",
       "       [15, 22]])"
      ]
     },
     "execution_count": 149,
     "metadata": {},
     "output_type": "execute_result"
    }
   ],
   "source": [
    " np.dot(arr2d, arr2d)"
   ]
  },
  {
   "cell_type": "markdown",
   "metadata": {},
   "source": [
    "三种方法 `@` 算术运算符、 `matmul()` 函数和 `dot()` 函数在矩阵上也适用。"
   ]
  },
  {
   "cell_type": "code",
   "execution_count": 150,
   "metadata": {
    "ExecuteTime": {
     "end_time": "2022-03-07T15:12:00.510113Z",
     "start_time": "2022-03-07T15:12:00.489112Z"
    }
   },
   "outputs": [
    {
     "data": {
      "text/plain": [
       "matrix([[1, 2],\n",
       "        [3, 4]])"
      ]
     },
     "execution_count": 150,
     "metadata": {},
     "output_type": "execute_result"
    }
   ],
   "source": [
    "A"
   ]
  },
  {
   "cell_type": "code",
   "execution_count": 151,
   "metadata": {
    "ExecuteTime": {
     "end_time": "2022-03-07T15:12:01.424860Z",
     "start_time": "2022-03-07T15:12:01.412865Z"
    }
   },
   "outputs": [
    {
     "data": {
      "text/plain": [
       "matrix([[1],\n",
       "        [2]])"
      ]
     },
     "execution_count": 151,
     "metadata": {},
     "output_type": "execute_result"
    }
   ],
   "source": [
    "b"
   ]
  },
  {
   "cell_type": "code",
   "execution_count": 152,
   "metadata": {
    "ExecuteTime": {
     "end_time": "2022-03-07T15:12:01.998859Z",
     "start_time": "2022-03-07T15:12:01.987861Z"
    }
   },
   "outputs": [
    {
     "data": {
      "text/plain": [
       "matrix([[ 5],\n",
       "        [11]])"
      ]
     },
     "execution_count": 152,
     "metadata": {},
     "output_type": "execute_result"
    }
   ],
   "source": [
    "A @ b"
   ]
  },
  {
   "cell_type": "code",
   "execution_count": 153,
   "metadata": {
    "ExecuteTime": {
     "end_time": "2022-03-07T15:12:02.706838Z",
     "start_time": "2022-03-07T15:12:02.688841Z"
    }
   },
   "outputs": [
    {
     "data": {
      "text/plain": [
       "matrix([[ 7, 10],\n",
       "        [15, 22]])"
      ]
     },
     "execution_count": 153,
     "metadata": {},
     "output_type": "execute_result"
    }
   ],
   "source": [
    "A @ A"
   ]
  },
  {
   "cell_type": "code",
   "execution_count": 154,
   "metadata": {
    "ExecuteTime": {
     "end_time": "2022-03-07T15:12:03.416849Z",
     "start_time": "2022-03-07T15:12:03.402845Z"
    }
   },
   "outputs": [
    {
     "data": {
      "text/plain": [
       "matrix([[ 5],\n",
       "        [11]])"
      ]
     },
     "execution_count": 154,
     "metadata": {},
     "output_type": "execute_result"
    }
   ],
   "source": [
    "np.matmul(A, b)"
   ]
  },
  {
   "cell_type": "code",
   "execution_count": 155,
   "metadata": {
    "ExecuteTime": {
     "end_time": "2022-03-07T15:12:04.405358Z",
     "start_time": "2022-03-07T15:12:04.397346Z"
    }
   },
   "outputs": [
    {
     "data": {
      "text/plain": [
       "matrix([[ 7, 10],\n",
       "        [15, 22]])"
      ]
     },
     "execution_count": 155,
     "metadata": {},
     "output_type": "execute_result"
    }
   ],
   "source": [
    "np.matmul(A, A)"
   ]
  },
  {
   "cell_type": "code",
   "execution_count": 156,
   "metadata": {
    "ExecuteTime": {
     "end_time": "2022-03-07T15:12:06.717455Z",
     "start_time": "2022-03-07T15:12:06.709463Z"
    }
   },
   "outputs": [
    {
     "data": {
      "text/plain": [
       "matrix([[ 5],\n",
       "        [11]])"
      ]
     },
     "execution_count": 156,
     "metadata": {},
     "output_type": "execute_result"
    }
   ],
   "source": [
    "np.dot(A, b)"
   ]
  },
  {
   "cell_type": "code",
   "execution_count": 157,
   "metadata": {
    "ExecuteTime": {
     "end_time": "2022-03-07T15:12:09.635947Z",
     "start_time": "2022-03-07T15:12:09.621942Z"
    }
   },
   "outputs": [
    {
     "data": {
      "text/plain": [
       "matrix([[ 7, 10],\n",
       "        [15, 22]])"
      ]
     },
     "execution_count": 157,
     "metadata": {},
     "output_type": "execute_result"
    }
   ],
   "source": [
    "np.dot(A, A)"
   ]
  },
  {
   "cell_type": "markdown",
   "metadata": {},
   "source": [
    "但对于高维数组“相乘”，`@` 算术运算符和 `matmul()` 函数就失效了，只能用 `dot()` 函数了。"
   ]
  },
  {
   "cell_type": "markdown",
   "metadata": {},
   "source": [
    "### 点乘\n",
    "\n",
    "通常高维数组也称为张量，点乘左右两边最常见的数组维度就是\n",
    "\n",
    "- 向量 (1D 数组) 和向量 (1D 数组)\n",
    "- 矩阵 (2D 数组) 和向量 (1D 数组)\n",
    "- 矩阵 (2D 数组) 和矩阵 (2D 数组)\n",
    "\n",
    "分别看看三个简单例子。\n",
    "\n",
    "**例一**：`np.dot(向量, 向量)` "
   ]
  },
  {
   "cell_type": "code",
   "execution_count": 158,
   "metadata": {
    "ExecuteTime": {
     "end_time": "2022-03-07T15:12:42.103965Z",
     "start_time": "2022-03-07T15:12:42.088873Z"
    }
   },
   "outputs": [
    {
     "name": "stdout",
     "output_type": "stream",
     "text": [
      "(3,) (3,) ()\n",
      "10\n"
     ]
    }
   ],
   "source": [
    "x = np.array( [1, 2, 3] )\n",
    "y = np.array( [3, 2, 1] )\n",
    "z = np.dot(x, y)\n",
    "print( x.shape, y.shape, z.shape )\n",
    "print( z )"
   ]
  },
  {
   "cell_type": "markdown",
   "metadata": {},
   "source": [
    "点乘两个向量实际上就是求它们的内积，即把两个向量每个元素相乘，最后再加总。点乘结果 10 是个标量 (0D 数组)，形状 = ()。\n",
    "\n",
    "**例二**：`np.dot(矩阵, 向量)` "
   ]
  },
  {
   "cell_type": "code",
   "execution_count": 159,
   "metadata": {
    "ExecuteTime": {
     "end_time": "2022-03-07T15:13:30.887049Z",
     "start_time": "2022-03-07T15:13:30.865988Z"
    }
   },
   "outputs": [
    {
     "name": "stdout",
     "output_type": "stream",
     "text": [
      "[[3 2 1]\n",
      " [1 1 1]]\n",
      "[1 2 3]\n",
      "(2, 3) (3,) (2,)\n",
      "[10  6]\n"
     ]
    }
   ],
   "source": [
    "x = np.array( [[3, 2, 1], [1, 1, 1]] )\n",
    "y = np.array( [1, 2, 3] )\n",
    "z = np.dot(x, y)\n",
    "print(x)\n",
    "print(y)\n",
    "print( x.shape, y.shape, z.shape )\n",
    "print( z )"
   ]
  },
  {
   "cell_type": "markdown",
   "metadata": {},
   "source": [
    "点乘矩阵和向量实际上做的就是普通矩阵乘以向量。点乘结果是个向量 (1D 数组)，形状 = (2, )。\n",
    "\n",
    "**例三**：`np.dot(矩阵, 矩阵)` "
   ]
  },
  {
   "cell_type": "code",
   "execution_count": 160,
   "metadata": {
    "ExecuteTime": {
     "end_time": "2022-03-07T15:13:43.547075Z",
     "start_time": "2022-03-07T15:13:43.538076Z"
    }
   },
   "outputs": [
    {
     "name": "stdout",
     "output_type": "stream",
     "text": [
      "(2, 3) (3, 3) (2, 3)\n",
      "[[ 6 12 18]\n",
      " [ 3  6  9]]\n"
     ]
    }
   ],
   "source": [
    "x = np.array( [[3, 2, 1], [1, 1, 1]] )\n",
    "y = np.array( [[1, 2, 3], [1, 2, 3], [1, 2, 3]] )\n",
    "z = np.dot(x, y)\n",
    "print( x.shape, y.shape, z.shape )\n",
    "print( z )"
   ]
  },
  {
   "cell_type": "markdown",
   "metadata": {},
   "source": [
    "点乘两个矩阵实际上做的就是普通矩阵乘以矩阵。点乘结果是个矩阵 (2D 数组)，形状 = (2, 3)。\n",
    "\n",
    "从上面三例可看出，为使 `np.dot(x, y)` 有意义，那么 `x` 的最后一维的元素个数要和 `y` 第一个维的元素个数要相等，即 `x.shape[-1] = y.shape[0]`。"
   ]
  },
  {
   "cell_type": "markdown",
   "metadata": {},
   "source": [
    "## 整合操作\n",
    "\n",
    "在数组中，元素可按不同方式整合 (aggregation)。拿求和 `sum()` 函数来说，我们可对数组\n",
    "\n",
    "- 所有的元素求和\n",
    "- 在某个轴 (axis) 上的元素求和\n",
    "\n",
    "行和列这些概念对矩阵 (二维矩阵) 才适用，高维矩阵还是要用轴 (axis) 来区分每个维度。让我们抛弃「行列」这些特殊概念，拥抱「轴」这个通用概念来重看数组 (一到四维) 把。\n",
    "\n",
    "n 维数组就有 n 层方括号。最外层方括号代表「轴 0」即 axis=0，依次往里方括号对应的 axis 的计数加 1。\n",
    "\n",
    "<img src=\"1d2d3d4D.png\" style=\"width:600px; height:420px;\">\n",
    "\n",
    "***\n",
    "严格来说，Python 打印出来的数组可以想象带有**多层**方括号的**一行**数字。比如二维数组可想象成 (<font color='red'>红括号</font>代表<font color='red'>轴 0</font>，里面有 2 组<font color='blue'>蓝括号</font>，因此<font color='red'>轴 0</font> 含有 2 个元素；<font color='blue'>蓝括号</font>代表<font color='blue'>轴 1</font>，里面有 3 个元素，因此<font color='blue'>轴 1</font> 含有 3 个元素)\n",
    "\n",
    "- <font color='red'>[</font><font color='blue'>[</font>1, 2, 3<font color='blue'>]</font>, <font color='blue'>[</font>4, 5, 6<font color='blue'>]</font><font color='red'>]</font>\n",
    "\n",
    "\n",
    "以此类推，三维数组可想象成 (<font color='red'>红括号</font>代表<font color='red'>轴 0</font>，里面有 2 组<font color='blue'>蓝括号</font>，因此<font color='red'>轴 0</font> 含有 2 个元素；<font color='blue'>蓝括号</font>代表<font color='blue'>轴 1</font>，里面有 2 个<font color='green'>绿括号</font>，因此<font color='blue'>轴 1</font> 含有 2 个元素；<font color='green'>绿括号</font>代表<font color='green'>轴 2</font>，里面有 3 个元素，因此<font color='green'>轴 2</font> 含有 3 个元素)\n",
    "\n",
    "- <font color='red'>[</font><font color='blue'>[</font><font color='green'>[</font>1, 2, 3<font color='green'>]</font>, <font color='green'>[</font>4, 5, 6<font color='green'>]</font><font color='blue'>]</font>, <font color='blue'>[</font><font color='green'>[</font>7, 8, 9<font color='green'>]</font>, <font color='green'>[</font>10, 11, 12<font color='green'>]</font><font color='blue'>]</font><font color='red'>]</font>\n",
    "\n",
    "但我们才更习惯看如下三维数组的形式\n",
    "\n",
    "    [ [ [1, 2, 3]\n",
    "        [4, 5, 6] ] \n",
    "      [ [7, 8, 9] \n",
    "        [10, 11, 12] ] ]\n",
    "\n",
    "但在你脑海里，应该把它想成一整行。这样会便于理解如何来按不同轴做整合运算。\n",
    "\n",
    "### 一维数组\n",
    "\n",
    "- **`sum`**\n",
    "\n",
    "先看看一维数组的求和。\n",
    "<img src=\"sum1d.png\" style=\"width:400px; height:120px;\">\n",
    "\n",
    "分析结果：\n",
    "\n",
    "- 1, 2, 3 的总和是 6\n",
    "- 在轴 0 (只有一个轴) 上的元素求和是 6\n",
    "\n",
    "用代码验证一下："
   ]
  },
  {
   "cell_type": "code",
   "execution_count": 161,
   "metadata": {
    "ExecuteTime": {
     "end_time": "2022-03-07T15:15:49.267164Z",
     "start_time": "2022-03-07T15:15:49.249166Z"
    }
   },
   "outputs": [
    {
     "name": "stdout",
     "output_type": "stream",
     "text": [
      "所有元素总和为 6\n",
      "在轴 0 上求和为 6\n"
     ]
    }
   ],
   "source": [
    "arr1d = np.array([1,2,3])\n",
    "print( '所有元素总和为', arr1d.sum() )\n",
    "print( '在轴 0 上求和为', arr1d.sum(axis=0) )"
   ]
  },
  {
   "cell_type": "markdown",
   "metadata": {},
   "source": [
    "求和一维数组看不出「按轴求和」的规律，下面看看二维数组。\n",
    "\n",
    "### 二维数组\n",
    "<img src=\"sum2d.png\" style=\"width:600px; height:200px;\">\n",
    "\n",
    "分析结果：\n",
    "\n",
    "- 1 到 6 的总和是 6\n",
    "- 轴 0 上的元素 (被一个红方括号 [] 包住的) 是 [1, 2, 3] 和 [4, 5, 6]，求和得到 [[5, 7, 9]]\n",
    "- 轴 1 上的元素 (被两个蓝方括号 [] 包住的) 分别是 1, 2, 3 和 4, 5, 6，求和得到 [[1+2+3, 4+5+6]] = [[6, 15]]"
   ]
  },
  {
   "cell_type": "code",
   "execution_count": 162,
   "metadata": {
    "ExecuteTime": {
     "end_time": "2022-03-07T15:16:10.239947Z",
     "start_time": "2022-03-07T15:16:10.230941Z"
    }
   },
   "outputs": [
    {
     "name": "stdout",
     "output_type": "stream",
     "text": [
      "[[1 2 3]\n",
      " [4 5 6]]\n"
     ]
    }
   ],
   "source": [
    "arr2d = np.arange(1,7).reshape((2,3))\n",
    "print( arr2d )"
   ]
  },
  {
   "cell_type": "code",
   "execution_count": 163,
   "metadata": {
    "ExecuteTime": {
     "end_time": "2022-03-07T15:16:12.166238Z",
     "start_time": "2022-03-07T15:16:12.149028Z"
    }
   },
   "outputs": [
    {
     "name": "stdout",
     "output_type": "stream",
     "text": [
      "所有元素总和为 21\n",
      "在轴 0 上求和为 [5 7 9]\n",
      "在轴 1 上求和为 [ 6 15]\n"
     ]
    }
   ],
   "source": [
    "print( '所有元素总和为', arr2d.sum() )\n",
    "print( '在轴 0 上求和为', arr2d.sum(axis=0) )\n",
    "print( '在轴 1 上求和为', arr2d.sum(axis=1) )"
   ]
  },
  {
   "cell_type": "markdown",
   "metadata": {},
   "source": [
    "结果是对的，但是好像括号比上图推导出来的少一个。原因 `np.sum()` 里面有个参数是 `keepdims`，意思是「保留维度」，默认值时 **`False`**，因此会去除多余的括号，比如 [[5, 7, 9]] 会变成 [5, 7, 9]。\n",
    "\n",
    "如果把 `keepdims` 设置为 **`True`**，那么打印出来的结果和上图推导的一模一样。"
   ]
  },
  {
   "cell_type": "code",
   "execution_count": 164,
   "metadata": {
    "ExecuteTime": {
     "end_time": "2022-03-07T15:16:22.603138Z",
     "start_time": "2022-03-07T15:16:22.586143Z"
    }
   },
   "outputs": [
    {
     "name": "stdout",
     "output_type": "stream",
     "text": [
      "所有元素总和为 21\n",
      "在轴 0 上求和为 [[5 7 9]]\n",
      "在轴 1 上求和为 [[ 6]\n",
      " [15]]\n"
     ]
    }
   ],
   "source": [
    "print( '所有元素总和为', arr2d.sum() )\n",
    "print( '在轴 0 上求和为', arr2d.sum(axis=0, keepdims=True) )\n",
    "print( '在轴 1 上求和为', arr2d.sum(axis=1, keepdims=True) )"
   ]
  },
  {
   "cell_type": "markdown",
   "metadata": {},
   "source": [
    "### 三维数组\n",
    "\n",
    "<img src=\"sum3d.png\" style=\"width:700px; height:300px;\">\n",
    "\n",
    "分析结果：\n",
    "\n",
    "- 1 到 12 的总和是 78\n",
    "- 轴 0 上的元素是一个红方括号 [] 包住的两个 [[ ]]，对其求和得到一个 [ [[ ]] ]\n",
    "- 轴 1 上的元素是两个蓝方括号 [] 包住的两个 [ ]，对其求和得到两个 [[ ]]，即 [ [[ ]], [[ ]] ]\n",
    "- 轴 2 上的元素是四个绿方括号 [] 包住的三个标量，对其求和得到四个[]，即 [ [[ ], [ ]], [[ ], [ ]] ]"
   ]
  },
  {
   "cell_type": "code",
   "execution_count": 165,
   "metadata": {
    "ExecuteTime": {
     "end_time": "2022-03-07T15:16:27.249945Z",
     "start_time": "2022-03-07T15:16:27.233030Z"
    }
   },
   "outputs": [
    {
     "name": "stdout",
     "output_type": "stream",
     "text": [
      "[[[ 1  2  3]\n",
      "  [ 4  5  6]]\n",
      "\n",
      " [[ 7  8  9]\n",
      "  [10 11 12]]]\n"
     ]
    }
   ],
   "source": [
    "arr3d = np.arange(1,13).reshape((2,2,3))\n",
    "print( arr3d )"
   ]
  },
  {
   "cell_type": "code",
   "execution_count": 166,
   "metadata": {
    "ExecuteTime": {
     "end_time": "2022-03-07T15:16:28.295784Z",
     "start_time": "2022-03-07T15:16:28.287782Z"
    }
   },
   "outputs": [
    {
     "name": "stdout",
     "output_type": "stream",
     "text": [
      "所有元素总和为 78\n",
      "在轴 0 上求和为 [[ 8 10 12]\n",
      " [14 16 18]]\n",
      "在轴 1 上求和为 [[ 5  7  9]\n",
      " [17 19 21]]\n",
      "在轴 2 上求和为 [[ 6 15]\n",
      " [24 33]]\n"
     ]
    }
   ],
   "source": [
    "print( '所有元素总和为', arr3d.sum() )\n",
    "print( '在轴 0 上求和为', arr3d.sum(axis=0) )\n",
    "print( '在轴 1 上求和为', arr3d.sum(axis=1) )\n",
    "print( '在轴 2 上求和为', arr3d.sum(axis=2) )"
   ]
  },
  {
   "cell_type": "markdown",
   "metadata": {},
   "source": [
    "打印出来的结果比上图推导结果少一个括号，也是因为 `keepdims` 默认为 **`False`**。\n",
    "\n",
    "### 四维数组\n",
    "<img src=\"sum4d.png\" style=\"width:600px; height:400px;\">\n",
    "\n",
    "通用规律：当在某根轴上求和，明晰该轴的元素，再求和。具体说来：\n",
    "\n",
    "- 在轴 0 上求和，它包含是两个蓝括号 []，对其求和\n",
    "- 在轴 1 上求和，它包含是两个绿括号 []，对其求和\n",
    "- 在轴 2 上求和，它包含是两个紫括号 []，对其求和\n",
    "- 在轴 3 上求和，它包含是三个标量，对其求和"
   ]
  },
  {
   "cell_type": "code",
   "execution_count": 167,
   "metadata": {
    "ExecuteTime": {
     "end_time": "2022-03-07T15:17:02.816955Z",
     "start_time": "2022-03-07T15:17:02.801956Z"
    }
   },
   "outputs": [
    {
     "name": "stdout",
     "output_type": "stream",
     "text": [
      "[[[[ 1  2  3]\n",
      "   [ 4  5  6]]\n",
      "\n",
      "  [[ 7  8  9]\n",
      "   [10 11 12]]]\n",
      "\n",
      "\n",
      " [[[13 14 15]\n",
      "   [16 17 18]]\n",
      "\n",
      "  [[19 20 21]\n",
      "   [22 23 24]]]]\n"
     ]
    }
   ],
   "source": [
    "arr4d = np.arange(1,25).reshape((2,2,2,3))\n",
    "print( arr4d )"
   ]
  },
  {
   "cell_type": "code",
   "execution_count": 168,
   "metadata": {
    "ExecuteTime": {
     "end_time": "2022-03-07T15:17:03.586868Z",
     "start_time": "2022-03-07T15:17:03.571833Z"
    }
   },
   "outputs": [
    {
     "name": "stdout",
     "output_type": "stream",
     "text": [
      "所有元素总和为 300\n",
      "在轴 0 上求和为 [[[14 16 18]\n",
      "  [20 22 24]]\n",
      "\n",
      " [[26 28 30]\n",
      "  [32 34 36]]]\n",
      "在轴 1 上求和为 [[[ 8 10 12]\n",
      "  [14 16 18]]\n",
      "\n",
      " [[32 34 36]\n",
      "  [38 40 42]]]\n",
      "在轴 2 上求和为 [[[ 5  7  9]\n",
      "  [17 19 21]]\n",
      "\n",
      " [[29 31 33]\n",
      "  [41 43 45]]]\n",
      "在轴 3 上求和为 [[[ 6 15]\n",
      "  [24 33]]\n",
      "\n",
      " [[42 51]\n",
      "  [60 69]]]\n"
     ]
    }
   ],
   "source": [
    "print( '所有元素总和为', arr4d.sum() )\n",
    "print( '在轴 0 上求和为', arr4d.sum(axis=0) )\n",
    "print( '在轴 1 上求和为', arr4d.sum(axis=1) )\n",
    "print( '在轴 2 上求和为', arr4d.sum(axis=2) )\n",
    "print( '在轴 3 上求和为', arr4d.sum(axis=3) )"
   ]
  },
  {
   "cell_type": "markdown",
   "metadata": {},
   "source": [
    "### 其它整合函数\n",
    "除了 `sum()` 函数，整合函数还包括 `min(), max(), argmin(), argmax(), mean(), std(), var(), cumsum()` 和 `cumprod()`，分别是求最小值、最大值、最小值对应索引、最大值对应索引、均值、标准差、方差、累加和累乘，这些函数对数组里的元素整合方式和 `sum()` 函数相同，也可以对数组\n",
    "\n",
    "- 所有的元素整合\n",
    "- 在某个轴 (axis) 上的元素整合\n",
    "\n",
    "拿二维数组 `arr2d` 举例。"
   ]
  },
  {
   "cell_type": "code",
   "execution_count": 169,
   "metadata": {
    "ExecuteTime": {
     "end_time": "2022-03-07T15:17:13.214940Z",
     "start_time": "2022-03-07T15:17:13.206940Z"
    }
   },
   "outputs": [
    {
     "data": {
      "text/plain": [
       "array([[5, 1, 3],\n",
       "       [4, 6, 2]])"
      ]
     },
     "execution_count": 169,
     "metadata": {},
     "output_type": "execute_result"
    }
   ],
   "source": [
    "arr2d = np.array([[5,1,3],[4,6,2]])\n",
    "arr2d"
   ]
  },
  {
   "cell_type": "code",
   "execution_count": 170,
   "metadata": {
    "ExecuteTime": {
     "end_time": "2022-03-07T15:17:13.990989Z",
     "start_time": "2022-03-07T15:17:13.969941Z"
    }
   },
   "outputs": [
    {
     "name": "stdout",
     "output_type": "stream",
     "text": [
      "所有元素最小值为 1\n",
      "沿轴 0 看 (每列上) 最小值为 [4 1 2]\n",
      "沿轴 1 看 (每行上) 最小值为 [1 2]\n"
     ]
    }
   ],
   "source": [
    "print( '所有元素最小值为', arr2d.min() )\n",
    "print( '沿轴 0 看 (每列上) 最小值为', arr2d.min(axis=0) )\n",
    "print( '沿轴 1 看 (每行上) 最小值为', arr2d.min(axis=1) )"
   ]
  },
  {
   "cell_type": "code",
   "execution_count": 171,
   "metadata": {
    "ExecuteTime": {
     "end_time": "2022-03-07T15:17:14.734459Z",
     "start_time": "2022-03-07T15:17:14.715412Z"
    }
   },
   "outputs": [
    {
     "name": "stdout",
     "output_type": "stream",
     "text": [
      "所有元素最小值对应的索引为 1\n",
      "沿轴 0 看 (每列上) 最小值对应的索引为 [1 0 1]\n",
      "沿轴 1 看 (每行上) 最小值对应的索引为 [1 2]\n"
     ]
    }
   ],
   "source": [
    "print( '所有元素最小值对应的索引为', arr2d.argmin() )\n",
    "print( '沿轴 0 看 (每列上) 最小值对应的索引为', arr2d.argmin(axis=0) )\n",
    "print( '沿轴 1 看 (每行上) 最小值对应的索引为', arr2d.argmin(axis=1) )"
   ]
  },
  {
   "cell_type": "code",
   "execution_count": 172,
   "metadata": {
    "ExecuteTime": {
     "end_time": "2022-03-07T15:17:15.450036Z",
     "start_time": "2022-03-07T15:17:15.442035Z"
    }
   },
   "outputs": [
    {
     "name": "stdout",
     "output_type": "stream",
     "text": [
      "所有元素最大值为 6\n",
      "沿轴 0 看 (每列上) 最大值为 [5 6 3]\n",
      "沿轴 1 看 (每行上) 最大值为 [5 6]\n"
     ]
    }
   ],
   "source": [
    "print( '所有元素最大值为', arr2d.max() )\n",
    "print( '沿轴 0 看 (每列上) 最大值为', arr2d.max(axis=0) )\n",
    "print( '沿轴 1 看 (每行上) 最大值为', arr2d.max(axis=1) )"
   ]
  },
  {
   "cell_type": "code",
   "execution_count": 173,
   "metadata": {
    "ExecuteTime": {
     "end_time": "2022-03-07T15:17:18.682337Z",
     "start_time": "2022-03-07T15:17:18.669344Z"
    }
   },
   "outputs": [
    {
     "name": "stdout",
     "output_type": "stream",
     "text": [
      "所有元素最大值对应的索引为 4\n",
      "沿轴 0 看 (每列上) 最大值对应的索引为 [0 1 0]\n",
      "沿轴 1 看 (每行上) 最大值对应的索引为 [0 1]\n"
     ]
    }
   ],
   "source": [
    "print( '所有元素最大值对应的索引为', arr2d.argmax() )\n",
    "print( '沿轴 0 看 (每列上) 最大值对应的索引为', arr2d.argmax(axis=0) )\n",
    "print( '沿轴 1 看 (每行上) 最大值对应的索引为', arr2d.argmax(axis=1) )"
   ]
  },
  {
   "cell_type": "code",
   "execution_count": 174,
   "metadata": {
    "ExecuteTime": {
     "end_time": "2022-03-07T15:17:19.443623Z",
     "start_time": "2022-03-07T15:17:19.427623Z"
    }
   },
   "outputs": [
    {
     "name": "stdout",
     "output_type": "stream",
     "text": [
      "所有元素均值为 3.5\n",
      "沿轴 0 看 (每列上) 均值为 [4.5 3.5 2.5]\n",
      "沿轴 1 看 (每行上) 均值为 [3. 4.]\n"
     ]
    }
   ],
   "source": [
    "print( '所有元素均值为', arr2d.mean() )\n",
    "print( '沿轴 0 看 (每列上) 均值为', arr2d.mean(axis=0) )\n",
    "print( '沿轴 1 看 (每行上) 均值为', arr2d.mean(axis=1) )"
   ]
  },
  {
   "cell_type": "code",
   "execution_count": 175,
   "metadata": {
    "ExecuteTime": {
     "end_time": "2022-03-07T15:17:20.043623Z",
     "start_time": "2022-03-07T15:17:20.027623Z"
    }
   },
   "outputs": [
    {
     "name": "stdout",
     "output_type": "stream",
     "text": [
      "所有元素标准差为 1.707825127659933\n",
      "沿轴 0 看 (每列上) 标准差为 [0.5 2.5 0.5]\n",
      "沿轴 1 看 (每行上) 标准差为 [1.63299316 1.63299316]\n"
     ]
    }
   ],
   "source": [
    "print( '所有元素标准差为', arr2d.std() )\n",
    "print( '沿轴 0 看 (每列上) 标准差为', arr2d.std(axis=0) )\n",
    "print( '沿轴 1 看 (每行上) 标准差为', arr2d.std(axis=1) )"
   ]
  },
  {
   "cell_type": "code",
   "execution_count": 176,
   "metadata": {
    "ExecuteTime": {
     "end_time": "2022-03-07T15:17:20.725711Z",
     "start_time": "2022-03-07T15:17:20.712690Z"
    }
   },
   "outputs": [
    {
     "name": "stdout",
     "output_type": "stream",
     "text": [
      "所有元素方差为 2.9166666666666665\n",
      "沿轴 0 看 (每列上) 方差为 [0.25 6.25 0.25]\n",
      "沿轴 1 看 (每行上) 方差为 [2.66666667 2.66666667]\n"
     ]
    }
   ],
   "source": [
    "print( '所有元素方差为', arr2d.var() )\n",
    "print( '沿轴 0 看 (每列上) 方差为', arr2d.var(axis=0) )\n",
    "print( '沿轴 1 看 (每行上) 方差为', arr2d.var(axis=1) )"
   ]
  },
  {
   "cell_type": "code",
   "execution_count": 177,
   "metadata": {
    "ExecuteTime": {
     "end_time": "2022-03-07T15:17:21.341624Z",
     "start_time": "2022-03-07T15:17:21.321690Z"
    }
   },
   "outputs": [
    {
     "name": "stdout",
     "output_type": "stream",
     "text": [
      "所有元素累加的和为 [ 5  6  9 13 19 21]\n",
      "沿轴 0 看 (每列上) 累加的和为 [[5 1 3]\n",
      " [9 7 5]]\n",
      "沿轴 1 看 (每行上) 累加的和为 [[ 5  6  9]\n",
      " [ 4 10 12]]\n"
     ]
    }
   ],
   "source": [
    "print( '所有元素累加的和为', arr2d.cumsum() )\n",
    "print( '沿轴 0 看 (每列上) 累加的和为', arr2d.cumsum(axis=0) )\n",
    "print( '沿轴 1 看 (每行上) 累加的和为', arr2d.cumsum(axis=1) )"
   ]
  },
  {
   "cell_type": "code",
   "execution_count": 178,
   "metadata": {
    "ExecuteTime": {
     "end_time": "2022-03-07T15:17:21.992939Z",
     "start_time": "2022-03-07T15:17:21.985045Z"
    }
   },
   "outputs": [
    {
     "name": "stdout",
     "output_type": "stream",
     "text": [
      "所有元素累乘的积为 [  5   5  15  60 360 720]\n",
      "沿轴 0 看 (每列上) 累乘的积为 [[ 5  1  3]\n",
      " [20  6  6]]\n",
      "沿轴 1 看 (每行上) 累乘的积为 [[ 5  5 15]\n",
      " [ 4 24 48]]\n"
     ]
    }
   ],
   "source": [
    "print( '所有元素累乘的积为', arr2d.cumprod() )\n",
    "print( '沿轴 0 看 (每列上) 累乘的积为', arr2d.cumprod(axis=0) )\n",
    "print( '沿轴 1 看 (每行上) 累乘的积为', arr2d.cumprod(axis=1) )"
   ]
  },
  {
   "cell_type": "markdown",
   "metadata": {},
   "source": [
    "此外，以上所有的整合函数都有一个可以处理 NaN 值的版本，函数名就在原来名称前加一个 `nan`，比如 `nansum, nanmin, nanmax, nanargmin, nanargmax, nanmean, nanstd, nanvar, nancumsum, nancumprod`。拿 `nansum()` 来举例，注意只能用 `np.nansum(arr)` 不能用 `arr.nansum()`。"
   ]
  },
  {
   "cell_type": "code",
   "execution_count": 179,
   "metadata": {
    "ExecuteTime": {
     "end_time": "2022-03-07T15:17:30.440962Z",
     "start_time": "2022-03-07T15:17:30.425039Z"
    }
   },
   "outputs": [
    {
     "data": {
      "text/plain": [
       "array([[ 5., nan,  3.],\n",
       "       [ 4.,  6., nan]])"
      ]
     },
     "execution_count": 179,
     "metadata": {},
     "output_type": "execute_result"
    }
   ],
   "source": [
    "arr2d = np.array([[5,np.NaN,3],[4,6,np.NaN]])\n",
    "arr2d"
   ]
  },
  {
   "cell_type": "code",
   "execution_count": 180,
   "metadata": {
    "ExecuteTime": {
     "end_time": "2022-03-07T15:17:31.164941Z",
     "start_time": "2022-03-07T15:17:31.145942Z"
    }
   },
   "outputs": [
    {
     "name": "stdout",
     "output_type": "stream",
     "text": [
      "nan\n",
      "18.0\n"
     ]
    }
   ],
   "source": [
    "print( arr2d.sum() )\n",
    "print( np.nansum(arr2d) )"
   ]
  },
  {
   "cell_type": "markdown",
   "metadata": {},
   "source": [
    "### `any, all`\n",
    "\n",
    "- 在 `any()` 函数中，如果给定的参数有一个为 **`True`**，则返回 **`True`**，否则返回 **`False`**\n",
    "- 在 `all()` 函数中，如果给定的参数全部为 **`True`**，则返回 **`True`**，否则返回 **`False`**\n",
    "\n",
    "注意只有 0, 0.0, 空集才是 **`False`**，其它都是 **`True`**，即便是 `np.nan`。"
   ]
  },
  {
   "cell_type": "code",
   "execution_count": 181,
   "metadata": {
    "ExecuteTime": {
     "end_time": "2022-03-07T15:17:35.029880Z",
     "start_time": "2022-03-07T15:17:35.017718Z"
    }
   },
   "outputs": [
    {
     "name": "stdout",
     "output_type": "stream",
     "text": [
      "False\n",
      "True\n",
      "True\n",
      "False\n"
     ]
    }
   ],
   "source": [
    "print( np.any([0,0,0,0]) )\n",
    "print( np.any([0,-1,0,0]) )\n",
    "print( np.all([1,np.nan,2,3]) )\n",
    "print( np.all([1,0,2,3]) )"
   ]
  },
  {
   "cell_type": "markdown",
   "metadata": {},
   "source": [
    "## 广播机制\n",
    "\n",
    "当对两个形状不同的数组按元素操作时，可能会触发**广播机制** (broadcast)。具体做法，先适当复制元素使得这两个数组形状相同后再按元素操作，两个步骤：\n",
    "\n",
    "- **确定广播轴**：比对两个数组的维度，将形状小的数组的维度 (轴) 补齐\n",
    "- **复制元素**：顺着补齐的轴，将形状小的数组里的元素复制，最终和形状大的数组的形状一致\n",
    "\n",
    "在给出**广播机制**下面的严谨规则之前，先来看看几个简单例子。\n",
    "\n",
    "### 标量和一维数组"
   ]
  },
  {
   "cell_type": "code",
   "execution_count": 182,
   "metadata": {
    "ExecuteTime": {
     "end_time": "2022-03-07T15:17:48.533030Z",
     "start_time": "2022-03-07T15:17:48.514061Z"
    }
   },
   "outputs": [
    {
     "name": "stdout",
     "output_type": "stream",
     "text": [
      "[0 1 2 3 4]\n",
      "[2 3 4 5 6]\n"
     ]
    }
   ],
   "source": [
    "arr = np.arange(5)\n",
    "print( arr )\n",
    "print( arr + 2 )"
   ]
  },
  {
   "cell_type": "markdown",
   "metadata": {},
   "source": [
    "单个元素的标量 2 被广播到数组 `arr` 的所有元素上。\n",
    "\n",
    "###  一维数组和二维数组"
   ]
  },
  {
   "cell_type": "code",
   "execution_count": 183,
   "metadata": {
    "ExecuteTime": {
     "end_time": "2022-03-07T15:17:51.932037Z",
     "start_time": "2022-03-07T15:17:51.926002Z"
    }
   },
   "outputs": [
    {
     "name": "stdout",
     "output_type": "stream",
     "text": [
      "[[ 0  1  2]\n",
      " [ 3  4  5]\n",
      " [ 6  7  8]\n",
      " [ 9 10 11]]\n"
     ]
    }
   ],
   "source": [
    "arr = np.arange(12).reshape(4,3)\n",
    "print(arr)"
   ]
  },
  {
   "cell_type": "code",
   "execution_count": 184,
   "metadata": {
    "ExecuteTime": {
     "end_time": "2022-03-07T15:18:00.107354Z",
     "start_time": "2022-03-07T15:18:00.085296Z"
    }
   },
   "outputs": [
    {
     "name": "stdout",
     "output_type": "stream",
     "text": [
      "(4, 3) (3,)\n",
      "[4.5 5.5 6.5]\n",
      "[[-4.5 -4.5 -4.5]\n",
      " [-1.5 -1.5 -1.5]\n",
      " [ 1.5  1.5  1.5]\n",
      " [ 4.5  4.5  4.5]]\n"
     ]
    }
   ],
   "source": [
    "mean_across_row = arr.mean(axis=0)\n",
    "print( arr.shape, mean_across_row.shape )\n",
    "print( mean_across_row )\n",
    "print( arr - mean_across_row )"
   ]
  },
  {
   "cell_type": "markdown",
   "metadata": {},
   "source": [
    "数组 `arr` 的形状是 (4, 3)，而沿着行求均值的数组 `mean_across_row` 形状是 (3, )，沿着轴 0，一维数组 `mean_across_row` 被广播到数组 `arr` 的所有的行上。\n",
    "\n",
    "<img src=\"boardcast 1.png\" style=\"width:600px; height:250px;\">"
   ]
  },
  {
   "cell_type": "code",
   "execution_count": 185,
   "metadata": {
    "ExecuteTime": {
     "end_time": "2022-03-07T15:18:43.332310Z",
     "start_time": "2022-03-07T15:18:42.874837Z"
    }
   },
   "outputs": [
    {
     "name": "stdout",
     "output_type": "stream",
     "text": [
      "(4, 3) (4,)\n",
      "[ 1.  4.  7. 10.]\n"
     ]
    },
    {
     "ename": "ValueError",
     "evalue": "operands could not be broadcast together with shapes (4,3) (4,) ",
     "output_type": "error",
     "traceback": [
      "\u001b[1;31m---------------------------------------------------------------------------\u001b[0m",
      "\u001b[1;31mValueError\u001b[0m                                Traceback (most recent call last)",
      "\u001b[1;32m~\\AppData\\Local\\Temp/ipykernel_14132/2675298844.py\u001b[0m in \u001b[0;36m<module>\u001b[1;34m\u001b[0m\n\u001b[0;32m      2\u001b[0m \u001b[0mprint\u001b[0m\u001b[1;33m(\u001b[0m \u001b[0marr\u001b[0m\u001b[1;33m.\u001b[0m\u001b[0mshape\u001b[0m\u001b[1;33m,\u001b[0m \u001b[0mmean_across_col\u001b[0m\u001b[1;33m.\u001b[0m\u001b[0mshape\u001b[0m \u001b[1;33m)\u001b[0m\u001b[1;33m\u001b[0m\u001b[1;33m\u001b[0m\u001b[0m\n\u001b[0;32m      3\u001b[0m \u001b[0mprint\u001b[0m\u001b[1;33m(\u001b[0m \u001b[0mmean_across_col\u001b[0m \u001b[1;33m)\u001b[0m\u001b[1;33m\u001b[0m\u001b[1;33m\u001b[0m\u001b[0m\n\u001b[1;32m----> 4\u001b[1;33m \u001b[0mprint\u001b[0m\u001b[1;33m(\u001b[0m \u001b[0marr\u001b[0m \u001b[1;33m-\u001b[0m \u001b[0mmean_across_col\u001b[0m \u001b[1;33m)\u001b[0m\u001b[1;33m\u001b[0m\u001b[1;33m\u001b[0m\u001b[0m\n\u001b[0m",
      "\u001b[1;31mValueError\u001b[0m: operands could not be broadcast together with shapes (4,3) (4,) "
     ]
    }
   ],
   "source": [
    "mean_across_col = arr.mean(axis=1)\n",
    "print( arr.shape, mean_across_col.shape )\n",
    "print( mean_across_col )\n",
    "print( arr - mean_across_col )"
   ]
  },
  {
   "cell_type": "markdown",
   "metadata": {},
   "source": [
    "数组 `arr` 的形状是 (4, 3)，而沿着列求均值的数组 `mean_across_col` 形状是 (4, )，沿着轴 1，一维数组 `mean_across_col` 却不能广播到数组 `arr` 的所有的列上。"
   ]
  },
  {
   "cell_type": "code",
   "execution_count": 186,
   "metadata": {
    "ExecuteTime": {
     "end_time": "2022-03-07T15:18:48.516318Z",
     "start_time": "2022-03-07T15:18:48.507307Z"
    }
   },
   "outputs": [
    {
     "name": "stdout",
     "output_type": "stream",
     "text": [
      "(4, 3) (4, 1)\n",
      "[[ 1.]\n",
      " [ 4.]\n",
      " [ 7.]\n",
      " [10.]]\n",
      "[[-1.  0.  1.]\n",
      " [-1.  0.  1.]\n",
      " [-1.  0.  1.]\n",
      " [-1.  0.  1.]]\n"
     ]
    }
   ],
   "source": [
    "print( arr.shape, mean_across_col[:,np.newaxis].shape )\n",
    "print( mean_across_col[:,np.newaxis] )\n",
    "print( arr - mean_across_col[:,np.newaxis] )"
   ]
  },
  {
   "cell_type": "markdown",
   "metadata": {},
   "source": [
    "<img src=\"boardcast 2.png\" style=\"width:600px; height:280px;\">"
   ]
  },
  {
   "cell_type": "markdown",
   "metadata": {},
   "source": [
    "### 广播机制规则\n",
    "\n",
    "对两个数组操作时，如果它们的形状\n",
    "\n",
    "- 不相容 (incompatible)，则不能进行广播机制\n",
    "- 相容 (compatible)，则可以进行广播机制\n",
    "\n",
    "进行广播机制分两步：\n",
    "\n",
    "1. 检查两个数组形状兼容性。即从数组的形状的**最后一个元素**开始检查 (如果数组在某个维度上缺失，用 1 补齐)\n",
    "\n",
    "    - 它们是否相等 (**相等条件**)\n",
    "    - 是否有一个等于 1 (**有一条件**)\n",
    "\n",
    "\n",
    "2. 一旦它们形状兼容，确定两个数组的最终一致的形状，其形状在每个维度上的值等于“两个数组的形状在每个维度上的值的最大值”。\n",
    "***\n",
    "\n",
    "<img src=\"boardcast 3.png\" style=\"width:600px; height:300px;\">\n",
    "\n",
    "#### 形状相同"
   ]
  },
  {
   "cell_type": "code",
   "execution_count": 187,
   "metadata": {
    "ExecuteTime": {
     "end_time": "2022-03-07T15:19:22.412529Z",
     "start_time": "2022-03-07T15:19:22.394533Z"
    }
   },
   "outputs": [
    {
     "name": "stdout",
     "output_type": "stream",
     "text": [
      "a 的维度是 1，形状是 (3,)\n",
      "b 的维度是 1，形状是 (3,)\n"
     ]
    }
   ],
   "source": [
    "a = np.array([1,2,3])\n",
    "b = np.array([4,5,6])\n",
    "\n",
    "print( f'a 的维度是 {a.ndim}，形状是 {a.shape}' )\n",
    "print( f'b 的维度是 {b.ndim}，形状是 {b.shape}' )"
   ]
  },
  {
   "cell_type": "markdown",
   "metadata": {},
   "source": [
    "它们形状一样 (维度肯定一样)，因此基于两者的所有操作都可以在元素层面上进行，不需要任何广播机制。"
   ]
  },
  {
   "cell_type": "code",
   "execution_count": 188,
   "metadata": {
    "ExecuteTime": {
     "end_time": "2022-03-07T15:19:25.172404Z",
     "start_time": "2022-03-07T15:19:25.161485Z"
    }
   },
   "outputs": [
    {
     "name": "stdout",
     "output_type": "stream",
     "text": [
      "c 的维度是 1，形状是 (3,)\n",
      "\n",
      "a = [1 2 3]\n",
      "b = [4 5 6]\n",
      "c = a + b = [5 7 9]\n"
     ]
    }
   ],
   "source": [
    "c = a + b\n",
    "print( f'c 的维度是 {c.ndim}，形状是 {c.shape}\\n' )\n",
    "print( f'a = {a}' )\n",
    "print( f'b = {b}' )\n",
    "print( f'c = a + b = {c}' )"
   ]
  },
  {
   "cell_type": "markdown",
   "metadata": {},
   "source": [
    "#### 维度相同，形状不同"
   ]
  },
  {
   "cell_type": "code",
   "execution_count": 189,
   "metadata": {
    "ExecuteTime": {
     "end_time": "2022-03-07T15:19:26.704976Z",
     "start_time": "2022-03-07T15:19:26.686976Z"
    }
   },
   "outputs": [
    {
     "name": "stdout",
     "output_type": "stream",
     "text": [
      "a 的维度是 2，形状是 (1, 3)\n",
      "b 的维度是 2，形状是 (3, 1)\n"
     ]
    }
   ],
   "source": [
    "a = np.array([[1,2,3]])\n",
    "b = np.array([[4],[5],[6]])\n",
    "\n",
    "print( f'a 的维度是 {a.ndim}，形状是 {a.shape}' )\n",
    "print( f'b 的维度是 {b.ndim}，形状是 {b.shape}' )"
   ]
  },
  {
   "cell_type": "markdown",
   "metadata": {},
   "source": [
    "回顾进行广播机制的步骤，首先检查两个数组形状是否兼容，从两个形状元组 (1, 3) 和 (3, 1) 的最后一个元素开始检查，\n",
    "\n",
    "- `a` 的第二维的元素是 3，`b` 的第二维的元素是 1，满足“**有一个等于 1**”的条件。\n",
    "- `a` 的第一维的元素是 1，`b` 的第一维的元素是 3，满足“**有一个等于 1**”的条件。\n",
    "\n",
    "因此它们形状兼容。\n",
    "\n",
    "它们的最终形状为 (max(1,3), max(3,1)) = (3, 3)，即 a 和 b 被扩展成 (3, 3) 的数组。"
   ]
  },
  {
   "cell_type": "code",
   "execution_count": 190,
   "metadata": {
    "ExecuteTime": {
     "end_time": "2022-03-07T15:19:31.394004Z",
     "start_time": "2022-03-07T15:19:31.385006Z"
    }
   },
   "outputs": [
    {
     "name": "stdout",
     "output_type": "stream",
     "text": [
      "c 的维度是 2，形状是 (3, 3)\n",
      "\n",
      "a = [[1 2 3]]\n",
      "b = [[4]\n",
      " [5]\n",
      " [6]]\n",
      "c = a + b = [[5 6 7]\n",
      " [6 7 8]\n",
      " [7 8 9]]\n"
     ]
    }
   ],
   "source": [
    "c = a + b\n",
    "print( f'c 的维度是 {c.ndim}，形状是 {c.shape}\\n' )\n",
    "print( f'a = {a}' )\n",
    "print( f'b = {b}' )\n",
    "print( f'c = a + b = {c}' )"
   ]
  },
  {
   "cell_type": "markdown",
   "metadata": {},
   "source": [
    "#### 维度不同\n",
    "\n",
    "- **例 1**"
   ]
  },
  {
   "cell_type": "code",
   "execution_count": 191,
   "metadata": {
    "ExecuteTime": {
     "end_time": "2022-03-07T15:19:34.502006Z",
     "start_time": "2022-03-07T15:19:34.481006Z"
    }
   },
   "outputs": [
    {
     "name": "stdout",
     "output_type": "stream",
     "text": [
      "[0 1 2 3 4]\n",
      "2\n",
      "a 的维度是 1，形状是 (5,)\n",
      "b 的维度是 0，形状是 ()\n"
     ]
    }
   ],
   "source": [
    "a = np.arange(5)\n",
    "b = np.array(2)\n",
    "\n",
    "print(a)\n",
    "print(b)\n",
    "print( f'a 的维度是 {a.ndim}，形状是 {a.shape}' )\n",
    "print( f'b 的维度是 {b.ndim}，形状是 {b.shape}' )"
   ]
  },
  {
   "cell_type": "markdown",
   "metadata": {},
   "source": [
    "从两个形状元组 (5,) 和 () 的最后一个元素开始检查，\n",
    "\n",
    "- `b` 的维度缺失，用 1 补齐得到 (1,)\n",
    "- `a` 的第一维的元素是 5，`b` 的第一维的元素是 1，满足“**有一个等于 1**”的条件。\n",
    "\n",
    "因此它们形状兼容。\n",
    "\n",
    "它们的最终形状为 (max(5,1),) = (5,)，即 a 和 b 被扩展成 (5,) 的数组。"
   ]
  },
  {
   "cell_type": "code",
   "execution_count": 192,
   "metadata": {
    "ExecuteTime": {
     "end_time": "2022-03-07T15:19:36.531015Z",
     "start_time": "2022-03-07T15:19:36.513016Z"
    }
   },
   "outputs": [
    {
     "name": "stdout",
     "output_type": "stream",
     "text": [
      "c 的维度是 1，形状是 (5,)\n",
      "\n",
      "a = [0 1 2 3 4]\n",
      "b = 2\n",
      "c = a + b = [2 3 4 5 6]\n"
     ]
    }
   ],
   "source": [
    "c = a + b\n",
    "\n",
    "print( f'c 的维度是 {c.ndim}，形状是 {c.shape}\\n' )\n",
    "print( f'a = {a}' )\n",
    "print( f'b = {b}' )\n",
    "print( f'c = a + b = {c}' )"
   ]
  },
  {
   "cell_type": "markdown",
   "metadata": {},
   "source": [
    "- **例 2**"
   ]
  },
  {
   "cell_type": "code",
   "execution_count": 193,
   "metadata": {
    "ExecuteTime": {
     "end_time": "2022-03-07T15:19:37.941896Z",
     "start_time": "2022-03-07T15:19:37.920978Z"
    }
   },
   "outputs": [
    {
     "name": "stdout",
     "output_type": "stream",
     "text": [
      "[[[1 2 3]\n",
      "  [4 5 6]]]\n",
      "[[1 1 1]\n",
      " [2 2 2]\n",
      " [3 3 3]]\n",
      "a 的维度是 3，形状是 (1, 2, 3)\n",
      "b 的维度是 2，形状是 (3, 3)\n"
     ]
    }
   ],
   "source": [
    "a = np.array( [[[1,2,3], [4,5,6]]] )\n",
    "b1 = np.array( [[1,1,1], [2,2,2], [3,3,3]] )\n",
    "\n",
    "print(a)\n",
    "print(b1)\n",
    "print( f'a 的维度是 {a.ndim}，形状是 {a.shape}' )\n",
    "print( f'b 的维度是 {b1.ndim}，形状是 {b1.shape}' )"
   ]
  },
  {
   "cell_type": "markdown",
   "metadata": {},
   "source": [
    "对于数组 `a` 和 `b1`，它们形状是 (1, 2, 3) 和 (3, 3)，从最后一个元素开始检查\n",
    "\n",
    "- 最后一个都是 3，兼容\n",
    "- 倒数第二个是 2 和 3，即不相等，也没有一个是 1，不兼容\n",
    "\n",
    "因此 `a` 和 `b1` 不能进行广播机制。"
   ]
  },
  {
   "cell_type": "code",
   "execution_count": 194,
   "metadata": {
    "ExecuteTime": {
     "end_time": "2022-03-07T15:19:39.774733Z",
     "start_time": "2022-03-07T15:19:39.760735Z"
    }
   },
   "outputs": [
    {
     "ename": "ValueError",
     "evalue": "operands could not be broadcast together with shapes (1,2,3) (3,3) ",
     "output_type": "error",
     "traceback": [
      "\u001b[1;31m---------------------------------------------------------------------------\u001b[0m",
      "\u001b[1;31mValueError\u001b[0m                                Traceback (most recent call last)",
      "\u001b[1;32m~\\AppData\\Local\\Temp/ipykernel_14132/3078784769.py\u001b[0m in \u001b[0;36m<module>\u001b[1;34m\u001b[0m\n\u001b[1;32m----> 1\u001b[1;33m \u001b[0mc1\u001b[0m \u001b[1;33m=\u001b[0m \u001b[0ma\u001b[0m \u001b[1;33m+\u001b[0m \u001b[0mb1\u001b[0m\u001b[1;33m\u001b[0m\u001b[1;33m\u001b[0m\u001b[0m\n\u001b[0m\u001b[0;32m      2\u001b[0m \u001b[0mprint\u001b[0m\u001b[1;33m(\u001b[0m \u001b[1;34mf'c1 的维度是 {c1.ndim}，形状是 {c1.shape}\\n'\u001b[0m \u001b[1;33m)\u001b[0m\u001b[1;33m\u001b[0m\u001b[1;33m\u001b[0m\u001b[0m\n\u001b[0;32m      3\u001b[0m \u001b[0mprint\u001b[0m\u001b[1;33m(\u001b[0m\u001b[0mc1\u001b[0m\u001b[1;33m)\u001b[0m\u001b[1;33m\u001b[0m\u001b[1;33m\u001b[0m\u001b[0m\n",
      "\u001b[1;31mValueError\u001b[0m: operands could not be broadcast together with shapes (1,2,3) (3,3) "
     ]
    }
   ],
   "source": [
    "c1 = a + b1\n",
    "print( f'c1 的维度是 {c1.ndim}，形状是 {c1.shape}\\n' )\n",
    "print(c1)"
   ]
  },
  {
   "cell_type": "markdown",
   "metadata": {},
   "source": [
    "- **例 3**"
   ]
  },
  {
   "cell_type": "code",
   "execution_count": 195,
   "metadata": {
    "ExecuteTime": {
     "end_time": "2022-03-07T15:19:41.411013Z",
     "start_time": "2022-03-07T15:19:41.393012Z"
    }
   },
   "outputs": [
    {
     "name": "stdout",
     "output_type": "stream",
     "text": [
      "[[[1 2 3]\n",
      "  [4 5 6]]]\n",
      "[[0 1 2]]\n",
      "a 的维度是 3，形状是 (1, 2, 3)\n",
      "b 的维度是 2，形状是 (1, 3)\n"
     ]
    }
   ],
   "source": [
    "a = np.array( [[[1,2,3], [4,5,6]]] )\n",
    "b2 = np.arange(3).reshape((1,3))\n",
    "\n",
    "print(a)\n",
    "print(b2)\n",
    "print( f'a 的维度是 {a.ndim}，形状是 {a.shape}' )\n",
    "print( f'b 的维度是 {b2.ndim}，形状是 {b2.shape}' )"
   ]
  },
  {
   "cell_type": "markdown",
   "metadata": {},
   "source": [
    "对于数组 `a` 和 `b2`，它们形状是 (1, 2, 3) 和 (1, 3)，从最后一个元素开始检查\n",
    "\n",
    "- 最后一个都是 3，兼容\n",
    "- 倒数第二个是 2 和 1，有一个是 1，兼容\n",
    "\n",
    "因此 `a` 和 `b2` 可以进行广播机制。"
   ]
  },
  {
   "cell_type": "code",
   "execution_count": 196,
   "metadata": {
    "ExecuteTime": {
     "end_time": "2022-03-07T15:19:43.913608Z",
     "start_time": "2022-03-07T15:19:43.906252Z"
    }
   },
   "outputs": [
    {
     "name": "stdout",
     "output_type": "stream",
     "text": [
      "c2 的维度是 3，形状是 (1, 2, 3)\n",
      "\n",
      "[[[1 3 5]\n",
      "  [4 6 8]]]\n"
     ]
    }
   ],
   "source": [
    "c2 = a + b2\n",
    "print( f'c2 的维度是 {c2.ndim}，形状是 {c2.shape}\\n' )\n",
    "print(c2)"
   ]
  },
  {
   "cell_type": "markdown",
   "metadata": {},
   "source": [
    "- **例 4**"
   ]
  },
  {
   "cell_type": "code",
   "execution_count": 197,
   "metadata": {
    "ExecuteTime": {
     "end_time": "2022-03-07T15:19:46.334101Z",
     "start_time": "2022-03-07T15:19:46.327101Z"
    }
   },
   "outputs": [
    {
     "name": "stdout",
     "output_type": "stream",
     "text": [
      "[[[1 2 3]\n",
      "  [4 5 6]]]\n",
      "[[0 1 2]\n",
      " [3 4 5]]\n",
      "a 的维度是 3，形状是 (1, 2, 3)\n",
      "b 的维度是 2，形状是 (2, 3)\n"
     ]
    }
   ],
   "source": [
    "a = np.array( [[[1,2,3], [4,5,6]]] )\n",
    "b3 = np.arange(6).reshape((2,3))\n",
    "\n",
    "print(a)\n",
    "print(b3)\n",
    "print( f'a 的维度是 {a.ndim}，形状是 {a.shape}' )\n",
    "print( f'b 的维度是 {b3.ndim}，形状是 {b3.shape}' )"
   ]
  },
  {
   "cell_type": "markdown",
   "metadata": {},
   "source": [
    "对于数组 `a` 和 `b3`，它们形状是 (1, 2, 3) 和 (2, 3)，从最后一个元素开始检查\n",
    "\n",
    "- 最后一个都是 3，兼容\n",
    "- 倒数第二个都是 2，兼容\n",
    "\n",
    "因此 `a` 和 `b3` 可以进行广播机制。"
   ]
  },
  {
   "cell_type": "code",
   "execution_count": 198,
   "metadata": {
    "ExecuteTime": {
     "end_time": "2022-03-07T15:19:56.865964Z",
     "start_time": "2022-03-07T15:19:56.849916Z"
    }
   },
   "outputs": [
    {
     "name": "stdout",
     "output_type": "stream",
     "text": [
      "c3 的维度是 3，形状是 (1, 2, 3)\n",
      "\n",
      "[[[ 1  3  5]\n",
      "  [ 7  9 11]]]\n"
     ]
    }
   ],
   "source": [
    "c3 = a + b3\n",
    "print( f'c3 的维度是 {c3.ndim}，形状是 {c3.shape}\\n' )\n",
    "print(c3)"
   ]
  },
  {
   "cell_type": "markdown",
   "metadata": {},
   "source": [
    "- **例 5**"
   ]
  },
  {
   "cell_type": "code",
   "execution_count": 199,
   "metadata": {
    "ExecuteTime": {
     "end_time": "2022-03-07T15:19:58.290027Z",
     "start_time": "2022-03-07T15:19:58.281022Z"
    }
   },
   "outputs": [
    {
     "name": "stdout",
     "output_type": "stream",
     "text": [
      "[[[1 2 3]\n",
      "  [4 5 6]]]\n",
      "[[[ 0  1  2]\n",
      "  [ 3  4  5]]\n",
      "\n",
      " [[ 6  7  8]\n",
      "  [ 9 10 11]]]\n",
      "a 的维度是 3，形状是 (1, 2, 3)\n",
      "b 的维度是 3，形状是 (2, 2, 3)\n"
     ]
    }
   ],
   "source": [
    "a = np.array( [[[1,2,3], [4,5,6]]] )\n",
    "b4 = np.arange(12).reshape((2,2,3))\n",
    "\n",
    "print(a)\n",
    "print(b4)\n",
    "print( f'a 的维度是 {a.ndim}，形状是 {a.shape}' )\n",
    "print( f'b 的维度是 {b4.ndim}，形状是 {b4.shape}' )"
   ]
  },
  {
   "cell_type": "markdown",
   "metadata": {},
   "source": [
    "对于数组 `a` 和 `b4`，它们形状是 (1, 2, 3) 和 (2, 2, 3)，从最后一个元素开始检查\n",
    "\n",
    "- 最后一个都是 3，兼容\n",
    "- 倒数第二个都是 2，兼容\n",
    "- 倒数第三个有一个是 1，兼容\n",
    "\n",
    "因此 `a` 和 `b4` 可以进行广播机制。"
   ]
  },
  {
   "cell_type": "code",
   "execution_count": 200,
   "metadata": {
    "ExecuteTime": {
     "end_time": "2022-03-07T15:20:02.230916Z",
     "start_time": "2022-03-07T15:20:02.216888Z"
    }
   },
   "outputs": [
    {
     "name": "stdout",
     "output_type": "stream",
     "text": [
      "c4 的维度是 3，形状是 (2, 2, 3)\n",
      "\n",
      "[[[ 1  3  5]\n",
      "  [ 7  9 11]]\n",
      "\n",
      " [[ 7  9 11]\n",
      "  [13 15 17]]]\n"
     ]
    }
   ],
   "source": [
    "c4 = a + b4\n",
    "print( f'c4 的维度是 {c4.ndim}，形状是 {c4.shape}\\n' )\n",
    "print(c4)"
   ]
  },
  {
   "cell_type": "markdown",
   "metadata": {},
   "source": [
    "- **例 6**"
   ]
  },
  {
   "cell_type": "code",
   "execution_count": 201,
   "metadata": {
    "ExecuteTime": {
     "end_time": "2022-03-07T15:20:03.428009Z",
     "start_time": "2022-03-07T15:20:03.409089Z"
    }
   },
   "outputs": [
    {
     "name": "stdout",
     "output_type": "stream",
     "text": [
      "[[[1 2 3]\n",
      "  [4 5 6]]]\n",
      "[[[0 1 2]]\n",
      "\n",
      " [[3 4 5]]]\n",
      "a 的维度是 3，形状是 (1, 2, 3)\n",
      "b 的维度是 3，形状是 (2, 1, 3)\n"
     ]
    }
   ],
   "source": [
    "a = np.array( [[[1,2,3], [4,5,6]]] )\n",
    "b5 = np.arange(6).reshape((2,1,3))\n",
    "\n",
    "print(a)\n",
    "print(b5)\n",
    "print( f'a 的维度是 {a.ndim}，形状是 {a.shape}' )\n",
    "print( f'b 的维度是 {b5.ndim}，形状是 {b5.shape}' )"
   ]
  },
  {
   "cell_type": "markdown",
   "metadata": {},
   "source": [
    "对于数组 `a` 和 `b5`，它们形状是 (1, 2, 3) 和 (2, 1, 3)，从最后一个元素开始检查\n",
    "\n",
    "- 最后一个都是 3，兼容\n",
    "- 倒数第二个有一个是 1，兼容\n",
    "- 倒数第三个有一个是 1，兼容\n",
    "\n",
    "因此 `a` 和 `b5` 可以进行广播机制。"
   ]
  },
  {
   "cell_type": "code",
   "execution_count": 202,
   "metadata": {
    "ExecuteTime": {
     "end_time": "2022-03-07T15:20:07.273003Z",
     "start_time": "2022-03-07T15:20:07.263003Z"
    }
   },
   "outputs": [
    {
     "name": "stdout",
     "output_type": "stream",
     "text": [
      "[[[ 1  3  5]\n",
      "  [ 4  6  8]]\n",
      "\n",
      " [[ 4  6  8]\n",
      "  [ 7  9 11]]] \n",
      "\n",
      "(2, 2, 3)\n"
     ]
    }
   ],
   "source": [
    "c5 = a + b5\n",
    "print(c5 ,'\\n')\n",
    "print(c5.shape)"
   ]
  },
  {
   "cell_type": "markdown",
   "metadata": {},
   "source": [
    "- **例 7**"
   ]
  },
  {
   "cell_type": "code",
   "execution_count": 203,
   "metadata": {
    "ExecuteTime": {
     "end_time": "2022-03-07T15:20:08.628075Z",
     "start_time": "2022-03-07T15:20:08.608103Z"
    }
   },
   "outputs": [
    {
     "name": "stdout",
     "output_type": "stream",
     "text": [
      "[[[ 0  1  2  3]\n",
      "  [ 4  5  6  7]\n",
      "  [ 8  9 10 11]]\n",
      "\n",
      " [[12 13 14 15]\n",
      "  [16 17 18 19]\n",
      "  [20 21 22 23]]]\n"
     ]
    }
   ],
   "source": [
    "arr3d = np.arange(24).reshape(2,3,4)\n",
    "print(arr3d)"
   ]
  },
  {
   "cell_type": "markdown",
   "metadata": {},
   "source": [
    "<img src=\"broadcast.PNG\" style=\"width:400px; height:450px;\">\n",
    "\n",
    "对形状为 `(2,3,4)` 的三维数组, 能够沿着**轴 0** 传播的数组形状是 `(3,4)` 或者 `(1,3,4)`。"
   ]
  },
  {
   "cell_type": "code",
   "execution_count": 204,
   "metadata": {
    "ExecuteTime": {
     "end_time": "2022-03-07T15:20:27.919022Z",
     "start_time": "2022-03-07T15:20:27.911023Z"
    }
   },
   "outputs": [
    {
     "name": "stdout",
     "output_type": "stream",
     "text": [
      "[[100 100 100 100]\n",
      " [100 100 100 100]\n",
      " [100 100 100 100]]\n"
     ]
    }
   ],
   "source": [
    "arr_on_axis0 = 100*np.ones((3,4),dtype=np.int32)\n",
    "print(arr_on_axis0)"
   ]
  },
  {
   "cell_type": "code",
   "execution_count": 205,
   "metadata": {
    "ExecuteTime": {
     "end_time": "2022-03-07T15:20:28.953761Z",
     "start_time": "2022-03-07T15:20:28.933769Z"
    }
   },
   "outputs": [
    {
     "name": "stdout",
     "output_type": "stream",
     "text": [
      "[[[100 101 102 103]\n",
      "  [104 105 106 107]\n",
      "  [108 109 110 111]]\n",
      "\n",
      " [[112 113 114 115]\n",
      "  [116 117 118 119]\n",
      "  [120 121 122 123]]]\n"
     ]
    }
   ],
   "source": [
    "print(arr3d + arr_on_axis0)"
   ]
  },
  {
   "cell_type": "code",
   "execution_count": 206,
   "metadata": {
    "ExecuteTime": {
     "end_time": "2022-03-07T15:20:31.551108Z",
     "start_time": "2022-03-07T15:20:31.534034Z"
    }
   },
   "outputs": [
    {
     "name": "stdout",
     "output_type": "stream",
     "text": [
      "[[[100 101 102 103]\n",
      "  [104 105 106 107]\n",
      "  [108 109 110 111]]\n",
      "\n",
      " [[112 113 114 115]\n",
      "  [116 117 118 119]\n",
      "  [120 121 122 123]]]\n"
     ]
    }
   ],
   "source": [
    "print(arr3d + arr_on_axis0[np.newaxis,:,:])"
   ]
  },
  {
   "cell_type": "markdown",
   "metadata": {},
   "source": [
    "对形状为 `(2,3,4)` 的三维数组, 能够沿着**轴 1** 传播的数组形状是 `(2,1,4)`，不能是 `(2,4)`。"
   ]
  },
  {
   "cell_type": "code",
   "execution_count": 207,
   "metadata": {
    "ExecuteTime": {
     "end_time": "2022-03-07T15:20:47.377168Z",
     "start_time": "2022-03-07T15:20:47.362032Z"
    }
   },
   "outputs": [
    {
     "name": "stdout",
     "output_type": "stream",
     "text": [
      "[[100 100 100 100]\n",
      " [100 100 100 100]]\n"
     ]
    }
   ],
   "source": [
    "arr_on_axis1 = 100*np.ones((2,4),dtype=np.int32)\n",
    "print(arr_on_axis1)"
   ]
  },
  {
   "cell_type": "code",
   "execution_count": 208,
   "metadata": {
    "ExecuteTime": {
     "end_time": "2022-03-07T15:20:48.247399Z",
     "start_time": "2022-03-07T15:20:48.222351Z"
    }
   },
   "outputs": [
    {
     "ename": "ValueError",
     "evalue": "operands could not be broadcast together with shapes (2,3,4) (2,4) ",
     "output_type": "error",
     "traceback": [
      "\u001b[1;31m---------------------------------------------------------------------------\u001b[0m",
      "\u001b[1;31mValueError\u001b[0m                                Traceback (most recent call last)",
      "\u001b[1;32m~\\AppData\\Local\\Temp/ipykernel_14132/3687493028.py\u001b[0m in \u001b[0;36m<module>\u001b[1;34m\u001b[0m\n\u001b[1;32m----> 1\u001b[1;33m \u001b[0mprint\u001b[0m\u001b[1;33m(\u001b[0m\u001b[0marr3d\u001b[0m \u001b[1;33m+\u001b[0m \u001b[0marr_on_axis1\u001b[0m\u001b[1;33m)\u001b[0m\u001b[1;33m\u001b[0m\u001b[1;33m\u001b[0m\u001b[0m\n\u001b[0m",
      "\u001b[1;31mValueError\u001b[0m: operands could not be broadcast together with shapes (2,3,4) (2,4) "
     ]
    }
   ],
   "source": [
    "print(arr3d + arr_on_axis1)"
   ]
  },
  {
   "cell_type": "code",
   "execution_count": 209,
   "metadata": {
    "ExecuteTime": {
     "end_time": "2022-03-07T15:20:49.169213Z",
     "start_time": "2022-03-07T15:20:49.155055Z"
    }
   },
   "outputs": [
    {
     "name": "stdout",
     "output_type": "stream",
     "text": [
      "[[[100 101 102 103]\n",
      "  [104 105 106 107]\n",
      "  [108 109 110 111]]\n",
      "\n",
      " [[112 113 114 115]\n",
      "  [116 117 118 119]\n",
      "  [120 121 122 123]]]\n"
     ]
    }
   ],
   "source": [
    "print(arr3d + arr_on_axis1[:,np.newaxis,:])"
   ]
  },
  {
   "cell_type": "markdown",
   "metadata": {},
   "source": [
    "对形状为 `(2,3,4)` 的三维数组, 能够沿着**轴 2** 传播的数组形状是 `(2,3,1)`，不能是 `(2,3)`。"
   ]
  },
  {
   "cell_type": "code",
   "execution_count": 210,
   "metadata": {
    "ExecuteTime": {
     "end_time": "2022-03-07T15:20:53.296069Z",
     "start_time": "2022-03-07T15:20:53.281037Z"
    }
   },
   "outputs": [
    {
     "name": "stdout",
     "output_type": "stream",
     "text": [
      "[[100 100 100]\n",
      " [100 100 100]]\n"
     ]
    }
   ],
   "source": [
    "arr_on_axis2 = 100*np.ones((2,3),dtype=np.int32)\n",
    "print(arr_on_axis2)"
   ]
  },
  {
   "cell_type": "code",
   "execution_count": 211,
   "metadata": {
    "ExecuteTime": {
     "end_time": "2022-03-07T15:20:53.925391Z",
     "start_time": "2022-03-07T15:20:53.914337Z"
    }
   },
   "outputs": [
    {
     "ename": "ValueError",
     "evalue": "operands could not be broadcast together with shapes (2,3,4) (2,3) ",
     "output_type": "error",
     "traceback": [
      "\u001b[1;31m---------------------------------------------------------------------------\u001b[0m",
      "\u001b[1;31mValueError\u001b[0m                                Traceback (most recent call last)",
      "\u001b[1;32m~\\AppData\\Local\\Temp/ipykernel_14132/2841881764.py\u001b[0m in \u001b[0;36m<module>\u001b[1;34m\u001b[0m\n\u001b[1;32m----> 1\u001b[1;33m \u001b[0mprint\u001b[0m\u001b[1;33m(\u001b[0m\u001b[0marr3d\u001b[0m \u001b[1;33m+\u001b[0m \u001b[0marr_on_axis2\u001b[0m\u001b[1;33m)\u001b[0m\u001b[1;33m\u001b[0m\u001b[1;33m\u001b[0m\u001b[0m\n\u001b[0m",
      "\u001b[1;31mValueError\u001b[0m: operands could not be broadcast together with shapes (2,3,4) (2,3) "
     ]
    }
   ],
   "source": [
    "print(arr3d + arr_on_axis2)"
   ]
  },
  {
   "cell_type": "code",
   "execution_count": 212,
   "metadata": {
    "ExecuteTime": {
     "end_time": "2022-03-07T15:20:54.578043Z",
     "start_time": "2022-03-07T15:20:54.560070Z"
    }
   },
   "outputs": [
    {
     "name": "stdout",
     "output_type": "stream",
     "text": [
      "[[[100 101 102 103]\n",
      "  [104 105 106 107]\n",
      "  [108 109 110 111]]\n",
      "\n",
      " [[112 113 114 115]\n",
      "  [116 117 118 119]\n",
      "  [120 121 122 123]]]\n"
     ]
    }
   ],
   "source": [
    "print(arr3d + arr_on_axis2[:,:,np.newaxis])"
   ]
  },
  {
   "cell_type": "markdown",
   "metadata": {},
   "source": [
    "### 用广播机制赋值\n",
    "\n",
    "赋值操作时用到的广播机制规则和算术运算时用到的一样。如下例将标量 5 赋值给形状为 (4,3) 的二维数组。"
   ]
  },
  {
   "cell_type": "code",
   "execution_count": 213,
   "metadata": {
    "ExecuteTime": {
     "end_time": "2022-03-07T15:21:01.596091Z",
     "start_time": "2022-03-07T15:21:01.578038Z"
    }
   },
   "outputs": [
    {
     "data": {
      "text/plain": [
       "array([[5., 5., 5.],\n",
       "       [5., 5., 5.],\n",
       "       [5., 5., 5.],\n",
       "       [5., 5., 5.]])"
      ]
     },
     "execution_count": 213,
     "metadata": {},
     "output_type": "execute_result"
    }
   ],
   "source": [
    "arr = np.zeros((4, 3))\n",
    "arr[:] = 5\n",
    "arr"
   ]
  },
  {
   "cell_type": "markdown",
   "metadata": {},
   "source": [
    "对于标量 `5` 和数组 `arr`，它们形状是 () 和 (4, 3)。因为标量的维度缺失，需要补齐得到 (1, 1)。从最后一个元素开始检查\n",
    "\n",
    "- 最后一个有一个是 1，兼容\n",
    "- 倒数第二个有一个是 1，兼容\n",
    "\n",
    "因此 `5` 和 `arr` 可以进行广播机制。"
   ]
  },
  {
   "cell_type": "markdown",
   "metadata": {},
   "source": [
    "此外，还可以用一维数组来给二维数组 `arr` 的行或列赋值，只要符合广播机制规则。 \n",
    "\n",
    "首先来看**沿着行**做广播机制。"
   ]
  },
  {
   "cell_type": "code",
   "execution_count": 214,
   "metadata": {
    "ExecuteTime": {
     "end_time": "2022-03-07T15:21:04.799086Z",
     "start_time": "2022-03-07T15:21:04.777112Z"
    }
   },
   "outputs": [
    {
     "name": "stdout",
     "output_type": "stream",
     "text": [
      "(3,)\n"
     ]
    },
    {
     "data": {
      "text/plain": [
       "array([[1., 2., 3.],\n",
       "       [1., 2., 3.],\n",
       "       [1., 2., 3.],\n",
       "       [1., 2., 3.]])"
      ]
     },
     "execution_count": 214,
     "metadata": {},
     "output_type": "execute_result"
    }
   ],
   "source": [
    "row = np.array([1, 2, 3])\n",
    "print(row.shape)\n",
    "arr[:] = row\n",
    "arr"
   ]
  },
  {
   "cell_type": "markdown",
   "metadata": {},
   "source": [
    "对于 `row` 和 `arr`，它们形状是 (3,) 和 (4, 3)，从最后一个元素开始检查\n",
    "\n",
    "- 最后一个都是 3，兼容\n",
    "\n",
    "因此 `row` 和 `arr` 可以进行广播机制。\n",
    "\n",
    "再来看**沿着列**做广播机制。"
   ]
  },
  {
   "cell_type": "code",
   "execution_count": 215,
   "metadata": {
    "ExecuteTime": {
     "end_time": "2022-03-07T15:21:08.862084Z",
     "start_time": "2022-03-07T15:21:08.840035Z"
    }
   },
   "outputs": [
    {
     "ename": "ValueError",
     "evalue": "could not broadcast input array from shape (4,) into shape (4,3)",
     "output_type": "error",
     "traceback": [
      "\u001b[1;31m---------------------------------------------------------------------------\u001b[0m",
      "\u001b[1;31mValueError\u001b[0m                                Traceback (most recent call last)",
      "\u001b[1;32m~\\AppData\\Local\\Temp/ipykernel_14132/1548855675.py\u001b[0m in \u001b[0;36m<module>\u001b[1;34m\u001b[0m\n\u001b[0;32m      1\u001b[0m \u001b[0mcol\u001b[0m \u001b[1;33m=\u001b[0m \u001b[0mnp\u001b[0m\u001b[1;33m.\u001b[0m\u001b[0marray\u001b[0m\u001b[1;33m(\u001b[0m\u001b[1;33m[\u001b[0m\u001b[1;36m1\u001b[0m\u001b[1;33m,\u001b[0m \u001b[1;36m2\u001b[0m\u001b[1;33m,\u001b[0m \u001b[1;36m3\u001b[0m\u001b[1;33m,\u001b[0m \u001b[1;36m4\u001b[0m\u001b[1;33m]\u001b[0m\u001b[1;33m)\u001b[0m\u001b[1;33m\u001b[0m\u001b[1;33m\u001b[0m\u001b[0m\n\u001b[1;32m----> 2\u001b[1;33m \u001b[0marr\u001b[0m\u001b[1;33m[\u001b[0m\u001b[1;33m:\u001b[0m\u001b[1;33m]\u001b[0m \u001b[1;33m=\u001b[0m \u001b[0mcol\u001b[0m\u001b[1;33m\u001b[0m\u001b[1;33m\u001b[0m\u001b[0m\n\u001b[0m\u001b[0;32m      3\u001b[0m \u001b[0marr\u001b[0m\u001b[1;33m\u001b[0m\u001b[1;33m\u001b[0m\u001b[0m\n",
      "\u001b[1;31mValueError\u001b[0m: could not broadcast input array from shape (4,) into shape (4,3)"
     ]
    }
   ],
   "source": [
    "col = np.array([1, 2, 3, 4])\n",
    "arr[:] = col\n",
    "arr"
   ]
  },
  {
   "cell_type": "markdown",
   "metadata": {},
   "source": [
    "对于 `col` 和 `arr`，它们形状是 (4,) 和 (4,3)，从最后一个元素开始检查\n",
    "\n",
    "- 最后一个是 3 和 4，不兼容\n",
    "\n",
    "因此 `col` 和 `arr` 不能进行广播机制。\n",
    "\n",
    "若要**沿着列**做广播机制，可以将 `col` 升维到 (4,1)，用 `np.newaxis` 再轴 1 上扩展一维。"
   ]
  },
  {
   "cell_type": "code",
   "execution_count": 216,
   "metadata": {
    "ExecuteTime": {
     "end_time": "2022-03-07T15:21:12.788683Z",
     "start_time": "2022-03-07T15:21:12.771684Z"
    }
   },
   "outputs": [
    {
     "data": {
      "text/plain": [
       "array([[1., 1., 1.],\n",
       "       [2., 2., 2.],\n",
       "       [3., 3., 3.],\n",
       "       [4., 4., 4.]])"
      ]
     },
     "execution_count": 216,
     "metadata": {},
     "output_type": "execute_result"
    }
   ],
   "source": [
    "col = np.array([1, 2, 3, 4])\n",
    "arr[:] = col[:, np.newaxis]\n",
    "arr"
   ]
  },
  {
   "cell_type": "markdown",
   "metadata": {},
   "source": [
    "只要等号两边的数组形状符合广播机制规则，赋值都是没问题的。"
   ]
  },
  {
   "cell_type": "code",
   "execution_count": 217,
   "metadata": {
    "ExecuteTime": {
     "end_time": "2022-03-07T15:21:14.947126Z",
     "start_time": "2022-03-07T15:21:14.929036Z"
    }
   },
   "outputs": [
    {
     "data": {
      "text/plain": [
       "array([[   1.,    1.,    1.],\n",
       "       [-100., -100., -100.],\n",
       "       [ 100.,  100.,  100.],\n",
       "       [   4.,    4.,    4.]])"
      ]
     },
     "execution_count": 217,
     "metadata": {},
     "output_type": "execute_result"
    }
   ],
   "source": [
    "arr[1:3] = np.array([[-100], [100]])\n",
    "arr"
   ]
  },
  {
   "cell_type": "markdown",
   "metadata": {},
   "source": [
    "打印出两个数组的形状为 (2, 3) 和 (2, 1)，很显然符合广播机制规则。"
   ]
  },
  {
   "cell_type": "code",
   "execution_count": 218,
   "metadata": {
    "ExecuteTime": {
     "end_time": "2022-03-07T15:21:16.556609Z",
     "start_time": "2022-03-07T15:21:16.543352Z"
    }
   },
   "outputs": [
    {
     "data": {
      "text/plain": [
       "((2, 3), (2, 1))"
      ]
     },
     "execution_count": 218,
     "metadata": {},
     "output_type": "execute_result"
    }
   ],
   "source": [
    "arr[1:3].shape, np.array([[-100], [100]]).shape"
   ]
  },
  {
   "cell_type": "markdown",
   "metadata": {},
   "source": [
    "# Cheatsheet \n",
    "\n",
    "<img src=\"NumPy.png\" style=\"width:1000;height:1000;\">"
   ]
  }
 ],
 "metadata": {
  "kernelspec": {
   "display_name": "Python 3 (ipykernel)",
   "language": "python",
   "name": "python3"
  },
  "language_info": {
   "codemirror_mode": {
    "name": "ipython",
    "version": 3
   },
   "file_extension": ".py",
   "mimetype": "text/x-python",
   "name": "python",
   "nbconvert_exporter": "python",
   "pygments_lexer": "ipython3",
   "version": "3.9.7"
  },
  "toc": {
   "base_numbering": 1,
   "nav_menu": {},
   "number_sections": true,
   "sideBar": true,
   "skip_h1_title": false,
   "title_cell": "Table of Contents",
   "title_sidebar": "Contents",
   "toc_cell": false,
   "toc_position": {
    "height": "calc(100% - 180px)",
    "left": "10px",
    "top": "150px",
    "width": "293.523px"
   },
   "toc_section_display": true,
   "toc_window_display": true
  },
  "toc-autonumbering": true,
  "toc-showcode": false,
  "toc-showtags": false,
  "varInspector": {
   "cols": {
    "lenName": 16,
    "lenType": 16,
    "lenVar": 40
   },
   "kernels_config": {
    "python": {
     "delete_cmd_postfix": "",
     "delete_cmd_prefix": "del ",
     "library": "var_list.py",
     "varRefreshCmd": "print(var_dic_list())"
    },
    "r": {
     "delete_cmd_postfix": ") ",
     "delete_cmd_prefix": "rm(",
     "library": "var_list.r",
     "varRefreshCmd": "cat(var_dic_list()) "
    }
   },
   "types_to_exclude": [
    "module",
    "function",
    "builtin_function_or_method",
    "instance",
    "_Feature"
   ],
   "window_display": false
  }
 },
 "nbformat": 4,
 "nbformat_minor": 4
}
